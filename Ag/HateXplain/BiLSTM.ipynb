{
 "cells": [
  {
   "cell_type": "code",
   "execution_count": 2,
   "metadata": {},
   "outputs": [],
   "source": [
    "import torch\n",
    "import math\n",
    "from d2l import torch as d2l\n",
    "from torch import nn\n",
    "import pandas as pd\n",
    "import sys\n",
    "sys.path.append(\"D:/Experiment\")\n",
    "from MyKu import training\n",
    "from MyKu import processing\n",
    "from tqdm import tqdm\n"
   ]
  },
  {
   "cell_type": "code",
   "execution_count": 3,
   "metadata": {},
   "outputs": [],
   "source": [
    "from sklearn.model_selection import train_test_split\n",
    "\n",
    "data = processing.get_HateXplain_train_data()\n",
    "train_data, test_data = train_test_split(data, test_size=0.2)\n"
   ]
  },
  {
   "cell_type": "code",
   "execution_count": 4,
   "metadata": {},
   "outputs": [],
   "source": [
    "glove_embedding = processing.TokenEmbedding('glove.6b.300d')\n"
   ]
  },
  {
   "cell_type": "code",
   "execution_count": 5,
   "metadata": {},
   "outputs": [],
   "source": [
    "from torch.utils.data import Dataset, DataLoader\n",
    "class BiLSTMDataset(Dataset):\n",
    "    def __init__(self, dataset):\n",
    "        self.dataset = dataset\n",
    "        self.data_size = len(dataset)\n",
    "\n",
    "    def __len__(self):\n",
    "        return self.data_size\n",
    "\n",
    "    def __getitem__(self, index):\n",
    "        # 这里可以自行定义，Dataloader会使用__getitem__(self, index)获取数据\n",
    "        # 这里我设置 self.dataset[index] 规定了数据是按序号取得，序号是多少DataLoader自己算，用户不用操心\n",
    "        return self.dataset[index]\n",
    "\n",
    "\n",
    "def coffate_fn(examples):\n",
    "    inputs, targets = [], []\n",
    "    for sent, polar in examples:\n",
    "        inputs.append(sent)\n",
    "        targets.append(polar)\n",
    "    \n",
    "    # inputs = tokenizer(inputs,\n",
    "    #                    padding=True,\n",
    "    #                    truncation=True,\n",
    "    #                    return_tensors=\"pt\",\n",
    "    #                    max_length=80)\n",
    "    inputs = d2l.tokenize(inputs, token='word')\n",
    "    vocab = processing.Vocab(inputs, min_freq=3)\n",
    "    inputs = [d2l.truncate_pad(vocab[line], 80, vocab['<pad>']) for line in inputs]\n",
    "    inputs = torch.tensor(inputs)\n",
    "    targets = torch.tensor(targets)\n",
    "    return inputs, targets\n"
   ]
  },
  {
   "cell_type": "code",
   "execution_count": 6,
   "metadata": {},
   "outputs": [],
   "source": [
    "\n",
    "class BiRNN(nn.Module):\n",
    "    def __init__(self, vocab_size, embed_size, num_hiddens, output_dim, max_length, num_layers, dropout, **kwargs):\n",
    "        super(BiRNN, self).__init__()\n",
    "        self.embedding = nn.Embedding(vocab_size, embed_size)\n",
    "        self.LSTM = nn.LSTM(embed_size, num_hiddens, num_layers=num_layers,\n",
    "                            bidirectional=True, dropout=dropout, batch_first=True)\n",
    "        self.n_class = output_dim\n",
    "        self.decoder1 = nn.Linear(num_hiddens * 4, max_length)\n",
    "        self.decoder2 = nn.Linear(num_hiddens, self.n_class)\n",
    "        self.weight_W = nn.Parameter(torch.Tensor(embed_size, embed_size))\n",
    "        self.weight_proj = nn.Parameter(torch.Tensor(embed_size, max_length))\n",
    "        self.U = nn.Parameter(torch.Tensor(max_length, output_dim))\n",
    "        self.V = nn.Parameter(torch.Tensor(max_length, output_dim))\n",
    "        self.g = nn.Parameter(torch.Tensor(output_dim))\n",
    "        self.W_f = nn.Parameter(torch.Tensor(output_dim, output_dim))\n",
    "        self.bias = nn.Parameter(torch.Tensor(output_dim))\n",
    "        nn.init.uniform_(self.weight_W, -0.1, 0.1)\n",
    "        nn.init.uniform_(self.weight_proj, -0.1, 0.1)\n",
    "        nn.init.uniform_(self.U, -0.1, 0.1)\n",
    "        nn.init.uniform_(self.V, -0.1, 0.1)\n",
    "        nn.init.uniform_(self.g, -0.1, 0.1)\n",
    "        nn.init.uniform_(self.W_f, -0.1, 0.1)\n",
    "        nn.init.uniform_(self.bias, -0.1, 0.1)\n",
    "\n",
    "    def forward(self, inputs):  # inputs torch.Size([64, 40])\n",
    "        # input torch.Size([64, 40, 300])\n",
    "        input = self.embedding(inputs.permute(1, 0))\n",
    "        # w torch.Size([64, 40, 300])\n",
    "        w = torch.tanh(torch.matmul(input, self.weight_W))\n",
    "        # w torch.Size([64, 40, 40])\n",
    "        self_matching = torch.matmul(w, self.weight_proj)\n",
    "        # att_score torch.Size([64, 40])\n",
    "        att_score, idxs = torch.max(self_matching, dim=1)\n",
    "        self.LSTM.flatten_parameters()\n",
    "        outputs, _ = self.LSTM(input)  # outputs torch.Size([64, 11, 400])\n",
    "        # output torch.Size([64, 800])\n",
    "        output = torch.cat((outputs[:, 0, :], outputs[:, -1, :]), dim=1)\n",
    "        output = self.decoder1(output)      # output torch.Size([64, max])\n",
    "        # outs = self.decoder2(output)\n",
    "        # self_matching_out torch.Size([64, max])\n",
    "        self_matching_out = att_score.mul(output)\n",
    "        # outs = torch.cat((output, self_matching_out), dim=-1)\n",
    "        # output torch.Size([64, 2])\n",
    "        f_a = torch.matmul(self_matching_out, self.U)\n",
    "        f_b = torch.matmul(output, self.V)  # output torch.Size([64, 2])\n",
    "        f = f_a.mul(f_b) + self.g   # output torch.Size([64, 2])\n",
    "        outs = torch.softmax(torch.matmul(f, self.W_f) + self.bias, dim=1)\n",
    "        return outs\n"
   ]
  },
  {
   "cell_type": "code",
   "execution_count": 7,
   "metadata": {},
   "outputs": [
    {
     "name": "stderr",
     "output_type": "stream",
     "text": [
      "d:\\Software\\anaconda3\\envs\\pytorch_env\\lib\\site-packages\\torch\\nn\\modules\\rnn.py:62: UserWarning: dropout option adds dropout after all but last recurrent layer, so non-zero dropout expects num_layers greater than 1, but got dropout=0.5 and num_layers=1\n",
      "  warnings.warn(\"dropout option adds dropout after all but last \"\n"
     ]
    }
   ],
   "source": [
    "batch_size = 64\n",
    "device = torch.device(\"cuda\" if torch.cuda.is_available() else \"cpu\")\n",
    "\n",
    "train_dataset = BiLSTMDataset(train_data)\n",
    "test_dataset = BiLSTMDataset(test_data)\n",
    "train_dataloader = DataLoader(\n",
    "    train_dataset, batch_size=batch_size, collate_fn=coffate_fn, shuffle=True)\n",
    "test_dataloader = DataLoader(test_dataset, batch_size=64, collate_fn=coffate_fn)\n",
    "\n",
    "\n",
    "inputs = []\n",
    "for sent, polar in train_data:\n",
    "    inputs.append(sent)\n",
    "train_tokens = inputs\n",
    "vocab = processing.Vocab(train_tokens, min_freq=3)\n",
    "len(vocab)\n",
    "\n",
    "num_hiddens, output_dim, max_length, num_layers, dropout = 100, 2, 60, 1, 0.5\n",
    "net = BiRNN(len(vocab), 300, num_hiddens, output_dim, max_length, num_layers, dropout)\n",
    "net.to(device)\n",
    "def init_weights(m):\n",
    "    if type(m) == nn.Linear:\n",
    "        nn.init.xavier_normal_(m.weight)\n",
    "    if type(m) == nn.LSTM:\n",
    "        for param in m._flat_weights_names:\n",
    "            if \"weight\" in param:\n",
    "                nn.init.xavier_normal_(m._parameters[param])\n",
    "\n",
    "\n",
    "net.apply(init_weights)\n",
    "\n",
    "embeds = glove_embedding[vocab.idx_to_token]\n",
    "embeds.shape\n",
    "net.embedding.weight.data.copy_(embeds)\n",
    "net.embedding.weight.requires_grad = False\n"
   ]
  },
  {
   "cell_type": "code",
   "execution_count": 8,
   "metadata": {},
   "outputs": [],
   "source": [
    "def train(model, train_iter, optimizer, loss, epoch):\n",
    "    model.train()\n",
    "    epoch_loss = 0\n",
    "    num_sample = 0\n",
    "    correct = 0\n",
    "    for batch in tqdm(train_iter, desc=f\"Training Epoch {epoch}\", colour='red'):\n",
    "        optimizer.zero_grad()\n",
    "        text, text_len = batch.tweet\n",
    "        label = batch.subtask_a\n",
    "        # text, text_len = batch.text\n",
    "        # label = batch.task1\n",
    "        output = model(text)\n",
    "        pred_y = torch.argmax(output, dim=1)\n",
    "        correct += torch.sum(pred_y == label)\n",
    "        l = loss(output, label)\n",
    "        l.backward()\n",
    "        epoch_loss += l.item()\n",
    "        num_sample += len(batch)\n",
    "        optimizer.step()\n",
    "    print(\n",
    "        f'\\tTrain Loss: {epoch_loss / num_sample:.3f} | Train Acc: {correct.float() / num_sample* 100:.2f}%')\n",
    "\n",
    "\n",
    "def test(model, test_iter):\n",
    "    true_y, pred_y = [], []\n",
    "    for batch in tqdm(test_iter, desc=f\"Testing\", colour='green'):\n",
    "        text, text_len = batch.tweet\n",
    "        label = batch.label\n",
    "        # text, text_len = batch.text\n",
    "        # label = batch.task1\n",
    "        with torch.no_grad():\n",
    "            output = model(text)\n",
    "            pred_y.extend(output.argmax(dim=1).tolist())\n",
    "            true_y.extend(label.tolist())\n",
    "    print(metrics.confusion_matrix(true_y, pred_y))\n",
    "    print(metrics.classification_report(true_y, pred_y))\n",
    "    print(f'Acc : {metrics.accuracy_score(true_y, pred_y)}\\t F1: {metrics.f1_score(true_y, pred_y, average=\"macro\")}')\n"
   ]
  },
  {
   "cell_type": "code",
   "execution_count": 9,
   "metadata": {},
   "outputs": [
    {
     "name": "stderr",
     "output_type": "stream",
     "text": [
      "Training Epoch 1:   0%|\u001b[31m          \u001b[0m| 0/252 [00:00<?, ?it/s]"
     ]
    },
    {
     "ename": "",
     "evalue": "",
     "output_type": "error",
     "traceback": [
      "\u001b[1;31mCanceled future for execute_request message before replies were done"
     ]
    },
    {
     "ename": "",
     "evalue": "",
     "output_type": "error",
     "traceback": [
      "\u001b[1;31mThe Kernel crashed while executing code in the the current cell or a previous cell. Please review the code in the cell(s) to identify a possible cause of the failure. Click <a href='https://aka.ms/vscodeJupyterKernelCrash'>here</a> for more info. View Jupyter <a href='command:jupyter.viewOutput'>log</a> for further details."
     ]
    }
   ],
   "source": [
    "lr, num_epochs = 0.0001, 20\n",
    "trainer = torch.optim.Adam(net.parameters(), lr=lr)\n",
    "loss = nn.CrossEntropyLoss()\n",
    "for epoch in range(1, num_epochs + 1):\n",
    "    train(net, train_dataloader, loss, trainer, epoch, device)\n",
    "    test(net, test_dataloader, epoch, device)\n"
   ]
  },
  {
   "cell_type": "code",
   "execution_count": null,
   "metadata": {},
   "outputs": [
    {
     "name": "stdout",
     "output_type": "stream",
     "text": [
      "[0, 9, 2, 0, 0, 3, 34, 0, 11, 5, 35, 0, 3, 0, 0, 12, 0, 0, 47, 0, 13, 0, 0, 0, 0, 17, 0, 0, 0, 5, 0, 17, 3, 0, 36, 11, 18, 5, 0, 48, 17, 0, 6, 0, 3, 0, 3, 34, 0, 26, 37, 49, 0, 0, 0, 0, 0, 0, 0, 0, 0, 0, 0, 0, 0, 0, 0, 0, 0, 0, 0, 0, 0, 0, 0, 0, 0, 0, 0, 0]\n",
      "['<unk>', 'women', 'to', '<unk>', '<unk>', 'a', 'its', '<unk>', 'in', 'you', 'if', '<unk>', 'a', '<unk>', '<unk>', 'that', '<unk>', '<unk>', 'no', '<unk>', 'it', '<unk>', '<unk>', '<unk>', '<unk>', 'this', '<unk>', '<unk>', '<unk>', 'you', '<unk>', 'this', 'a', '<unk>', 'woman', 'in', 'me', 'you', '<unk>', 'what', 'this', '<unk>', 'i', '<unk>', 'a', '<unk>', 'a', 'its', '<unk>', 'dont', 'was', 'when', '<unk>', '<unk>', '<unk>', '<unk>', '<unk>', '<unk>', '<unk>', '<unk>', '<unk>', '<unk>', '<unk>', '<unk>', '<unk>', '<unk>', '<unk>', '<unk>', '<unk>', '<unk>', '<unk>', '<unk>', '<unk>', '<unk>', '<unk>', '<unk>', '<unk>', '<unk>', '<unk>', '<unk>']\n"
     ]
    }
   ],
   "source": [
    "\n",
    "temp = []\n",
    "for index in train_dataloader:\n",
    "    temp = index[0][0]\n",
    "    break\n",
    "\n",
    "print(temp.tolist())\n",
    "print(vocab.to_tokens(temp.tolist()))"
   ]
  },
  {
   "cell_type": "code",
   "execution_count": null,
   "metadata": {},
   "outputs": [],
   "source": [
    "import torch\n",
    "X = torch.tensor([[0.9,0.1],[0.4, 0.6]])\n",
    "import numpy as np"
   ]
  },
  {
   "cell_type": "code",
   "execution_count": null,
   "metadata": {},
   "outputs": [],
   "source": [
    "\n",
    "\n",
    "from d2l import torch as d2l\n",
    "device = d2l.try_gpu()\n",
    "tt = X.to(device)\n",
    "tt = np.argmax(tt.cpu(), axis=1)\n",
    "y =  torch.tensor([1, 1])\n",
    "y = y.to(device)\n"
   ]
  },
  {
   "cell_type": "code",
   "execution_count": null,
   "metadata": {},
   "outputs": [
    {
     "data": {
      "text/plain": [
       "0.6666666666666666"
      ]
     },
     "execution_count": 23,
     "metadata": {},
     "output_type": "execute_result"
    }
   ],
   "source": [
    "from sklearn import metrics\n",
    "metrics.f1_score(tt.cpu().numpy(), y.cpu().numpy())"
   ]
  },
  {
   "cell_type": "code",
   "execution_count": null,
   "metadata": {},
   "outputs": [
    {
     "data": {
      "text/plain": [
       "([12, 12, 12], [11, 11, 11], [11, 1, 1])"
      ]
     },
     "execution_count": 6,
     "metadata": {},
     "output_type": "execute_result"
    }
   ],
   "source": [
    "def sldd(tokens):\n",
    "    return [12,12,12], [11,11,11]\n",
    "\n",
    "ss = sldd(12)\n",
    "ss + ([11,1,1],)"
   ]
  }
 ],
 "metadata": {
  "interpreter": {
   "hash": "4bbee185f428494c0f3f4eb26ca27cba894eb4f3d4a4ff826385edccebf850a3"
  },
  "kernelspec": {
   "display_name": "Python 3.8.13 ('pytorch_env')",
   "language": "python",
   "name": "python3"
  },
  "language_info": {
   "codemirror_mode": {
    "name": "ipython",
    "version": 3
   },
   "file_extension": ".py",
   "mimetype": "text/x-python",
   "name": "python",
   "nbconvert_exporter": "python",
   "pygments_lexer": "ipython3",
   "version": "3.8.13"
  },
  "orig_nbformat": 4
 },
 "nbformat": 4,
 "nbformat_minor": 2
}
