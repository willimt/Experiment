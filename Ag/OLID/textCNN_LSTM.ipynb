{
 "cells": [
  {
   "cell_type": "code",
   "execution_count": 1,
   "metadata": {},
   "outputs": [
    {
     "name": "stdout",
     "output_type": "stream",
     "text": [
      "cuda:0\n"
     ]
    }
   ],
   "source": [
    "import pandas as pd\n",
    "import torchtext\n",
    "from torchtext.vocab import Vectors\n",
    "from torchtext.legacy import data\n",
    "import torch\n",
    "from torch import nn\n",
    "import torch.nn.functional as F\n",
    "from d2l import torch as d2l\n",
    "from torch.autograd import Variable\n",
    "from sklearn import metrics\n",
    "import sys\n",
    "sys.path.append(\"D:/Experiment\")\n",
    "from tqdm import tqdm\n",
    "from MyKu import training\n",
    "from MyKu import processing\n",
    "from torchtext.vocab import Vectors\n",
    "from spacy.lang.en import English\n",
    "\n",
    "DEVICE = torch.device(\"cuda:0\" if torch.cuda.is_available() else \"cpu\")\n",
    "print(DEVICE)"
   ]
  },
  {
   "cell_type": "code",
   "execution_count": 2,
   "metadata": {},
   "outputs": [],
   "source": [
    "def global_max_pooling(tensor, dim, topk):\n",
    "    \"\"\"Global max pooling\"\"\"\n",
    "    ret, _ = torch.topk(tensor, topk, dim)\n",
    "    return ret\n",
    "\n",
    "class textCNN_LSTM(nn.Module):\n",
    "    def __init__(self, vocab_size, embed_size, num_hidden, num_layers, dropout, **kwargs):\n",
    "        super(textCNN_LSTM, self).__init__(**kwargs)\n",
    "        self.embedding = nn.Embedding(vocab_size, embed_size)\n",
    "        self.dropout = nn.Dropout(dropout)\n",
    "        self.decoder = nn.Linear(num_hidden * 2, 2)\n",
    "        self.conv2 = nn.Conv1d(embed_size, 100, 2, padding=1)\n",
    "        self.conv3 = nn.Conv1d(embed_size, 100, 3, padding=2)\n",
    "        self.maxpool1D = nn.MaxPool1d(4, stride=4)\n",
    "        self.seq_model = nn.LSTM(100, num_hidden, bidirectional=True, num_layers=num_layers, batch_first=True, dropout=dropout)\n",
    "        self.relu = nn.ReLU()\n",
    "\n",
    "    def forward(self, inputs):\n",
    "        inputs = inputs.permute(1, 0)\n",
    "        embeddings = self.embedding(inputs)\n",
    "        embeddings = embeddings.permute(0, 2, 1)\n",
    "        new_conv2 = self.maxpool1D(self.conv2(embeddings))\n",
    "        new_conv3 = self.maxpool1D(self.conv3(embeddings))\n",
    "        encoding = self.maxpool1D(torch.cat([new_conv2, new_conv3], dim=2))\n",
    "        # print('encoding.shape: ', encoding.shape)\n",
    "        h_seq, _ = self.seq_model(encoding.permute(0, 2, 1))\n",
    "        # print('h_seq.shape: ', h_seq.shape)\n",
    "        global_h_seq=torch.squeeze(global_max_pooling(h_seq, 1, 1)) \n",
    "        # print('h_seq.shape: ', global_h_seq.shape)\n",
    "        global_h_seq = self.dropout(global_h_seq)\n",
    "        outputs = self.decoder(global_h_seq)\n",
    "        return outputs"
   ]
  },
  {
   "cell_type": "code",
   "execution_count": 3,
   "metadata": {},
   "outputs": [],
   "source": [
    "spacy_en = English()\n",
    "\n",
    "\n",
    "def tokenizer(text):  # create a tokenizer function\n",
    "    \"\"\"\n",
    "    定义分词操作\n",
    "    \"\"\"\n",
    "    return [tok.text for tok in spacy_en.tokenizer(text)]\n",
    "\n",
    "\n",
    "def DataLoader():\n",
    "    def tokenize(x): return x.split()\n",
    "\n",
    "    TEXT = data.Field(sequential=True, tokenize=tokenizer,\n",
    "                      lower=True, include_lengths=True, fix_length=40)\n",
    "    LABEL = data.Field(sequential=False, use_vocab=False)\n",
    "    # 假如train.csv文件并不是只有两列，比如1、3列是review和polarity，2列是我们不需要的数据，\n",
    "    # 那么就要添加一个全是None的元组， fields列表存储的Field的顺序必须和csv文件中每一列的顺序对应，\n",
    "\n",
    "    train_fields = [(None, None), ('tweet', TEXT), ('subtask_a', LABEL)]\n",
    "    # train_fields = [(None, None), (None, None), (None, None), (None, None), ('text', TEXT), ('task1', LABEL)]\n",
    "    train_data = data.TabularDataset(\n",
    "        path='D:/Experiment/datasets/OLID/train.tsv',\n",
    "        # path='D:/Experiment/datasets/EXIST2021/train.tsv',\n",
    "        format='tsv',\n",
    "        fields=train_fields,\n",
    "        skip_header=True  # 是否跳过文件的第一行\n",
    "    )\n",
    "    test_fields = [(None, None), ('tweet', TEXT), ('label', LABEL)]\n",
    "    # test_fields = [(None, None), (None, None), (None, None), (None, None), ('text', TEXT), ('task1', LABEL)]\n",
    "    test_data = data.TabularDataset(\n",
    "        path='D:/Experiment/datasets/OLID/testA.tsv',\n",
    "        # path='D:/Experiment/datasets/EXIST2021/test.tsv',\n",
    "        format='tsv',\n",
    "        fields=test_fields,\n",
    "        skip_header=True  # 是否跳过文件的第一行\n",
    "    )\n",
    "    return train_data, test_data, TEXT, LABEL\n",
    "\n",
    "train_data, test_data, TEXT, LABEL = DataLoader()\n",
    "\n",
    "vectors = Vectors(name='glove.6B.300d.txt', cache=processing.EMBEDDING_PATH)\n",
    "\n",
    "TEXT.build_vocab(train_data,  # 建词表是用训练集建，不要用验证集和测试集\n",
    "                 max_size=400000,  # 单词表容量\n",
    "                 vectors=vectors,  # 还有'glove.840B.300d'已经很多可以选\n",
    "                 unk_init=torch.Tensor.normal_  # 初始化train_data中不存在预训练词向量词表中的单词\n",
    "                 )\n"
   ]
  },
  {
   "cell_type": "code",
   "execution_count": 4,
   "metadata": {},
   "outputs": [
    {
     "name": "stderr",
     "output_type": "stream",
     "text": [
      "d:\\Software\\anaconda3\\envs\\pytorch_env\\lib\\site-packages\\torch\\nn\\modules\\rnn.py:62: UserWarning: dropout option adds dropout after all but last recurrent layer, so non-zero dropout expects num_layers greater than 1, but got dropout=0.7 and num_layers=1\n",
      "  warnings.warn(\"dropout option adds dropout after all but last \"\n"
     ]
    }
   ],
   "source": [
    "\n",
    "embed_size, num_hidden, kernel_sizes, nums_channels, num_layers, dropout = 300, 100, [3, 4, 5], [100, 100, 100], 1, 0.7\n",
    "model = textCNN_LSTM(len(TEXT.vocab), embed_size, num_hidden, num_layers,dropout)\n",
    "model.to(DEVICE)\n",
    "\n",
    "def init_weights(m):\n",
    "    if type(m) in (nn.Linear, nn.Conv1d):\n",
    "        nn.init.xavier_uniform_(m.weight)\n",
    "\n",
    "model.apply(init_weights);\n",
    "\n",
    "pretrained_embeddings = TEXT.vocab.vectors\n",
    "# print(pretrained_embeddings.shape)\n",
    "model.embedding.weight.data.copy_(pretrained_embeddings)\n",
    "UNK_IDX = TEXT.vocab.stoi[TEXT.unk_token]\n",
    "PAD_IDX = TEXT.vocab.stoi[TEXT.pad_token]\n",
    "\n",
    "model.embedding.weight.data[UNK_IDX] = torch.zeros(300)\n",
    "model.embedding.weight.data[PAD_IDX] = torch.zeros(300)"
   ]
  },
  {
   "cell_type": "code",
   "execution_count": 5,
   "metadata": {},
   "outputs": [],
   "source": [
    "train_iter, test_iter = data.BucketIterator.splits(\n",
    "    (train_data, test_data), batch_size=64, sort_within_batch=True, sort_key=lambda x: len(x.tweet), device=DEVICE\n",
    ")"
   ]
  },
  {
   "cell_type": "code",
   "execution_count": 6,
   "metadata": {},
   "outputs": [],
   "source": [
    "def train(model, train_iter, optimizer, loss, epoch):\n",
    "    model.train()\n",
    "    epoch_loss = 0\n",
    "    num_sample = 0\n",
    "    correct = 0\n",
    "    for batch in tqdm(train_iter, desc=f\"Training Epoch {epoch}\", colour='red'):\n",
    "        optimizer.zero_grad()\n",
    "        text, text_len = batch.tweet\n",
    "        label = batch.subtask_a\n",
    "        # text, text_len = batch.text\n",
    "        # label = batch.task1\n",
    "        output = model(text)\n",
    "        pred_y = torch.argmax(output, dim=1)\n",
    "        correct += torch.sum(pred_y == label)\n",
    "        l = loss(output, label)\n",
    "        l.backward()\n",
    "        epoch_loss += l.item()\n",
    "        num_sample += len(batch)\n",
    "        optimizer.step()\n",
    "    print(\n",
    "        f'\\tTrain Loss: {epoch_loss / num_sample:.3f} | Train Acc: {correct.float() / num_sample* 100:.2f}%')\n",
    "\n",
    "\n",
    "def test(model, test_iter):\n",
    "    true_y, pred_y = [], []\n",
    "    for batch in tqdm(test_iter, desc=f\"Testing\", colour='green'):\n",
    "        text, text_len = batch.tweet\n",
    "        label = batch.label\n",
    "        # text, text_len = batch.text\n",
    "        # label = batch.task1\n",
    "        with torch.no_grad():\n",
    "            output = model(text)\n",
    "            pred_y.extend(output.argmax(dim=1).tolist())\n",
    "            true_y.extend(label.tolist())\n",
    "    print(metrics.confusion_matrix(true_y, pred_y))\n",
    "    print(metrics.classification_report(true_y, pred_y))\n",
    "    print(f'Acc : {metrics.accuracy_score(true_y, pred_y)}\\t F1: {metrics.f1_score(true_y, pred_y, average=\"macro\")}')"
   ]
  },
  {
   "cell_type": "code",
   "execution_count": 7,
   "metadata": {},
   "outputs": [
    {
     "name": "stderr",
     "output_type": "stream",
     "text": [
      "Training Epoch 1: 100%|\u001b[31m██████████\u001b[0m| 207/207 [00:02<00:00, 86.73it/s] \n"
     ]
    },
    {
     "name": "stdout",
     "output_type": "stream",
     "text": [
      "\tTrain Loss: 0.010 | Train Acc: 66.35%\n"
     ]
    },
    {
     "name": "stderr",
     "output_type": "stream",
     "text": [
      "Testing: 100%|\u001b[32m██████████\u001b[0m| 14/14 [00:00<00:00, 449.76it/s]\n"
     ]
    },
    {
     "name": "stdout",
     "output_type": "stream",
     "text": [
      "[[618   2]\n",
      " [238   2]]\n",
      "              precision    recall  f1-score   support\n",
      "\n",
      "           0       0.72      1.00      0.84       620\n",
      "           1       0.50      0.01      0.02       240\n",
      "\n",
      "    accuracy                           0.72       860\n",
      "   macro avg       0.61      0.50      0.43       860\n",
      "weighted avg       0.66      0.72      0.61       860\n",
      "\n",
      "Acc : 0.7209302325581395\t F1: 0.4268959083033454\n"
     ]
    },
    {
     "name": "stderr",
     "output_type": "stream",
     "text": [
      "Training Epoch 2: 100%|\u001b[31m██████████\u001b[0m| 207/207 [00:01<00:00, 108.56it/s]\n"
     ]
    },
    {
     "name": "stdout",
     "output_type": "stream",
     "text": [
      "\tTrain Loss: 0.009 | Train Acc: 69.12%\n"
     ]
    },
    {
     "name": "stderr",
     "output_type": "stream",
     "text": [
      "Testing: 100%|\u001b[32m██████████\u001b[0m| 14/14 [00:00<00:00, 461.41it/s]\n"
     ]
    },
    {
     "name": "stdout",
     "output_type": "stream",
     "text": [
      "[[619   1]\n",
      " [192  48]]\n",
      "              precision    recall  f1-score   support\n",
      "\n",
      "           0       0.76      1.00      0.87       620\n",
      "           1       0.98      0.20      0.33       240\n",
      "\n",
      "    accuracy                           0.78       860\n",
      "   macro avg       0.87      0.60      0.60       860\n",
      "weighted avg       0.82      0.78      0.72       860\n",
      "\n",
      "Acc : 0.7755813953488372\t F1: 0.5986546055097338\n"
     ]
    },
    {
     "name": "stderr",
     "output_type": "stream",
     "text": [
      "Training Epoch 3: 100%|\u001b[31m██████████\u001b[0m| 207/207 [00:01<00:00, 111.85it/s]\n"
     ]
    },
    {
     "name": "stdout",
     "output_type": "stream",
     "text": [
      "\tTrain Loss: 0.008 | Train Acc: 76.02%\n"
     ]
    },
    {
     "name": "stderr",
     "output_type": "stream",
     "text": [
      "Testing: 100%|\u001b[32m██████████\u001b[0m| 14/14 [00:00<00:00, 491.33it/s]\n"
     ]
    },
    {
     "name": "stdout",
     "output_type": "stream",
     "text": [
      "[[589  31]\n",
      " [134 106]]\n",
      "              precision    recall  f1-score   support\n",
      "\n",
      "           0       0.81      0.95      0.88       620\n",
      "           1       0.77      0.44      0.56       240\n",
      "\n",
      "    accuracy                           0.81       860\n",
      "   macro avg       0.79      0.70      0.72       860\n",
      "weighted avg       0.80      0.81      0.79       860\n",
      "\n",
      "Acc : 0.8081395348837209\t F1: 0.7197374736081183\n"
     ]
    },
    {
     "name": "stderr",
     "output_type": "stream",
     "text": [
      "Training Epoch 4: 100%|\u001b[31m██████████\u001b[0m| 207/207 [00:01<00:00, 112.54it/s]\n"
     ]
    },
    {
     "name": "stdout",
     "output_type": "stream",
     "text": [
      "\tTrain Loss: 0.007 | Train Acc: 79.21%\n"
     ]
    },
    {
     "name": "stderr",
     "output_type": "stream",
     "text": [
      "Testing: 100%|\u001b[32m██████████\u001b[0m| 14/14 [00:00<00:00, 473.37it/s]\n"
     ]
    },
    {
     "name": "stdout",
     "output_type": "stream",
     "text": [
      "[[545  75]\n",
      " [ 99 141]]\n",
      "              precision    recall  f1-score   support\n",
      "\n",
      "           0       0.85      0.88      0.86       620\n",
      "           1       0.65      0.59      0.62       240\n",
      "\n",
      "    accuracy                           0.80       860\n",
      "   macro avg       0.75      0.73      0.74       860\n",
      "weighted avg       0.79      0.80      0.79       860\n",
      "\n",
      "Acc : 0.7976744186046512\t F1: 0.7403814123917387\n"
     ]
    },
    {
     "name": "stderr",
     "output_type": "stream",
     "text": [
      "Training Epoch 5: 100%|\u001b[31m██████████\u001b[0m| 207/207 [00:01<00:00, 113.43it/s]\n"
     ]
    },
    {
     "name": "stdout",
     "output_type": "stream",
     "text": [
      "\tTrain Loss: 0.007 | Train Acc: 81.48%\n"
     ]
    },
    {
     "name": "stderr",
     "output_type": "stream",
     "text": [
      "Testing: 100%|\u001b[32m██████████\u001b[0m| 14/14 [00:00<00:00, 422.58it/s]\n"
     ]
    },
    {
     "name": "stdout",
     "output_type": "stream",
     "text": [
      "[[594  26]\n",
      " [128 112]]\n",
      "              precision    recall  f1-score   support\n",
      "\n",
      "           0       0.82      0.96      0.89       620\n",
      "           1       0.81      0.47      0.59       240\n",
      "\n",
      "    accuracy                           0.82       860\n",
      "   macro avg       0.82      0.71      0.74       860\n",
      "weighted avg       0.82      0.82      0.80       860\n",
      "\n",
      "Acc : 0.8209302325581396\t F1: 0.7389192471159685\n"
     ]
    },
    {
     "name": "stderr",
     "output_type": "stream",
     "text": [
      "Training Epoch 6: 100%|\u001b[31m██████████\u001b[0m| 207/207 [00:01<00:00, 110.86it/s]\n"
     ]
    },
    {
     "name": "stdout",
     "output_type": "stream",
     "text": [
      "\tTrain Loss: 0.006 | Train Acc: 84.47%\n"
     ]
    },
    {
     "name": "stderr",
     "output_type": "stream",
     "text": [
      "Testing: 100%|\u001b[32m██████████\u001b[0m| 14/14 [00:00<00:00, 533.29it/s]\n"
     ]
    },
    {
     "name": "stdout",
     "output_type": "stream",
     "text": [
      "[[580  40]\n",
      " [113 127]]\n",
      "              precision    recall  f1-score   support\n",
      "\n",
      "           0       0.84      0.94      0.88       620\n",
      "           1       0.76      0.53      0.62       240\n",
      "\n",
      "    accuracy                           0.82       860\n",
      "   macro avg       0.80      0.73      0.75       860\n",
      "weighted avg       0.82      0.82      0.81       860\n",
      "\n",
      "Acc : 0.8220930232558139\t F1: 0.7537757933797538\n"
     ]
    },
    {
     "name": "stderr",
     "output_type": "stream",
     "text": [
      "Training Epoch 7: 100%|\u001b[31m██████████\u001b[0m| 207/207 [00:01<00:00, 111.82it/s]\n"
     ]
    },
    {
     "name": "stdout",
     "output_type": "stream",
     "text": [
      "\tTrain Loss: 0.005 | Train Acc: 87.35%\n"
     ]
    },
    {
     "name": "stderr",
     "output_type": "stream",
     "text": [
      "Testing: 100%|\u001b[32m██████████\u001b[0m| 14/14 [00:00<00:00, 502.02it/s]\n"
     ]
    },
    {
     "name": "stdout",
     "output_type": "stream",
     "text": [
      "[[582  38]\n",
      " [110 130]]\n",
      "              precision    recall  f1-score   support\n",
      "\n",
      "           0       0.84      0.94      0.89       620\n",
      "           1       0.77      0.54      0.64       240\n",
      "\n",
      "    accuracy                           0.83       860\n",
      "   macro avg       0.81      0.74      0.76       860\n",
      "weighted avg       0.82      0.83      0.82       860\n",
      "\n",
      "Acc : 0.827906976744186\t F1: 0.7622250119560019\n"
     ]
    },
    {
     "name": "stderr",
     "output_type": "stream",
     "text": [
      "Training Epoch 8: 100%|\u001b[31m██████████\u001b[0m| 207/207 [00:01<00:00, 110.64it/s]\n"
     ]
    },
    {
     "name": "stdout",
     "output_type": "stream",
     "text": [
      "\tTrain Loss: 0.004 | Train Acc: 89.69%\n"
     ]
    },
    {
     "name": "stderr",
     "output_type": "stream",
     "text": [
      "Testing: 100%|\u001b[32m██████████\u001b[0m| 14/14 [00:00<00:00, 539.03it/s]\n"
     ]
    },
    {
     "name": "stdout",
     "output_type": "stream",
     "text": [
      "[[541  79]\n",
      " [ 92 148]]\n",
      "              precision    recall  f1-score   support\n",
      "\n",
      "           0       0.85      0.87      0.86       620\n",
      "           1       0.65      0.62      0.63       240\n",
      "\n",
      "    accuracy                           0.80       860\n",
      "   macro avg       0.75      0.74      0.75       860\n",
      "weighted avg       0.80      0.80      0.80       860\n",
      "\n",
      "Acc : 0.8011627906976744\t F1: 0.7486802551819958\n"
     ]
    },
    {
     "name": "stderr",
     "output_type": "stream",
     "text": [
      "Training Epoch 9: 100%|\u001b[31m██████████\u001b[0m| 207/207 [00:01<00:00, 108.61it/s]\n"
     ]
    },
    {
     "name": "stdout",
     "output_type": "stream",
     "text": [
      "\tTrain Loss: 0.003 | Train Acc: 93.35%\n"
     ]
    },
    {
     "name": "stderr",
     "output_type": "stream",
     "text": [
      "Testing: 100%|\u001b[32m██████████\u001b[0m| 14/14 [00:00<00:00, 492.06it/s]\n"
     ]
    },
    {
     "name": "stdout",
     "output_type": "stream",
     "text": [
      "[[543  77]\n",
      " [ 95 145]]\n",
      "              precision    recall  f1-score   support\n",
      "\n",
      "           0       0.85      0.88      0.86       620\n",
      "           1       0.65      0.60      0.63       240\n",
      "\n",
      "    accuracy                           0.80       860\n",
      "   macro avg       0.75      0.74      0.75       860\n",
      "weighted avg       0.80      0.80      0.80       860\n",
      "\n",
      "Acc : 0.8\t F1: 0.7454903337256278\n"
     ]
    },
    {
     "name": "stderr",
     "output_type": "stream",
     "text": [
      "Training Epoch 10: 100%|\u001b[31m██████████\u001b[0m| 207/207 [00:01<00:00, 112.32it/s]\n"
     ]
    },
    {
     "name": "stdout",
     "output_type": "stream",
     "text": [
      "\tTrain Loss: 0.002 | Train Acc: 95.11%\n"
     ]
    },
    {
     "name": "stderr",
     "output_type": "stream",
     "text": [
      "Testing: 100%|\u001b[32m██████████\u001b[0m| 14/14 [00:00<00:00, 500.18it/s]\n"
     ]
    },
    {
     "name": "stdout",
     "output_type": "stream",
     "text": [
      "[[573  47]\n",
      " [111 129]]\n",
      "              precision    recall  f1-score   support\n",
      "\n",
      "           0       0.84      0.92      0.88       620\n",
      "           1       0.73      0.54      0.62       240\n",
      "\n",
      "    accuracy                           0.82       860\n",
      "   macro avg       0.79      0.73      0.75       860\n",
      "weighted avg       0.81      0.82      0.81       860\n",
      "\n",
      "Acc : 0.8162790697674419\t F1: 0.7495133317602642\n"
     ]
    },
    {
     "name": "stderr",
     "output_type": "stream",
     "text": [
      "Training Epoch 11: 100%|\u001b[31m██████████\u001b[0m| 207/207 [00:01<00:00, 114.13it/s]\n"
     ]
    },
    {
     "name": "stdout",
     "output_type": "stream",
     "text": [
      "\tTrain Loss: 0.002 | Train Acc: 96.63%\n"
     ]
    },
    {
     "name": "stderr",
     "output_type": "stream",
     "text": [
      "Testing: 100%|\u001b[32m██████████\u001b[0m| 14/14 [00:00<00:00, 438.47it/s]\n"
     ]
    },
    {
     "name": "stdout",
     "output_type": "stream",
     "text": [
      "[[557  63]\n",
      " [104 136]]\n",
      "              precision    recall  f1-score   support\n",
      "\n",
      "           0       0.84      0.90      0.87       620\n",
      "           1       0.68      0.57      0.62       240\n",
      "\n",
      "    accuracy                           0.81       860\n",
      "   macro avg       0.76      0.73      0.74       860\n",
      "weighted avg       0.80      0.81      0.80       860\n",
      "\n",
      "Acc : 0.8058139534883721\t F1: 0.7446115381811262\n"
     ]
    },
    {
     "name": "stderr",
     "output_type": "stream",
     "text": [
      "Training Epoch 12: 100%|\u001b[31m██████████\u001b[0m| 207/207 [00:01<00:00, 106.50it/s]\n"
     ]
    },
    {
     "name": "stdout",
     "output_type": "stream",
     "text": [
      "\tTrain Loss: 0.001 | Train Acc: 97.49%\n"
     ]
    },
    {
     "name": "stderr",
     "output_type": "stream",
     "text": [
      "Testing: 100%|\u001b[32m██████████\u001b[0m| 14/14 [00:00<00:00, 407.74it/s]\n"
     ]
    },
    {
     "name": "stdout",
     "output_type": "stream",
     "text": [
      "[[531  89]\n",
      " [ 95 145]]\n",
      "              precision    recall  f1-score   support\n",
      "\n",
      "           0       0.85      0.86      0.85       620\n",
      "           1       0.62      0.60      0.61       240\n",
      "\n",
      "    accuracy                           0.79       860\n",
      "   macro avg       0.73      0.73      0.73       860\n",
      "weighted avg       0.78      0.79      0.79       860\n",
      "\n",
      "Acc : 0.786046511627907\t F1: 0.7320708969123135\n"
     ]
    },
    {
     "name": "stderr",
     "output_type": "stream",
     "text": [
      "Training Epoch 13: 100%|\u001b[31m██████████\u001b[0m| 207/207 [00:01<00:00, 105.61it/s]\n"
     ]
    },
    {
     "name": "stdout",
     "output_type": "stream",
     "text": [
      "\tTrain Loss: 0.001 | Train Acc: 97.91%\n"
     ]
    },
    {
     "name": "stderr",
     "output_type": "stream",
     "text": [
      "Testing: 100%|\u001b[32m██████████\u001b[0m| 14/14 [00:00<00:00, 474.24it/s]\n"
     ]
    },
    {
     "name": "stdout",
     "output_type": "stream",
     "text": [
      "[[506 114]\n",
      " [ 80 160]]\n",
      "              precision    recall  f1-score   support\n",
      "\n",
      "           0       0.86      0.82      0.84       620\n",
      "           1       0.58      0.67      0.62       240\n",
      "\n",
      "    accuracy                           0.77       860\n",
      "   macro avg       0.72      0.74      0.73       860\n",
      "weighted avg       0.79      0.77      0.78       860\n",
      "\n",
      "Acc : 0.7744186046511627\t F1: 0.7308528692465042\n"
     ]
    },
    {
     "name": "stderr",
     "output_type": "stream",
     "text": [
      "Training Epoch 14: 100%|\u001b[31m██████████\u001b[0m| 207/207 [00:01<00:00, 104.47it/s]\n"
     ]
    },
    {
     "name": "stdout",
     "output_type": "stream",
     "text": [
      "\tTrain Loss: 0.001 | Train Acc: 98.00%\n"
     ]
    },
    {
     "name": "stderr",
     "output_type": "stream",
     "text": [
      "Testing: 100%|\u001b[32m██████████\u001b[0m| 14/14 [00:00<00:00, 430.13it/s]\n"
     ]
    },
    {
     "name": "stdout",
     "output_type": "stream",
     "text": [
      "[[566  54]\n",
      " [115 125]]\n",
      "              precision    recall  f1-score   support\n",
      "\n",
      "           0       0.83      0.91      0.87       620\n",
      "           1       0.70      0.52      0.60       240\n",
      "\n",
      "    accuracy                           0.80       860\n",
      "   macro avg       0.76      0.72      0.73       860\n",
      "weighted avg       0.79      0.80      0.79       860\n",
      "\n",
      "Acc : 0.8034883720930233\t F1: 0.7333793171766165\n"
     ]
    },
    {
     "name": "stderr",
     "output_type": "stream",
     "text": [
      "Training Epoch 15: 100%|\u001b[31m██████████\u001b[0m| 207/207 [00:01<00:00, 110.88it/s]\n"
     ]
    },
    {
     "name": "stdout",
     "output_type": "stream",
     "text": [
      "\tTrain Loss: 0.001 | Train Acc: 98.66%\n"
     ]
    },
    {
     "name": "stderr",
     "output_type": "stream",
     "text": [
      "Testing: 100%|\u001b[32m██████████\u001b[0m| 14/14 [00:00<00:00, 478.21it/s]\n"
     ]
    },
    {
     "name": "stdout",
     "output_type": "stream",
     "text": [
      "[[515 105]\n",
      " [ 86 154]]\n",
      "              precision    recall  f1-score   support\n",
      "\n",
      "           0       0.86      0.83      0.84       620\n",
      "           1       0.59      0.64      0.62       240\n",
      "\n",
      "    accuracy                           0.78       860\n",
      "   macro avg       0.73      0.74      0.73       860\n",
      "weighted avg       0.78      0.78      0.78       860\n",
      "\n",
      "Acc : 0.7779069767441861\t F1: 0.7304026562543597\n"
     ]
    },
    {
     "name": "stderr",
     "output_type": "stream",
     "text": [
      "Training Epoch 16: 100%|\u001b[31m██████████\u001b[0m| 207/207 [00:01<00:00, 113.08it/s]\n"
     ]
    },
    {
     "name": "stdout",
     "output_type": "stream",
     "text": [
      "\tTrain Loss: 0.001 | Train Acc: 98.94%\n"
     ]
    },
    {
     "name": "stderr",
     "output_type": "stream",
     "text": [
      "Testing: 100%|\u001b[32m██████████\u001b[0m| 14/14 [00:00<00:00, 518.05it/s]\n"
     ]
    },
    {
     "name": "stdout",
     "output_type": "stream",
     "text": [
      "[[502 118]\n",
      " [ 83 157]]\n",
      "              precision    recall  f1-score   support\n",
      "\n",
      "           0       0.86      0.81      0.83       620\n",
      "           1       0.57      0.65      0.61       240\n",
      "\n",
      "    accuracy                           0.77       860\n",
      "   macro avg       0.71      0.73      0.72       860\n",
      "weighted avg       0.78      0.77      0.77       860\n",
      "\n",
      "Acc : 0.7662790697674419\t F1: 0.7214518793054829\n"
     ]
    },
    {
     "name": "stderr",
     "output_type": "stream",
     "text": [
      "Training Epoch 17: 100%|\u001b[31m██████████\u001b[0m| 207/207 [00:01<00:00, 108.44it/s]\n"
     ]
    },
    {
     "name": "stdout",
     "output_type": "stream",
     "text": [
      "\tTrain Loss: 0.001 | Train Acc: 99.12%\n"
     ]
    },
    {
     "name": "stderr",
     "output_type": "stream",
     "text": [
      "Testing: 100%|\u001b[32m██████████\u001b[0m| 14/14 [00:00<00:00, 463.39it/s]\n"
     ]
    },
    {
     "name": "stdout",
     "output_type": "stream",
     "text": [
      "[[534  86]\n",
      " [ 99 141]]\n",
      "              precision    recall  f1-score   support\n",
      "\n",
      "           0       0.84      0.86      0.85       620\n",
      "           1       0.62      0.59      0.60       240\n",
      "\n",
      "    accuracy                           0.78       860\n",
      "   macro avg       0.73      0.72      0.73       860\n",
      "weighted avg       0.78      0.78      0.78       860\n",
      "\n",
      "Acc : 0.7848837209302325\t F1: 0.7281043696413405\n"
     ]
    },
    {
     "name": "stderr",
     "output_type": "stream",
     "text": [
      "Training Epoch 18: 100%|\u001b[31m██████████\u001b[0m| 207/207 [00:01<00:00, 110.84it/s]\n"
     ]
    },
    {
     "name": "stdout",
     "output_type": "stream",
     "text": [
      "\tTrain Loss: 0.000 | Train Acc: 99.35%\n"
     ]
    },
    {
     "name": "stderr",
     "output_type": "stream",
     "text": [
      "Testing: 100%|\u001b[32m██████████\u001b[0m| 14/14 [00:00<00:00, 510.03it/s]\n"
     ]
    },
    {
     "name": "stdout",
     "output_type": "stream",
     "text": [
      "[[546  74]\n",
      " [112 128]]\n",
      "              precision    recall  f1-score   support\n",
      "\n",
      "           0       0.83      0.88      0.85       620\n",
      "           1       0.63      0.53      0.58       240\n",
      "\n",
      "    accuracy                           0.78       860\n",
      "   macro avg       0.73      0.71      0.72       860\n",
      "weighted avg       0.78      0.78      0.78       860\n",
      "\n",
      "Acc : 0.7837209302325582\t F1: 0.7168228071293523\n"
     ]
    },
    {
     "name": "stderr",
     "output_type": "stream",
     "text": [
      "Training Epoch 19: 100%|\u001b[31m██████████\u001b[0m| 207/207 [00:01<00:00, 113.92it/s]\n"
     ]
    },
    {
     "name": "stdout",
     "output_type": "stream",
     "text": [
      "\tTrain Loss: 0.000 | Train Acc: 99.40%\n"
     ]
    },
    {
     "name": "stderr",
     "output_type": "stream",
     "text": [
      "Testing: 100%|\u001b[32m██████████\u001b[0m| 14/14 [00:00<00:00, 511.27it/s]\n"
     ]
    },
    {
     "name": "stdout",
     "output_type": "stream",
     "text": [
      "[[574  46]\n",
      " [133 107]]\n",
      "              precision    recall  f1-score   support\n",
      "\n",
      "           0       0.81      0.93      0.87       620\n",
      "           1       0.70      0.45      0.54       240\n",
      "\n",
      "    accuracy                           0.79       860\n",
      "   macro avg       0.76      0.69      0.70       860\n",
      "weighted avg       0.78      0.79      0.78       860\n",
      "\n",
      "Acc : 0.791860465116279\t F1: 0.7048192655571983\n"
     ]
    },
    {
     "name": "stderr",
     "output_type": "stream",
     "text": [
      "Training Epoch 20: 100%|\u001b[31m██████████\u001b[0m| 207/207 [00:01<00:00, 113.31it/s]\n"
     ]
    },
    {
     "name": "stdout",
     "output_type": "stream",
     "text": [
      "\tTrain Loss: 0.000 | Train Acc: 99.46%\n"
     ]
    },
    {
     "name": "stderr",
     "output_type": "stream",
     "text": [
      "Testing: 100%|\u001b[32m██████████\u001b[0m| 14/14 [00:00<00:00, 453.38it/s]\n"
     ]
    },
    {
     "name": "stdout",
     "output_type": "stream",
     "text": [
      "[[570  50]\n",
      " [128 112]]\n",
      "              precision    recall  f1-score   support\n",
      "\n",
      "           0       0.82      0.92      0.86       620\n",
      "           1       0.69      0.47      0.56       240\n",
      "\n",
      "    accuracy                           0.79       860\n",
      "   macro avg       0.75      0.69      0.71       860\n",
      "weighted avg       0.78      0.79      0.78       860\n",
      "\n",
      "Acc : 0.7930232558139535\t F1: 0.7110804097871795\n"
     ]
    },
    {
     "name": "stderr",
     "output_type": "stream",
     "text": [
      "Training Epoch 21: 100%|\u001b[31m██████████\u001b[0m| 207/207 [00:01<00:00, 110.89it/s]\n"
     ]
    },
    {
     "name": "stdout",
     "output_type": "stream",
     "text": [
      "\tTrain Loss: 0.000 | Train Acc: 99.43%\n"
     ]
    },
    {
     "name": "stderr",
     "output_type": "stream",
     "text": [
      "Testing: 100%|\u001b[32m██████████\u001b[0m| 14/14 [00:00<00:00, 468.30it/s]\n"
     ]
    },
    {
     "name": "stdout",
     "output_type": "stream",
     "text": [
      "[[509 111]\n",
      " [ 91 149]]\n",
      "              precision    recall  f1-score   support\n",
      "\n",
      "           0       0.85      0.82      0.83       620\n",
      "           1       0.57      0.62      0.60       240\n",
      "\n",
      "    accuracy                           0.77       860\n",
      "   macro avg       0.71      0.72      0.72       860\n",
      "weighted avg       0.77      0.77      0.77       860\n",
      "\n",
      "Acc : 0.7651162790697674\t F1: 0.7152131147540983\n"
     ]
    },
    {
     "name": "stderr",
     "output_type": "stream",
     "text": [
      "Training Epoch 22: 100%|\u001b[31m██████████\u001b[0m| 207/207 [00:01<00:00, 114.12it/s]\n"
     ]
    },
    {
     "name": "stdout",
     "output_type": "stream",
     "text": [
      "\tTrain Loss: 0.001 | Train Acc: 98.57%\n"
     ]
    },
    {
     "name": "stderr",
     "output_type": "stream",
     "text": [
      "Testing: 100%|\u001b[32m██████████\u001b[0m| 14/14 [00:00<00:00, 486.19it/s]\n"
     ]
    },
    {
     "name": "stdout",
     "output_type": "stream",
     "text": [
      "[[434 186]\n",
      " [ 63 177]]\n",
      "              precision    recall  f1-score   support\n",
      "\n",
      "           0       0.87      0.70      0.78       620\n",
      "           1       0.49      0.74      0.59       240\n",
      "\n",
      "    accuracy                           0.71       860\n",
      "   macro avg       0.68      0.72      0.68       860\n",
      "weighted avg       0.77      0.71      0.72       860\n",
      "\n",
      "Acc : 0.7104651162790697\t F1: 0.6820730724176789\n"
     ]
    },
    {
     "name": "stderr",
     "output_type": "stream",
     "text": [
      "Training Epoch 23: 100%|\u001b[31m██████████\u001b[0m| 207/207 [00:01<00:00, 113.97it/s]\n"
     ]
    },
    {
     "name": "stdout",
     "output_type": "stream",
     "text": [
      "\tTrain Loss: 0.000 | Train Acc: 99.04%\n"
     ]
    },
    {
     "name": "stderr",
     "output_type": "stream",
     "text": [
      "Testing: 100%|\u001b[32m██████████\u001b[0m| 14/14 [00:00<00:00, 496.22it/s]\n"
     ]
    },
    {
     "name": "stdout",
     "output_type": "stream",
     "text": [
      "[[553  67]\n",
      " [108 132]]\n",
      "              precision    recall  f1-score   support\n",
      "\n",
      "           0       0.84      0.89      0.86       620\n",
      "           1       0.66      0.55      0.60       240\n",
      "\n",
      "    accuracy                           0.80       860\n",
      "   macro avg       0.75      0.72      0.73       860\n",
      "weighted avg       0.79      0.80      0.79       860\n",
      "\n",
      "Acc : 0.7965116279069767\t F1: 0.7323773603694438\n"
     ]
    },
    {
     "name": "stderr",
     "output_type": "stream",
     "text": [
      "Training Epoch 24: 100%|\u001b[31m██████████\u001b[0m| 207/207 [00:01<00:00, 114.03it/s]\n"
     ]
    },
    {
     "name": "stdout",
     "output_type": "stream",
     "text": [
      "\tTrain Loss: 0.000 | Train Acc: 99.58%\n"
     ]
    },
    {
     "name": "stderr",
     "output_type": "stream",
     "text": [
      "Testing: 100%|\u001b[32m██████████\u001b[0m| 14/14 [00:00<00:00, 520.87it/s]\n"
     ]
    },
    {
     "name": "stdout",
     "output_type": "stream",
     "text": [
      "[[531  89]\n",
      " [104 136]]\n",
      "              precision    recall  f1-score   support\n",
      "\n",
      "           0       0.84      0.86      0.85       620\n",
      "           1       0.60      0.57      0.58       240\n",
      "\n",
      "    accuracy                           0.78       860\n",
      "   macro avg       0.72      0.71      0.72       860\n",
      "weighted avg       0.77      0.78      0.77       860\n",
      "\n",
      "Acc : 0.7755813953488372\t F1: 0.7155806880006853\n"
     ]
    },
    {
     "name": "stderr",
     "output_type": "stream",
     "text": [
      "Training Epoch 25: 100%|\u001b[31m██████████\u001b[0m| 207/207 [00:01<00:00, 110.57it/s]\n"
     ]
    },
    {
     "name": "stdout",
     "output_type": "stream",
     "text": [
      "\tTrain Loss: 0.000 | Train Acc: 99.57%\n"
     ]
    },
    {
     "name": "stderr",
     "output_type": "stream",
     "text": [
      "Testing: 100%|\u001b[32m██████████\u001b[0m| 14/14 [00:00<00:00, 459.69it/s]\n"
     ]
    },
    {
     "name": "stdout",
     "output_type": "stream",
     "text": [
      "[[568  52]\n",
      " [125 115]]\n",
      "              precision    recall  f1-score   support\n",
      "\n",
      "           0       0.82      0.92      0.87       620\n",
      "           1       0.69      0.48      0.57       240\n",
      "\n",
      "    accuracy                           0.79       860\n",
      "   macro avg       0.75      0.70      0.72       860\n",
      "weighted avg       0.78      0.79      0.78       860\n",
      "\n",
      "Acc : 0.7941860465116279\t F1: 0.7151523884197152\n"
     ]
    },
    {
     "name": "stderr",
     "output_type": "stream",
     "text": [
      "Training Epoch 26: 100%|\u001b[31m██████████\u001b[0m| 207/207 [00:01<00:00, 107.95it/s]\n"
     ]
    },
    {
     "name": "stdout",
     "output_type": "stream",
     "text": [
      "\tTrain Loss: 0.000 | Train Acc: 99.68%\n"
     ]
    },
    {
     "name": "stderr",
     "output_type": "stream",
     "text": [
      "Testing: 100%|\u001b[32m██████████\u001b[0m| 14/14 [00:00<00:00, 425.16it/s]\n"
     ]
    },
    {
     "name": "stdout",
     "output_type": "stream",
     "text": [
      "[[559  61]\n",
      " [119 121]]\n",
      "              precision    recall  f1-score   support\n",
      "\n",
      "           0       0.82      0.90      0.86       620\n",
      "           1       0.66      0.50      0.57       240\n",
      "\n",
      "    accuracy                           0.79       860\n",
      "   macro avg       0.74      0.70      0.72       860\n",
      "weighted avg       0.78      0.79      0.78       860\n",
      "\n",
      "Acc : 0.7906976744186046\t F1: 0.717392415601107\n"
     ]
    },
    {
     "name": "stderr",
     "output_type": "stream",
     "text": [
      "Training Epoch 27: 100%|\u001b[31m██████████\u001b[0m| 207/207 [00:01<00:00, 104.37it/s]\n"
     ]
    },
    {
     "name": "stdout",
     "output_type": "stream",
     "text": [
      "\tTrain Loss: 0.000 | Train Acc: 99.61%\n"
     ]
    },
    {
     "name": "stderr",
     "output_type": "stream",
     "text": [
      "Testing: 100%|\u001b[32m██████████\u001b[0m| 14/14 [00:00<00:00, 451.26it/s]\n"
     ]
    },
    {
     "name": "stdout",
     "output_type": "stream",
     "text": [
      "[[566  54]\n",
      " [121 119]]\n",
      "              precision    recall  f1-score   support\n",
      "\n",
      "           0       0.82      0.91      0.87       620\n",
      "           1       0.69      0.50      0.58       240\n",
      "\n",
      "    accuracy                           0.80       860\n",
      "   macro avg       0.76      0.70      0.72       860\n",
      "weighted avg       0.79      0.80      0.79       860\n",
      "\n",
      "Acc : 0.7965116279069767\t F1: 0.721188385875274\n"
     ]
    },
    {
     "name": "stderr",
     "output_type": "stream",
     "text": [
      "Training Epoch 28: 100%|\u001b[31m██████████\u001b[0m| 207/207 [00:01<00:00, 107.38it/s]\n"
     ]
    },
    {
     "name": "stdout",
     "output_type": "stream",
     "text": [
      "\tTrain Loss: 0.000 | Train Acc: 99.68%\n"
     ]
    },
    {
     "name": "stderr",
     "output_type": "stream",
     "text": [
      "Testing: 100%|\u001b[32m██████████\u001b[0m| 14/14 [00:00<00:00, 505.48it/s]\n"
     ]
    },
    {
     "name": "stdout",
     "output_type": "stream",
     "text": [
      "[[564  56]\n",
      " [127 113]]\n",
      "              precision    recall  f1-score   support\n",
      "\n",
      "           0       0.82      0.91      0.86       620\n",
      "           1       0.67      0.47      0.55       240\n",
      "\n",
      "    accuracy                           0.79       860\n",
      "   macro avg       0.74      0.69      0.71       860\n",
      "weighted avg       0.78      0.79      0.77       860\n",
      "\n",
      "Acc : 0.7872093023255814\t F1: 0.7064895682386576\n"
     ]
    },
    {
     "name": "stderr",
     "output_type": "stream",
     "text": [
      "Training Epoch 29: 100%|\u001b[31m██████████\u001b[0m| 207/207 [00:01<00:00, 112.51it/s]\n"
     ]
    },
    {
     "name": "stdout",
     "output_type": "stream",
     "text": [
      "\tTrain Loss: 0.000 | Train Acc: 99.64%\n"
     ]
    },
    {
     "name": "stderr",
     "output_type": "stream",
     "text": [
      "Testing: 100%|\u001b[32m██████████\u001b[0m| 14/14 [00:00<00:00, 475.63it/s]\n"
     ]
    },
    {
     "name": "stdout",
     "output_type": "stream",
     "text": [
      "[[559  61]\n",
      " [116 124]]\n",
      "              precision    recall  f1-score   support\n",
      "\n",
      "           0       0.83      0.90      0.86       620\n",
      "           1       0.67      0.52      0.58       240\n",
      "\n",
      "    accuracy                           0.79       860\n",
      "   macro avg       0.75      0.71      0.72       860\n",
      "weighted avg       0.78      0.79      0.79       860\n",
      "\n",
      "Acc : 0.7941860465116279\t F1: 0.7234249375425845\n"
     ]
    },
    {
     "name": "stderr",
     "output_type": "stream",
     "text": [
      "Training Epoch 30: 100%|\u001b[31m██████████\u001b[0m| 207/207 [00:01<00:00, 113.35it/s]\n"
     ]
    },
    {
     "name": "stdout",
     "output_type": "stream",
     "text": [
      "\tTrain Loss: 0.000 | Train Acc: 99.65%\n"
     ]
    },
    {
     "name": "stderr",
     "output_type": "stream",
     "text": [
      "Testing: 100%|\u001b[32m██████████\u001b[0m| 14/14 [00:00<00:00, 479.08it/s]"
     ]
    },
    {
     "name": "stdout",
     "output_type": "stream",
     "text": [
      "[[561  59]\n",
      " [118 122]]\n",
      "              precision    recall  f1-score   support\n",
      "\n",
      "           0       0.83      0.90      0.86       620\n",
      "           1       0.67      0.51      0.58       240\n",
      "\n",
      "    accuracy                           0.79       860\n",
      "   macro avg       0.75      0.71      0.72       860\n",
      "weighted avg       0.78      0.79      0.78       860\n",
      "\n",
      "Acc : 0.7941860465116279\t F1: 0.7216568930238682\n"
     ]
    },
    {
     "name": "stderr",
     "output_type": "stream",
     "text": [
      "\n"
     ]
    }
   ],
   "source": [
    "lr, num_epochs = 0.0001, 30\n",
    "optimizer = torch.optim.Adam(model.parameters(), lr=lr)\n",
    "loss = nn.CrossEntropyLoss()\n",
    "for epoch in range(1, num_epochs+1):\n",
    "    train(model, train_iter, optimizer, loss, epoch)\n",
    "    test(model, test_iter)"
   ]
  }
 ],
 "metadata": {
  "kernelspec": {
   "display_name": "Python 3.8.13 ('pytorch_env')",
   "language": "python",
   "name": "python3"
  },
  "language_info": {
   "codemirror_mode": {
    "name": "ipython",
    "version": 3
   },
   "file_extension": ".py",
   "mimetype": "text/x-python",
   "name": "python",
   "nbconvert_exporter": "python",
   "pygments_lexer": "ipython3",
   "version": "3.8.13"
  },
  "orig_nbformat": 4,
  "vscode": {
   "interpreter": {
    "hash": "4bbee185f428494c0f3f4eb26ca27cba894eb4f3d4a4ff826385edccebf850a3"
   }
  }
 },
 "nbformat": 4,
 "nbformat_minor": 2
}
