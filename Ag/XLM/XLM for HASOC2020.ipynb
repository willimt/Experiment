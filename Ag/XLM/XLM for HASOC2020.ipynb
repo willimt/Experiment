{
 "cells": [
  {
   "cell_type": "code",
   "execution_count": 1,
   "metadata": {},
   "outputs": [],
   "source": [
    "from sklearn import metrics\n",
    "import processing\n",
    "import time\n",
    "import os\n",
    "from tqdm import tqdm\n",
    "from torch.optim import Adam\n",
    "from torch import nn\n",
    "import numpy as np\n",
    "import sys\n",
    "sys.path.append(\"D:/Experiment\")\n",
    "import torch\n",
    "from MyKu import processing\n",
    "from MyKu import MyXLM\n",
    "import pandas as pd"
   ]
  },
  {
   "cell_type": "code",
   "execution_count": 4,
   "metadata": {},
   "outputs": [],
   "source": [
    "\n",
    "# 训练准备阶段，设置超参数和全局变量\n",
    "file_name = 'readme.md'\n",
    "batch_size = 32\n",
    "num_epoch = 50  # 训练轮次\n",
    "check_step = 1  # 用以训练中途对模型进行检验：每check_step个epoch进行一次测试和保存模型\n",
    "\n",
    "learning_rate = 1e-5  # 优化器的学习率\n",
    "\n",
    "# 获取训练、测试数据、分类类别总数\n",
    "en_train_data, en_test_data, de_train_data, de_test_data, hi_train_data, hi_test_data = processing.load_hasoc2020()\n",
    "categories = 2\n",
    "\n",
    "en_train_iter, en_test_iter = MyXLM.load_xlm_data(en_train_data, en_test_data, batch_size)\n",
    "de_train_iter, de_test_iter = MyXLM.load_xlm_data(de_train_data, de_test_data, batch_size)\n",
    "hi_train_iter, hi_test_iter = MyXLM.load_xlm_data(hi_train_data, hi_test_data, batch_size)\n",
    "#固定写法，可以牢记，cuda代表Gpu\n",
    "# torch.cuda.is_available()可以查看当前Gpu是否可用\n",
    "device = torch.device(\"cuda\" if torch.cuda.is_available() else \"cpu\")\n",
    "\n",
    "# 加载预训练模型，因为这里是英文数据集，需要用在英文上的预训练模型：bert-base-uncased\n",
    "# uncased指该预训练模型对应的词表不区分字母的大小写\n",
    "# 详情可了解：https://huggingface.co/bert-base-uncased\n",
    "pretrained_model_name = 'xlm-roberta-base'\n",
    "# 创建模型 BertSST2Model\n",
    "model = MyXLM.MyXlmModel(categories, pretrained_model_name)\n",
    "# 固定写法，将模型加载到device上，\n",
    "# 如果是GPU上运行，此时可以观察到GPU的显存增加\n",
    "model.to(device)\n",
    "\n",
    "# 训练过程\n",
    "# Adam是最近较为常用的优化器，详情可查看：https://www.jianshu.com/p/aebcaf8af76e\n",
    "optimizer = Adam(model.parameters(), learning_rate)  # 使用Adam优化器\n",
    "loss = nn.CrossEntropyLoss()  # 使用crossentropy作为二分类任务的损失函数\n",
    "\n",
    "# 记录当前训练时间，用以记录日志和存储\n",
    "timestamp = time.strftime(\"%m_%d_%H_%M\", time.localtime())\n"
   ]
  },
  {
   "cell_type": "code",
   "execution_count": 5,
   "metadata": {},
   "outputs": [
    {
     "name": "stderr",
     "output_type": "stream",
     "text": [
      "Training Epoch 1:   0%|\u001b[31m          \u001b[0m| 0/116 [00:01<?, ?it/s]\n"
     ]
    },
    {
     "ename": "RuntimeError",
     "evalue": "CUDA out of memory. Tried to allocate 734.00 MiB (GPU 0; 8.00 GiB total capacity; 5.53 GiB already allocated; 0 bytes free; 6.74 GiB reserved in total by PyTorch) If reserved memory is >> allocated memory try setting max_split_size_mb to avoid fragmentation.  See documentation for Memory Management and PYTORCH_CUDA_ALLOC_CONF",
     "output_type": "error",
     "traceback": [
      "\u001b[1;31m---------------------------------------------------------------------------\u001b[0m",
      "\u001b[1;31mRuntimeError\u001b[0m                              Traceback (most recent call last)",
      "\u001b[1;32md:\\Experiment\\Ag\\XLM\\XLM for HASOC2020.ipynb Cell 3'\u001b[0m in \u001b[0;36m<cell line: 6>\u001b[1;34m()\u001b[0m\n\u001b[0;32m      <a href='vscode-notebook-cell:/d%3A/Experiment/Ag/XLM/XLM%20for%20HASOC2020.ipynb#ch0000002?line=4'>5</a>\u001b[0m hi_temp_best \u001b[39m=\u001b[39m \u001b[39m0.6\u001b[39m\n\u001b[0;32m      <a href='vscode-notebook-cell:/d%3A/Experiment/Ag/XLM/XLM%20for%20HASOC2020.ipynb#ch0000002?line=5'>6</a>\u001b[0m \u001b[39mfor\u001b[39;00m epoch \u001b[39min\u001b[39;00m \u001b[39mrange\u001b[39m(\u001b[39m1\u001b[39m, num_epoch \u001b[39m+\u001b[39m \u001b[39m1\u001b[39m):\n\u001b[1;32m----> <a href='vscode-notebook-cell:/d%3A/Experiment/Ag/XLM/XLM%20for%20HASOC2020.ipynb#ch0000002?line=6'>7</a>\u001b[0m     MyXLM\u001b[39m.\u001b[39;49mtrain(model, en_train_iter, device, optimizer, loss, epoch)\n\u001b[0;32m      <a href='vscode-notebook-cell:/d%3A/Experiment/Ag/XLM/XLM%20for%20HASOC2020.ipynb#ch0000002?line=7'>8</a>\u001b[0m     MyXLM\u001b[39m.\u001b[39mtrain(model, de_train_iter, device, optimizer, loss, epoch)\n\u001b[0;32m      <a href='vscode-notebook-cell:/d%3A/Experiment/Ag/XLM/XLM%20for%20HASOC2020.ipynb#ch0000002?line=8'>9</a>\u001b[0m     MyXLM\u001b[39m.\u001b[39mtrain(model, hi_train_iter, device, optimizer, loss, epoch)\n",
      "File \u001b[1;32mD:\\Experiment\\MyKu\\MyXLM.py:129\u001b[0m, in \u001b[0;36mtrain\u001b[1;34m(model, train_dataloader, device, optimizer, loss, epoch)\u001b[0m\n\u001b[0;32m    127\u001b[0m l \u001b[39m=\u001b[39m loss(bert_output, targets)\n\u001b[0;32m    128\u001b[0m \u001b[39m# 梯度反向传播\u001b[39;00m\n\u001b[1;32m--> 129\u001b[0m l\u001b[39m.\u001b[39;49mbackward()\n\u001b[0;32m    130\u001b[0m \u001b[39m# 根据反向传播的值更新模型的参数\u001b[39;00m\n\u001b[0;32m    131\u001b[0m optimizer\u001b[39m.\u001b[39mstep()\n",
      "File \u001b[1;32md:\\Software\\anaconda3\\envs\\pytorch_env\\lib\\site-packages\\torch\\_tensor.py:363\u001b[0m, in \u001b[0;36mTensor.backward\u001b[1;34m(self, gradient, retain_graph, create_graph, inputs)\u001b[0m\n\u001b[0;32m    354\u001b[0m \u001b[39mif\u001b[39;00m has_torch_function_unary(\u001b[39mself\u001b[39m):\n\u001b[0;32m    355\u001b[0m     \u001b[39mreturn\u001b[39;00m handle_torch_function(\n\u001b[0;32m    356\u001b[0m         Tensor\u001b[39m.\u001b[39mbackward,\n\u001b[0;32m    357\u001b[0m         (\u001b[39mself\u001b[39m,),\n\u001b[1;32m   (...)\u001b[0m\n\u001b[0;32m    361\u001b[0m         create_graph\u001b[39m=\u001b[39mcreate_graph,\n\u001b[0;32m    362\u001b[0m         inputs\u001b[39m=\u001b[39minputs)\n\u001b[1;32m--> 363\u001b[0m torch\u001b[39m.\u001b[39;49mautograd\u001b[39m.\u001b[39;49mbackward(\u001b[39mself\u001b[39;49m, gradient, retain_graph, create_graph, inputs\u001b[39m=\u001b[39;49minputs)\n",
      "File \u001b[1;32md:\\Software\\anaconda3\\envs\\pytorch_env\\lib\\site-packages\\torch\\autograd\\__init__.py:173\u001b[0m, in \u001b[0;36mbackward\u001b[1;34m(tensors, grad_tensors, retain_graph, create_graph, grad_variables, inputs)\u001b[0m\n\u001b[0;32m    168\u001b[0m     retain_graph \u001b[39m=\u001b[39m create_graph\n\u001b[0;32m    170\u001b[0m \u001b[39m# The reason we repeat same the comment below is that\u001b[39;00m\n\u001b[0;32m    171\u001b[0m \u001b[39m# some Python versions print out the first line of a multi-line function\u001b[39;00m\n\u001b[0;32m    172\u001b[0m \u001b[39m# calls in the traceback and some print out the last line\u001b[39;00m\n\u001b[1;32m--> 173\u001b[0m Variable\u001b[39m.\u001b[39;49m_execution_engine\u001b[39m.\u001b[39;49mrun_backward(  \u001b[39m# Calls into the C++ engine to run the backward pass\u001b[39;49;00m\n\u001b[0;32m    174\u001b[0m     tensors, grad_tensors_, retain_graph, create_graph, inputs,\n\u001b[0;32m    175\u001b[0m     allow_unreachable\u001b[39m=\u001b[39;49m\u001b[39mTrue\u001b[39;49;00m, accumulate_grad\u001b[39m=\u001b[39;49m\u001b[39mTrue\u001b[39;49;00m)\n",
      "\u001b[1;31mRuntimeError\u001b[0m: CUDA out of memory. Tried to allocate 734.00 MiB (GPU 0; 8.00 GiB total capacity; 5.53 GiB already allocated; 0 bytes free; 6.74 GiB reserved in total by PyTorch) If reserved memory is >> allocated memory try setting max_split_size_mb to avoid fragmentation.  See documentation for Memory Management and PYTORCH_CUDA_ALLOC_CONF"
     ]
    }
   ],
   "source": [
    "file_name = 'readme.md'\n",
    "model_save_path = 'D:/Experiment_models_save/XLM-Roberta-base/hasoc2020/taskA.pth'\n",
    "en_temp_best = 0.88\n",
    "de_temp_best = 0.85\n",
    "hi_temp_best = 0.6\n",
    "for epoch in range(1, num_epoch + 1):\n",
    "    MyXLM.train(model, en_train_iter, device, optimizer, loss, epoch)\n",
    "    MyXLM.train(model, de_train_iter, device, optimizer, loss, epoch)\n",
    "    MyXLM.train(model, hi_train_iter, device, optimizer, loss, epoch)\n",
    "    en_acc_score = MyXLM.test(model, en_test_iter, device, epoch, file_name)\n",
    "    de_acc_score = MyXLM.test(model, de_test_iter, device, epoch, file_name)\n",
    "    hi_acc_score = MyXLM.test(model, hi_test_iter, device, epoch, file_name)\n",
    "    print('\\n\\n')\n",
    "    if en_acc_score > en_temp_best and de_acc_score > de_temp_best and hi_acc_score > hi_temp_best:\n",
    "        en_temp_best, de_temp_best, hi_temp_best = en_acc_score, de_acc_score, hi_acc_score\n",
    "        MyXLM.save_pretrained(model, model_save_path)\n",
    "        print(f'best en_acc_socre : {en_acc_score}, best de_acc_score : {de_acc_score}, best hi_acc_score : {hi_acc_score}')\n",
    "print(f'best en_acc_socre : {en_temp_best}, best de_acc_score : {de_temp_best}, best de_acc_score : {hi_temp_best}')\n"
   ]
  }
 ],
 "metadata": {
  "kernelspec": {
   "display_name": "Python 3.8.13 ('pytorch_env')",
   "language": "python",
   "name": "python3"
  },
  "language_info": {
   "codemirror_mode": {
    "name": "ipython",
    "version": 3
   },
   "file_extension": ".py",
   "mimetype": "text/x-python",
   "name": "python",
   "nbconvert_exporter": "python",
   "pygments_lexer": "ipython3",
   "version": "3.8.13"
  },
  "orig_nbformat": 4,
  "vscode": {
   "interpreter": {
    "hash": "4bbee185f428494c0f3f4eb26ca27cba894eb4f3d4a4ff826385edccebf850a3"
   }
  }
 },
 "nbformat": 4,
 "nbformat_minor": 2
}
