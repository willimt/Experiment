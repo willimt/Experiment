{
 "cells": [
  {
   "cell_type": "code",
   "execution_count": 1,
   "metadata": {},
   "outputs": [],
   "source": [
    "from sklearn import metrics\n",
    "import processing\n",
    "import time\n",
    "import os\n",
    "from tqdm import tqdm\n",
    "from torch.optim import Adam\n",
    "from torch import nn\n",
    "import numpy as np\n",
    "import sys\n",
    "sys.path.append(\"D:/Experiment\")\n",
    "import torch\n",
    "from MyKu import processing\n",
    "from MyKu import MyXLM_TW\n",
    "import pandas as pd\n",
    "import warnings\n",
    "warnings.filterwarnings(\"ignore\")"
   ]
  },
  {
   "cell_type": "code",
   "execution_count": 2,
   "metadata": {},
   "outputs": [],
   "source": [
    "# 训练准备阶段，设置超参数和全局变量\n",
    "\n",
    "batch_size = 32\n",
    "num_epoch = 20  # 训练轮次\n",
    "check_step = 1  # 用以训练中途对模型进行检验：每check_step个epoch进行一次测试和保存模型\n",
    "\n",
    "learning_rate = 1e-5  # 优化器的学习率\n",
    "\n",
    "# 获取训练、测试数据、分类类别总数\n",
    "en_train_data, en_test_data, de_train_data, de_test_data, hi_train_data, hi_test_data = processing.load_hasoc2020_for_taskB()\n",
    "categories = 3\n",
    "\n",
    "en_train_iter, en_test_iter = MyXLM_TW.load_xlm_data(en_train_data, en_test_data, batch_size)\n",
    "de_train_iter, de_test_iter = MyXLM_TW.load_xlm_data(de_train_data, de_test_data, batch_size)\n",
    "hi_train_iter, hi_test_iter = MyXLM_TW.load_xlm_data(hi_train_data, hi_test_data, batch_size)\n",
    "#固定写法，可以牢记，cuda代表Gpu\n",
    "# torch.cuda.is_available()可以查看当前Gpu是否可用\n",
    "device = torch.device(\"cuda\" if torch.cuda.is_available() else \"cpu\")\n",
    "\n",
    "# 加载预训练模型，因为这里是英文数据集，需要用在英文上的预训练模型：bert-base-uncased\n",
    "# uncased指该预训练模型对应的词表不区分字母的大小写\n",
    "# 详情可了解：https://huggingface.co/bert-base-uncased\n",
    "pretrained_model_name = 'cardiffnlp/twitter-xlm-roberta-base-sentiment'\n",
    "# 创建模型 BertSST2Model\n",
    "model = MyXLM_TW.MyXlmModel(categories, pretrained_model_name)\n",
    "# 固定写法，将模型加载到device上，\n",
    "# 如果是GPU上运行，此时可以观察到GPU的显存增加\n",
    "model.to(device)\n",
    "\n",
    "# 训练过程\n",
    "# Adam是最近较为常用的优化器，详情可查看：https://www.jianshu.com/p/aebcaf8af76e\n",
    "optimizer = Adam(model.parameters(), learning_rate)  # 使用Adam优化器\n",
    "loss = nn.CrossEntropyLoss()  # 使用crossentropy作为二分类任务的损失函数\n",
    "\n",
    "# 记录当前训练时间，用以记录日志和存储\n",
    "timestamp = time.strftime(\"%m_%d_%H_%M\", time.localtime())"
   ]
  },
  {
   "cell_type": "code",
   "execution_count": 6,
   "metadata": {},
   "outputs": [
    {
     "name": "stderr",
     "output_type": "stream",
     "text": [
      "Training Epoch 1: 100%|\u001b[31m██████████\u001b[0m| 58/58 [00:32<00:00,  1.78it/s]\n",
      "Training Epoch 1: 100%|\u001b[31m██████████\u001b[0m| 22/22 [00:11<00:00,  1.93it/s]\n",
      "Training Epoch 1: 100%|\u001b[31m██████████\u001b[0m| 27/27 [00:23<00:00,  1.14it/s]\n",
      "Testing: 100%|\u001b[32m██████████\u001b[0m| 807/807 [00:10<00:00, 79.94it/s]\n"
     ]
    },
    {
     "name": "stdout",
     "output_type": "stream",
     "text": [
      "[[538  21  21]\n",
      " [ 99  56  14]\n",
      " [ 32   9  17]]\n",
      "              precision    recall  f1-score   support\n",
      "\n",
      "           0       0.80      0.93      0.86       580\n",
      "           1       0.65      0.33      0.44       169\n",
      "           2       0.33      0.29      0.31        58\n",
      "\n",
      "    accuracy                           0.76       807\n",
      "   macro avg       0.59      0.52      0.54       807\n",
      "weighted avg       0.74      0.76      0.73       807\n",
      "\n",
      "Acc : 0.7571251548946716\t F1: 0.5365985955728337\n"
     ]
    },
    {
     "name": "stderr",
     "output_type": "stream",
     "text": [
      "Testing: 100%|\u001b[32m██████████\u001b[0m| 300/300 [00:04<00:00, 73.00it/s]\n"
     ]
    },
    {
     "name": "stdout",
     "output_type": "stream",
     "text": [
      "[[163   8   6]\n",
      " [ 33  27   6]\n",
      " [  6   4  47]]\n",
      "              precision    recall  f1-score   support\n",
      "\n",
      "           0       0.81      0.92      0.86       177\n",
      "           1       0.69      0.41      0.51        66\n",
      "           2       0.80      0.82      0.81        57\n",
      "\n",
      "    accuracy                           0.79       300\n",
      "   macro avg       0.77      0.72      0.73       300\n",
      "weighted avg       0.78      0.79      0.77       300\n",
      "\n",
      "Acc : 0.79\t F1: 0.7282629510725225\n"
     ]
    },
    {
     "name": "stderr",
     "output_type": "stream",
     "text": [
      "Testing: 100%|\u001b[32m██████████\u001b[0m| 367/367 [00:05<00:00, 70.61it/s]\n"
     ]
    },
    {
     "name": "stdout",
     "output_type": "stream",
     "text": [
      "[[ 32  23   8]\n",
      " [ 22 109  60]\n",
      " [  8  32  73]]\n",
      "              precision    recall  f1-score   support\n",
      "\n",
      "           0       0.52      0.51      0.51        63\n",
      "           1       0.66      0.57      0.61       191\n",
      "           2       0.52      0.65      0.57       113\n",
      "\n",
      "    accuracy                           0.58       367\n",
      "   macro avg       0.57      0.57      0.57       367\n",
      "weighted avg       0.59      0.58      0.58       367\n",
      "\n",
      "Acc : 0.5831062670299727\t F1: 0.5669625522161842\n",
      "\n",
      "\n",
      "\n"
     ]
    },
    {
     "name": "stderr",
     "output_type": "stream",
     "text": [
      "Training Epoch 2: 100%|\u001b[31m██████████\u001b[0m| 58/58 [00:31<00:00,  1.82it/s]\n",
      "Training Epoch 2: 100%|\u001b[31m██████████\u001b[0m| 22/22 [00:11<00:00,  1.92it/s]\n",
      "Training Epoch 2: 100%|\u001b[31m██████████\u001b[0m| 27/27 [00:22<00:00,  1.18it/s]\n",
      "Testing: 100%|\u001b[32m██████████\u001b[0m| 807/807 [00:10<00:00, 75.11it/s]\n"
     ]
    },
    {
     "name": "stdout",
     "output_type": "stream",
     "text": [
      "[[536  30  14]\n",
      " [ 89  71   9]\n",
      " [ 28  16  14]]\n",
      "              precision    recall  f1-score   support\n",
      "\n",
      "           0       0.82      0.92      0.87       580\n",
      "           1       0.61      0.42      0.50       169\n",
      "           2       0.38      0.24      0.29        58\n",
      "\n",
      "    accuracy                           0.77       807\n",
      "   macro avg       0.60      0.53      0.55       807\n",
      "weighted avg       0.74      0.77      0.75       807\n",
      "\n",
      "Acc : 0.7695167286245354\t F1: 0.5535548357676671\n"
     ]
    },
    {
     "name": "stderr",
     "output_type": "stream",
     "text": [
      "Testing: 100%|\u001b[32m██████████\u001b[0m| 300/300 [00:03<00:00, 78.69it/s]\n"
     ]
    },
    {
     "name": "stdout",
     "output_type": "stream",
     "text": [
      "[[159  13   5]\n",
      " [ 29  35   2]\n",
      " [  6   9  42]]\n",
      "              precision    recall  f1-score   support\n",
      "\n",
      "           0       0.82      0.90      0.86       177\n",
      "           1       0.61      0.53      0.57        66\n",
      "           2       0.86      0.74      0.79        57\n",
      "\n",
      "    accuracy                           0.79       300\n",
      "   macro avg       0.76      0.72      0.74       300\n",
      "weighted avg       0.78      0.79      0.78       300\n",
      "\n",
      "Acc : 0.7866666666666666\t F1: 0.7395671261294824\n"
     ]
    },
    {
     "name": "stderr",
     "output_type": "stream",
     "text": [
      "Testing: 100%|\u001b[32m██████████\u001b[0m| 367/367 [00:05<00:00, 73.33it/s]\n"
     ]
    },
    {
     "name": "stdout",
     "output_type": "stream",
     "text": [
      "[[ 31  26   6]\n",
      " [ 24 143  24]\n",
      " [  6  69  38]]\n",
      "              precision    recall  f1-score   support\n",
      "\n",
      "           0       0.51      0.49      0.50        63\n",
      "           1       0.60      0.75      0.67       191\n",
      "           2       0.56      0.34      0.42       113\n",
      "\n",
      "    accuracy                           0.58       367\n",
      "   macro avg       0.56      0.53      0.53       367\n",
      "weighted avg       0.57      0.58      0.56       367\n",
      "\n",
      "Acc : 0.5776566757493188\t F1: 0.5288520564763659\n",
      "\n",
      "\n",
      "\n"
     ]
    },
    {
     "name": "stderr",
     "output_type": "stream",
     "text": [
      "Training Epoch 3: 100%|\u001b[31m██████████\u001b[0m| 58/58 [00:32<00:00,  1.81it/s]\n",
      "Training Epoch 3: 100%|\u001b[31m██████████\u001b[0m| 22/22 [00:11<00:00,  1.91it/s]\n",
      "Training Epoch 3: 100%|\u001b[31m██████████\u001b[0m| 27/27 [00:22<00:00,  1.18it/s]\n",
      "Testing: 100%|\u001b[32m██████████\u001b[0m| 807/807 [00:10<00:00, 78.93it/s]\n"
     ]
    },
    {
     "name": "stdout",
     "output_type": "stream",
     "text": [
      "[[529  27  24]\n",
      " [ 80  70  19]\n",
      " [ 24  14  20]]\n",
      "              precision    recall  f1-score   support\n",
      "\n",
      "           0       0.84      0.91      0.87       580\n",
      "           1       0.63      0.41      0.50       169\n",
      "           2       0.32      0.34      0.33        58\n",
      "\n",
      "    accuracy                           0.77       807\n",
      "   macro avg       0.59      0.56      0.57       807\n",
      "weighted avg       0.76      0.77      0.76       807\n",
      "\n",
      "Acc : 0.7670384138785625\t F1: 0.5675987182020308\n"
     ]
    },
    {
     "name": "stderr",
     "output_type": "stream",
     "text": [
      "Testing: 100%|\u001b[32m██████████\u001b[0m| 300/300 [00:03<00:00, 81.85it/s]\n"
     ]
    },
    {
     "name": "stdout",
     "output_type": "stream",
     "text": [
      "[[154  13  10]\n",
      " [ 29  31   6]\n",
      " [  6   6  45]]\n",
      "              precision    recall  f1-score   support\n",
      "\n",
      "           0       0.81      0.87      0.84       177\n",
      "           1       0.62      0.47      0.53        66\n",
      "           2       0.74      0.79      0.76        57\n",
      "\n",
      "    accuracy                           0.77       300\n",
      "   macro avg       0.72      0.71      0.71       300\n",
      "weighted avg       0.76      0.77      0.76       300\n",
      "\n",
      "Acc : 0.7666666666666667\t F1: 0.7129082258907594\n"
     ]
    },
    {
     "name": "stderr",
     "output_type": "stream",
     "text": [
      "Testing: 100%|\u001b[32m██████████\u001b[0m| 367/367 [00:05<00:00, 65.93it/s]\n"
     ]
    },
    {
     "name": "stdout",
     "output_type": "stream",
     "text": [
      "[[ 41  16   6]\n",
      " [ 54 111  26]\n",
      " [ 21  55  37]]\n",
      "              precision    recall  f1-score   support\n",
      "\n",
      "           0       0.35      0.65      0.46        63\n",
      "           1       0.61      0.58      0.60       191\n",
      "           2       0.54      0.33      0.41       113\n",
      "\n",
      "    accuracy                           0.51       367\n",
      "   macro avg       0.50      0.52      0.49       367\n",
      "weighted avg       0.54      0.51      0.51       367\n",
      "\n",
      "Acc : 0.5149863760217984\t F1: 0.486622742662403\n",
      "\n",
      "\n",
      "\n"
     ]
    },
    {
     "name": "stderr",
     "output_type": "stream",
     "text": [
      "Training Epoch 4: 100%|\u001b[31m██████████\u001b[0m| 58/58 [00:32<00:00,  1.77it/s]\n",
      "Training Epoch 4: 100%|\u001b[31m██████████\u001b[0m| 22/22 [00:11<00:00,  1.93it/s]\n",
      "Training Epoch 4: 100%|\u001b[31m██████████\u001b[0m| 27/27 [00:24<00:00,  1.11it/s]\n",
      "Testing: 100%|\u001b[32m██████████\u001b[0m| 807/807 [00:11<00:00, 72.57it/s]\n"
     ]
    },
    {
     "name": "stdout",
     "output_type": "stream",
     "text": [
      "[[491  73  16]\n",
      " [ 66  97   6]\n",
      " [ 16  27  15]]\n",
      "              precision    recall  f1-score   support\n",
      "\n",
      "           0       0.86      0.85      0.85       580\n",
      "           1       0.49      0.57      0.53       169\n",
      "           2       0.41      0.26      0.32        58\n",
      "\n",
      "    accuracy                           0.75       807\n",
      "   macro avg       0.58      0.56      0.57       807\n",
      "weighted avg       0.75      0.75      0.75       807\n",
      "\n",
      "Acc : 0.7472118959107806\t F1: 0.5658451195785995\n"
     ]
    },
    {
     "name": "stderr",
     "output_type": "stream",
     "text": [
      "Testing: 100%|\u001b[32m██████████\u001b[0m| 300/300 [00:04<00:00, 73.67it/s]\n"
     ]
    },
    {
     "name": "stdout",
     "output_type": "stream",
     "text": [
      "[[141  31   5]\n",
      " [ 23  40   3]\n",
      " [  4  13  40]]\n",
      "              precision    recall  f1-score   support\n",
      "\n",
      "           0       0.84      0.80      0.82       177\n",
      "           1       0.48      0.61      0.53        66\n",
      "           2       0.83      0.70      0.76        57\n",
      "\n",
      "    accuracy                           0.74       300\n",
      "   macro avg       0.72      0.70      0.70       300\n",
      "weighted avg       0.76      0.74      0.74       300\n",
      "\n",
      "Acc : 0.7366666666666667\t F1: 0.7042097998619737\n"
     ]
    },
    {
     "name": "stderr",
     "output_type": "stream",
     "text": [
      "Testing: 100%|\u001b[32m██████████\u001b[0m| 367/367 [00:05<00:00, 67.22it/s]\n"
     ]
    },
    {
     "name": "stdout",
     "output_type": "stream",
     "text": [
      "[[ 17  40   6]\n",
      " [  9 155  27]\n",
      " [  2  63  48]]\n",
      "              precision    recall  f1-score   support\n",
      "\n",
      "           0       0.61      0.27      0.37        63\n",
      "           1       0.60      0.81      0.69       191\n",
      "           2       0.59      0.42      0.49       113\n",
      "\n",
      "    accuracy                           0.60       367\n",
      "   macro avg       0.60      0.50      0.52       367\n",
      "weighted avg       0.60      0.60      0.58       367\n",
      "\n",
      "Acc : 0.5994550408719346\t F1: 0.5196316323448783\n",
      "\n",
      "\n",
      "\n"
     ]
    },
    {
     "name": "stderr",
     "output_type": "stream",
     "text": [
      "Training Epoch 5: 100%|\u001b[31m██████████\u001b[0m| 58/58 [00:32<00:00,  1.80it/s]\n",
      "Training Epoch 5: 100%|\u001b[31m██████████\u001b[0m| 22/22 [00:10<00:00,  2.01it/s]\n",
      "Training Epoch 5: 100%|\u001b[31m██████████\u001b[0m| 27/27 [00:22<00:00,  1.23it/s]\n",
      "Testing: 100%|\u001b[32m██████████\u001b[0m| 807/807 [00:10<00:00, 79.47it/s]\n"
     ]
    },
    {
     "name": "stdout",
     "output_type": "stream",
     "text": [
      "[[524  37  19]\n",
      " [ 77  80  12]\n",
      " [ 24  21  13]]\n",
      "              precision    recall  f1-score   support\n",
      "\n",
      "           0       0.84      0.90      0.87       580\n",
      "           1       0.58      0.47      0.52       169\n",
      "           2       0.30      0.22      0.25        58\n",
      "\n",
      "    accuracy                           0.76       807\n",
      "   macro avg       0.57      0.53      0.55       807\n",
      "weighted avg       0.75      0.76      0.75       807\n",
      "\n",
      "Acc : 0.7645600991325898\t F1: 0.5485947142630868\n"
     ]
    },
    {
     "name": "stderr",
     "output_type": "stream",
     "text": [
      "Testing: 100%|\u001b[32m██████████\u001b[0m| 300/300 [00:03<00:00, 83.09it/s]\n"
     ]
    },
    {
     "name": "stdout",
     "output_type": "stream",
     "text": [
      "[[149  22   6]\n",
      " [ 25  38   3]\n",
      " [  8  13  36]]\n",
      "              precision    recall  f1-score   support\n",
      "\n",
      "           0       0.82      0.84      0.83       177\n",
      "           1       0.52      0.58      0.55        66\n",
      "           2       0.80      0.63      0.71        57\n",
      "\n",
      "    accuracy                           0.74       300\n",
      "   macro avg       0.71      0.68      0.69       300\n",
      "weighted avg       0.75      0.74      0.74       300\n",
      "\n",
      "Acc : 0.7433333333333333\t F1: 0.6942428361096148\n"
     ]
    },
    {
     "name": "stderr",
     "output_type": "stream",
     "text": [
      "Testing: 100%|\u001b[32m██████████\u001b[0m| 367/367 [00:04<00:00, 75.15it/s]\n"
     ]
    },
    {
     "name": "stdout",
     "output_type": "stream",
     "text": [
      "[[ 21  40   2]\n",
      " [  9 170  12]\n",
      " [  4  80  29]]\n",
      "              precision    recall  f1-score   support\n",
      "\n",
      "           0       0.62      0.33      0.43        63\n",
      "           1       0.59      0.89      0.71       191\n",
      "           2       0.67      0.26      0.37       113\n",
      "\n",
      "    accuracy                           0.60       367\n",
      "   macro avg       0.63      0.49      0.50       367\n",
      "weighted avg       0.62      0.60      0.56       367\n",
      "\n",
      "Acc : 0.5994550408719346\t F1: 0.5038817564590761\n",
      "\n",
      "\n",
      "\n"
     ]
    },
    {
     "name": "stderr",
     "output_type": "stream",
     "text": [
      "Training Epoch 6: 100%|\u001b[31m██████████\u001b[0m| 58/58 [00:30<00:00,  1.89it/s]\n",
      "Training Epoch 6: 100%|\u001b[31m██████████\u001b[0m| 22/22 [00:10<00:00,  2.01it/s]\n",
      "Training Epoch 6: 100%|\u001b[31m██████████\u001b[0m| 27/27 [00:21<00:00,  1.23it/s]\n",
      "Testing: 100%|\u001b[32m██████████\u001b[0m| 807/807 [00:09<00:00, 83.74it/s]\n"
     ]
    },
    {
     "name": "stdout",
     "output_type": "stream",
     "text": [
      "[[540  21  19]\n",
      " [ 92  62  15]\n",
      " [ 25  14  19]]\n",
      "              precision    recall  f1-score   support\n",
      "\n",
      "           0       0.82      0.93      0.87       580\n",
      "           1       0.64      0.37      0.47       169\n",
      "           2       0.36      0.33      0.34        58\n",
      "\n",
      "    accuracy                           0.77       807\n",
      "   macro avg       0.61      0.54      0.56       807\n",
      "weighted avg       0.75      0.77      0.75       807\n",
      "\n",
      "Acc : 0.7695167286245354\t F1: 0.5605292627374915\n"
     ]
    },
    {
     "name": "stderr",
     "output_type": "stream",
     "text": [
      "Testing: 100%|\u001b[32m██████████\u001b[0m| 300/300 [00:04<00:00, 74.42it/s]\n"
     ]
    },
    {
     "name": "stdout",
     "output_type": "stream",
     "text": [
      "[[156  13   8]\n",
      " [ 32  31   3]\n",
      " [  7   6  44]]\n",
      "              precision    recall  f1-score   support\n",
      "\n",
      "           0       0.80      0.88      0.84       177\n",
      "           1       0.62      0.47      0.53        66\n",
      "           2       0.80      0.77      0.79        57\n",
      "\n",
      "    accuracy                           0.77       300\n",
      "   macro avg       0.74      0.71      0.72       300\n",
      "weighted avg       0.76      0.77      0.76       300\n",
      "\n",
      "Acc : 0.77\t F1: 0.7196355739181101\n"
     ]
    },
    {
     "name": "stderr",
     "output_type": "stream",
     "text": [
      "Testing: 100%|\u001b[32m██████████\u001b[0m| 367/367 [00:05<00:00, 71.05it/s]\n"
     ]
    },
    {
     "name": "stdout",
     "output_type": "stream",
     "text": [
      "[[ 31  27   5]\n",
      " [ 18 132  41]\n",
      " [  5  48  60]]\n",
      "              precision    recall  f1-score   support\n",
      "\n",
      "           0       0.57      0.49      0.53        63\n",
      "           1       0.64      0.69      0.66       191\n",
      "           2       0.57      0.53      0.55       113\n",
      "\n",
      "    accuracy                           0.61       367\n",
      "   macro avg       0.59      0.57      0.58       367\n",
      "weighted avg       0.60      0.61      0.60       367\n",
      "\n",
      "Acc : 0.6076294277929155\t F1: 0.5803921061028516\n",
      "\n",
      "\n",
      "\n"
     ]
    },
    {
     "name": "stderr",
     "output_type": "stream",
     "text": [
      "Training Epoch 7: 100%|\u001b[31m██████████\u001b[0m| 58/58 [00:30<00:00,  1.91it/s]\n",
      "Training Epoch 7: 100%|\u001b[31m██████████\u001b[0m| 22/22 [00:11<00:00,  2.00it/s]\n",
      "Training Epoch 7: 100%|\u001b[31m██████████\u001b[0m| 27/27 [00:21<00:00,  1.26it/s]\n",
      "Testing: 100%|\u001b[32m██████████\u001b[0m| 807/807 [00:09<00:00, 82.15it/s]\n"
     ]
    },
    {
     "name": "stdout",
     "output_type": "stream",
     "text": [
      "[[527  36  17]\n",
      " [ 72  83  14]\n",
      " [ 21  19  18]]\n",
      "              precision    recall  f1-score   support\n",
      "\n",
      "           0       0.85      0.91      0.88       580\n",
      "           1       0.60      0.49      0.54       169\n",
      "           2       0.37      0.31      0.34        58\n",
      "\n",
      "    accuracy                           0.78       807\n",
      "   macro avg       0.61      0.57      0.59       807\n",
      "weighted avg       0.76      0.78      0.77       807\n",
      "\n",
      "Acc : 0.7781908302354399\t F1: 0.5851661812806749\n"
     ]
    },
    {
     "name": "stderr",
     "output_type": "stream",
     "text": [
      "Testing: 100%|\u001b[32m██████████\u001b[0m| 300/300 [00:03<00:00, 97.04it/s] \n"
     ]
    },
    {
     "name": "stdout",
     "output_type": "stream",
     "text": [
      "[[156  16   5]\n",
      " [ 29  32   5]\n",
      " [  9   5  43]]\n",
      "              precision    recall  f1-score   support\n",
      "\n",
      "           0       0.80      0.88      0.84       177\n",
      "           1       0.60      0.48      0.54        66\n",
      "           2       0.81      0.75      0.78        57\n",
      "\n",
      "    accuracy                           0.77       300\n",
      "   macro avg       0.74      0.71      0.72       300\n",
      "weighted avg       0.76      0.77      0.76       300\n",
      "\n",
      "Acc : 0.77\t F1: 0.7202012194243048\n"
     ]
    },
    {
     "name": "stderr",
     "output_type": "stream",
     "text": [
      "Testing: 100%|\u001b[32m██████████\u001b[0m| 367/367 [00:03<00:00, 98.35it/s] \n"
     ]
    },
    {
     "name": "stdout",
     "output_type": "stream",
     "text": [
      "[[ 29  26   8]\n",
      " [ 18 128  45]\n",
      " [  3  52  58]]\n",
      "              precision    recall  f1-score   support\n",
      "\n",
      "           0       0.58      0.46      0.51        63\n",
      "           1       0.62      0.67      0.64       191\n",
      "           2       0.52      0.51      0.52       113\n",
      "\n",
      "    accuracy                           0.59       367\n",
      "   macro avg       0.57      0.55      0.56       367\n",
      "weighted avg       0.58      0.59      0.58       367\n",
      "\n",
      "Acc : 0.5858310626702997\t F1: 0.5586559170602103\n",
      "\n",
      "\n",
      "\n"
     ]
    },
    {
     "name": "stderr",
     "output_type": "stream",
     "text": [
      "Training Epoch 8: 100%|\u001b[31m██████████\u001b[0m| 58/58 [00:18<00:00,  3.18it/s]\n",
      "Training Epoch 8: 100%|\u001b[31m██████████\u001b[0m| 22/22 [00:06<00:00,  3.33it/s]\n",
      "Training Epoch 8: 100%|\u001b[31m██████████\u001b[0m| 27/27 [00:13<00:00,  2.00it/s]\n",
      "Testing: 100%|\u001b[32m██████████\u001b[0m| 807/807 [00:08<00:00, 90.47it/s] \n"
     ]
    },
    {
     "name": "stdout",
     "output_type": "stream",
     "text": [
      "[[497  59  24]\n",
      " [ 64  88  17]\n",
      " [ 18  21  19]]\n",
      "              precision    recall  f1-score   support\n",
      "\n",
      "           0       0.86      0.86      0.86       580\n",
      "           1       0.52      0.52      0.52       169\n",
      "           2       0.32      0.33      0.32        58\n",
      "\n",
      "    accuracy                           0.75       807\n",
      "   macro avg       0.57      0.57      0.57       807\n",
      "weighted avg       0.75      0.75      0.75       807\n",
      "\n",
      "Acc : 0.748451053283767\t F1: 0.5673083280648799\n"
     ]
    },
    {
     "name": "stderr",
     "output_type": "stream",
     "text": [
      "Testing: 100%|\u001b[32m██████████\u001b[0m| 300/300 [00:03<00:00, 97.55it/s] \n"
     ]
    },
    {
     "name": "stdout",
     "output_type": "stream",
     "text": [
      "[[150  15  12]\n",
      " [ 27  28  11]\n",
      " [  4   6  47]]\n",
      "              precision    recall  f1-score   support\n",
      "\n",
      "           0       0.83      0.85      0.84       177\n",
      "           1       0.57      0.42      0.49        66\n",
      "           2       0.67      0.82      0.74        57\n",
      "\n",
      "    accuracy                           0.75       300\n",
      "   macro avg       0.69      0.70      0.69       300\n",
      "weighted avg       0.74      0.75      0.74       300\n",
      "\n",
      "Acc : 0.75\t F1: 0.6883676096232446\n"
     ]
    },
    {
     "name": "stderr",
     "output_type": "stream",
     "text": [
      "Testing: 100%|\u001b[32m██████████\u001b[0m| 367/367 [00:03<00:00, 95.73it/s]\n"
     ]
    },
    {
     "name": "stdout",
     "output_type": "stream",
     "text": [
      "[[ 29  28   6]\n",
      " [ 28 111  52]\n",
      " [ 11  44  58]]\n",
      "              precision    recall  f1-score   support\n",
      "\n",
      "           0       0.43      0.46      0.44        63\n",
      "           1       0.61      0.58      0.59       191\n",
      "           2       0.50      0.51      0.51       113\n",
      "\n",
      "    accuracy                           0.54       367\n",
      "   macro avg       0.51      0.52      0.51       367\n",
      "weighted avg       0.54      0.54      0.54       367\n",
      "\n",
      "Acc : 0.5395095367847411\t F1: 0.5142937325480665\n",
      "\n",
      "\n",
      "\n"
     ]
    },
    {
     "name": "stderr",
     "output_type": "stream",
     "text": [
      "Training Epoch 9: 100%|\u001b[31m██████████\u001b[0m| 58/58 [00:18<00:00,  3.13it/s]\n",
      "Training Epoch 9: 100%|\u001b[31m██████████\u001b[0m| 22/22 [00:06<00:00,  3.34it/s]\n",
      "Training Epoch 9: 100%|\u001b[31m██████████\u001b[0m| 27/27 [00:13<00:00,  2.03it/s]\n",
      "Testing: 100%|\u001b[32m██████████\u001b[0m| 807/807 [00:09<00:00, 89.16it/s]\n"
     ]
    },
    {
     "name": "stdout",
     "output_type": "stream",
     "text": [
      "[[550  21   9]\n",
      " [100  66   3]\n",
      " [ 28  18  12]]\n",
      "              precision    recall  f1-score   support\n",
      "\n",
      "           0       0.81      0.95      0.87       580\n",
      "           1       0.63      0.39      0.48       169\n",
      "           2       0.50      0.21      0.29        58\n",
      "\n",
      "    accuracy                           0.78       807\n",
      "   macro avg       0.65      0.52      0.55       807\n",
      "weighted avg       0.75      0.78      0.75       807\n",
      "\n",
      "Acc : 0.7781908302354399\t F1: 0.5496128557423575\n"
     ]
    },
    {
     "name": "stderr",
     "output_type": "stream",
     "text": [
      "Testing: 100%|\u001b[32m██████████\u001b[0m| 300/300 [00:02<00:00, 100.19it/s]\n"
     ]
    },
    {
     "name": "stdout",
     "output_type": "stream",
     "text": [
      "[[163  10   4]\n",
      " [ 32  27   7]\n",
      " [  8   5  44]]\n",
      "              precision    recall  f1-score   support\n",
      "\n",
      "           0       0.80      0.92      0.86       177\n",
      "           1       0.64      0.41      0.50        66\n",
      "           2       0.80      0.77      0.79        57\n",
      "\n",
      "    accuracy                           0.78       300\n",
      "   macro avg       0.75      0.70      0.71       300\n",
      "weighted avg       0.77      0.78      0.77       300\n",
      "\n",
      "Acc : 0.78\t F1: 0.7145363408521304\n"
     ]
    },
    {
     "name": "stderr",
     "output_type": "stream",
     "text": [
      "Testing: 100%|\u001b[32m██████████\u001b[0m| 367/367 [00:03<00:00, 98.73it/s] \n"
     ]
    },
    {
     "name": "stdout",
     "output_type": "stream",
     "text": [
      "[[ 28  33   2]\n",
      " [ 18 141  32]\n",
      " [  5  67  41]]\n",
      "              precision    recall  f1-score   support\n",
      "\n",
      "           0       0.55      0.44      0.49        63\n",
      "           1       0.59      0.74      0.65       191\n",
      "           2       0.55      0.36      0.44       113\n",
      "\n",
      "    accuracy                           0.57       367\n",
      "   macro avg       0.56      0.52      0.53       367\n",
      "weighted avg       0.57      0.57      0.56       367\n",
      "\n",
      "Acc : 0.5722070844686649\t F1: 0.5267253535730579\n",
      "\n",
      "\n",
      "\n"
     ]
    },
    {
     "name": "stderr",
     "output_type": "stream",
     "text": [
      "Training Epoch 10: 100%|\u001b[31m██████████\u001b[0m| 58/58 [00:18<00:00,  3.17it/s]\n",
      "Training Epoch 10: 100%|\u001b[31m██████████\u001b[0m| 22/22 [00:06<00:00,  3.35it/s]\n",
      "Training Epoch 10: 100%|\u001b[31m██████████\u001b[0m| 27/27 [00:13<00:00,  2.04it/s]\n",
      "Testing: 100%|\u001b[32m██████████\u001b[0m| 807/807 [00:08<00:00, 92.30it/s] \n"
     ]
    },
    {
     "name": "stdout",
     "output_type": "stream",
     "text": [
      "[[549  18  13]\n",
      " [106  54   9]\n",
      " [ 29  12  17]]\n",
      "              precision    recall  f1-score   support\n",
      "\n",
      "           0       0.80      0.95      0.87       580\n",
      "           1       0.64      0.32      0.43       169\n",
      "           2       0.44      0.29      0.35        58\n",
      "\n",
      "    accuracy                           0.77       807\n",
      "   macro avg       0.63      0.52      0.55       807\n",
      "weighted avg       0.74      0.77      0.74       807\n",
      "\n",
      "Acc : 0.7682775712515489\t F1: 0.5486879401164021\n"
     ]
    },
    {
     "name": "stderr",
     "output_type": "stream",
     "text": [
      "Testing: 100%|\u001b[32m██████████\u001b[0m| 300/300 [00:03<00:00, 99.26it/s] \n"
     ]
    },
    {
     "name": "stdout",
     "output_type": "stream",
     "text": [
      "[[158   9  10]\n",
      " [ 35  21  10]\n",
      " [  7   4  46]]\n",
      "              precision    recall  f1-score   support\n",
      "\n",
      "           0       0.79      0.89      0.84       177\n",
      "           1       0.62      0.32      0.42        66\n",
      "           2       0.70      0.81      0.75        57\n",
      "\n",
      "    accuracy                           0.75       300\n",
      "   macro avg       0.70      0.67      0.67       300\n",
      "weighted avg       0.73      0.75      0.73       300\n",
      "\n",
      "Acc : 0.75\t F1: 0.6687212553823151\n"
     ]
    },
    {
     "name": "stderr",
     "output_type": "stream",
     "text": [
      "Testing: 100%|\u001b[32m██████████\u001b[0m| 367/367 [00:03<00:00, 97.19it/s] \n"
     ]
    },
    {
     "name": "stdout",
     "output_type": "stream",
     "text": [
      "[[ 42  16   5]\n",
      " [ 51 105  35]\n",
      " [ 17  51  45]]\n",
      "              precision    recall  f1-score   support\n",
      "\n",
      "           0       0.38      0.67      0.49        63\n",
      "           1       0.61      0.55      0.58       191\n",
      "           2       0.53      0.40      0.45       113\n",
      "\n",
      "    accuracy                           0.52       367\n",
      "   macro avg       0.51      0.54      0.51       367\n",
      "weighted avg       0.55      0.52      0.52       367\n",
      "\n",
      "Acc : 0.5231607629427792\t F1: 0.5062023280625488\n",
      "\n",
      "\n",
      "\n"
     ]
    },
    {
     "name": "stderr",
     "output_type": "stream",
     "text": [
      "Training Epoch 11: 100%|\u001b[31m██████████\u001b[0m| 58/58 [00:18<00:00,  3.21it/s]\n",
      "Training Epoch 11: 100%|\u001b[31m██████████\u001b[0m| 22/22 [00:06<00:00,  3.37it/s]\n",
      "Training Epoch 11: 100%|\u001b[31m██████████\u001b[0m| 27/27 [00:13<00:00,  2.04it/s]\n",
      "Testing: 100%|\u001b[32m██████████\u001b[0m| 807/807 [00:08<00:00, 93.53it/s] \n"
     ]
    },
    {
     "name": "stdout",
     "output_type": "stream",
     "text": [
      "[[536  24  20]\n",
      " [ 83  67  19]\n",
      " [ 20  15  23]]\n",
      "              precision    recall  f1-score   support\n",
      "\n",
      "           0       0.84      0.92      0.88       580\n",
      "           1       0.63      0.40      0.49       169\n",
      "           2       0.37      0.40      0.38        58\n",
      "\n",
      "    accuracy                           0.78       807\n",
      "   macro avg       0.61      0.57      0.58       807\n",
      "weighted avg       0.76      0.78      0.76       807\n",
      "\n",
      "Acc : 0.7757125154894672\t F1: 0.5833384708446234\n"
     ]
    },
    {
     "name": "stderr",
     "output_type": "stream",
     "text": [
      "Testing: 100%|\u001b[32m██████████\u001b[0m| 300/300 [00:03<00:00, 99.46it/s] \n"
     ]
    },
    {
     "name": "stdout",
     "output_type": "stream",
     "text": [
      "[[156   9  12]\n",
      " [ 30  25  11]\n",
      " [  5   3  49]]\n",
      "              precision    recall  f1-score   support\n",
      "\n",
      "           0       0.82      0.88      0.85       177\n",
      "           1       0.68      0.38      0.49        66\n",
      "           2       0.68      0.86      0.76        57\n",
      "\n",
      "    accuracy                           0.77       300\n",
      "   macro avg       0.72      0.71      0.70       300\n",
      "weighted avg       0.76      0.77      0.75       300\n",
      "\n",
      "Acc : 0.7666666666666667\t F1: 0.6976509675470085\n"
     ]
    },
    {
     "name": "stderr",
     "output_type": "stream",
     "text": [
      "Testing: 100%|\u001b[32m██████████\u001b[0m| 367/367 [00:03<00:00, 95.79it/s] \n"
     ]
    },
    {
     "name": "stdout",
     "output_type": "stream",
     "text": [
      "[[ 39  22   2]\n",
      " [ 28 145  18]\n",
      " [  7  65  41]]\n",
      "              precision    recall  f1-score   support\n",
      "\n",
      "           0       0.53      0.62      0.57        63\n",
      "           1       0.62      0.76      0.69       191\n",
      "           2       0.67      0.36      0.47       113\n",
      "\n",
      "    accuracy                           0.61       367\n",
      "   macro avg       0.61      0.58      0.58       367\n",
      "weighted avg       0.62      0.61      0.60       367\n",
      "\n",
      "Acc : 0.6130790190735694\t F1: 0.5753955432423389\n",
      "\n",
      "\n",
      "\n"
     ]
    },
    {
     "name": "stderr",
     "output_type": "stream",
     "text": [
      "Training Epoch 12: 100%|\u001b[31m██████████\u001b[0m| 58/58 [00:18<00:00,  3.22it/s]\n",
      "Training Epoch 12: 100%|\u001b[31m██████████\u001b[0m| 22/22 [00:06<00:00,  3.37it/s]\n",
      "Training Epoch 12: 100%|\u001b[31m██████████\u001b[0m| 27/27 [00:13<00:00,  2.02it/s]\n",
      "Testing: 100%|\u001b[32m██████████\u001b[0m| 807/807 [00:08<00:00, 94.59it/s] \n"
     ]
    },
    {
     "name": "stdout",
     "output_type": "stream",
     "text": [
      "[[531  25  24]\n",
      " [ 84  69  16]\n",
      " [ 24  14  20]]\n",
      "              precision    recall  f1-score   support\n",
      "\n",
      "           0       0.83      0.92      0.87       580\n",
      "           1       0.64      0.41      0.50       169\n",
      "           2       0.33      0.34      0.34        58\n",
      "\n",
      "    accuracy                           0.77       807\n",
      "   macro avg       0.60      0.56      0.57       807\n",
      "weighted avg       0.75      0.77      0.75       807\n",
      "\n",
      "Acc : 0.7682775712515489\t F1: 0.5694613010588516\n"
     ]
    },
    {
     "name": "stderr",
     "output_type": "stream",
     "text": [
      "Testing: 100%|\u001b[32m██████████\u001b[0m| 300/300 [00:02<00:00, 100.29it/s]\n"
     ]
    },
    {
     "name": "stdout",
     "output_type": "stream",
     "text": [
      "[[154  10  13]\n",
      " [ 32  21  13]\n",
      " [  5   4  48]]\n",
      "              precision    recall  f1-score   support\n",
      "\n",
      "           0       0.81      0.87      0.84       177\n",
      "           1       0.60      0.32      0.42        66\n",
      "           2       0.65      0.84      0.73        57\n",
      "\n",
      "    accuracy                           0.74       300\n",
      "   macro avg       0.68      0.68      0.66       300\n",
      "weighted avg       0.73      0.74      0.72       300\n",
      "\n",
      "Acc : 0.7433333333333333\t F1: 0.6618741777928208\n"
     ]
    },
    {
     "name": "stderr",
     "output_type": "stream",
     "text": [
      "Testing: 100%|\u001b[32m██████████\u001b[0m| 367/367 [00:03<00:00, 98.53it/s] \n"
     ]
    },
    {
     "name": "stdout",
     "output_type": "stream",
     "text": [
      "[[ 40  19   4]\n",
      " [ 34 120  37]\n",
      " [  9  56  48]]\n",
      "              precision    recall  f1-score   support\n",
      "\n",
      "           0       0.48      0.63      0.55        63\n",
      "           1       0.62      0.63      0.62       191\n",
      "           2       0.54      0.42      0.48       113\n",
      "\n",
      "    accuracy                           0.57       367\n",
      "   macro avg       0.55      0.56      0.55       367\n",
      "weighted avg       0.57      0.57      0.56       367\n",
      "\n",
      "Acc : 0.5667574931880109\t F1: 0.5483181294210051\n",
      "\n",
      "\n",
      "\n"
     ]
    },
    {
     "name": "stderr",
     "output_type": "stream",
     "text": [
      "Training Epoch 13: 100%|\u001b[31m██████████\u001b[0m| 58/58 [00:18<00:00,  3.21it/s]\n",
      "Training Epoch 13: 100%|\u001b[31m██████████\u001b[0m| 22/22 [00:06<00:00,  3.40it/s]\n",
      "Training Epoch 13: 100%|\u001b[31m██████████\u001b[0m| 27/27 [00:13<00:00,  2.00it/s]\n",
      "Testing: 100%|\u001b[32m██████████\u001b[0m| 807/807 [00:08<00:00, 96.38it/s] \n"
     ]
    },
    {
     "name": "stdout",
     "output_type": "stream",
     "text": [
      "[[530  35  15]\n",
      " [ 84  75  10]\n",
      " [ 28  21   9]]\n",
      "              precision    recall  f1-score   support\n",
      "\n",
      "           0       0.83      0.91      0.87       580\n",
      "           1       0.57      0.44      0.50       169\n",
      "           2       0.26      0.16      0.20        58\n",
      "\n",
      "    accuracy                           0.76       807\n",
      "   macro avg       0.55      0.50      0.52       807\n",
      "weighted avg       0.73      0.76      0.74       807\n",
      "\n",
      "Acc : 0.7608426270136307\t F1: 0.5210275386038569\n"
     ]
    },
    {
     "name": "stderr",
     "output_type": "stream",
     "text": [
      "Testing: 100%|\u001b[32m██████████\u001b[0m| 300/300 [00:03<00:00, 98.93it/s] \n"
     ]
    },
    {
     "name": "stdout",
     "output_type": "stream",
     "text": [
      "[[155  17   5]\n",
      " [ 26  36   4]\n",
      " [  5  10  42]]\n",
      "              precision    recall  f1-score   support\n",
      "\n",
      "           0       0.83      0.88      0.85       177\n",
      "           1       0.57      0.55      0.56        66\n",
      "           2       0.82      0.74      0.78        57\n",
      "\n",
      "    accuracy                           0.78       300\n",
      "   macro avg       0.74      0.72      0.73       300\n",
      "weighted avg       0.77      0.78      0.77       300\n",
      "\n",
      "Acc : 0.7766666666666666\t F1: 0.7299706010065418\n"
     ]
    },
    {
     "name": "stderr",
     "output_type": "stream",
     "text": [
      "Testing: 100%|\u001b[32m██████████\u001b[0m| 367/367 [00:03<00:00, 99.31it/s] \n"
     ]
    },
    {
     "name": "stdout",
     "output_type": "stream",
     "text": [
      "[[ 31  27   5]\n",
      " [ 18 136  37]\n",
      " [  5  55  53]]\n",
      "              precision    recall  f1-score   support\n",
      "\n",
      "           0       0.57      0.49      0.53        63\n",
      "           1       0.62      0.71      0.67       191\n",
      "           2       0.56      0.47      0.51       113\n",
      "\n",
      "    accuracy                           0.60       367\n",
      "   macro avg       0.59      0.56      0.57       367\n",
      "weighted avg       0.59      0.60      0.59       367\n",
      "\n",
      "Acc : 0.5994550408719346\t F1: 0.5681888631155134\n",
      "\n",
      "\n",
      "\n"
     ]
    },
    {
     "name": "stderr",
     "output_type": "stream",
     "text": [
      "Training Epoch 14: 100%|\u001b[31m██████████\u001b[0m| 58/58 [00:18<00:00,  3.21it/s]\n",
      "Training Epoch 14: 100%|\u001b[31m██████████\u001b[0m| 22/22 [00:06<00:00,  3.37it/s]\n",
      "Training Epoch 14: 100%|\u001b[31m██████████\u001b[0m| 27/27 [00:13<00:00,  2.03it/s]\n",
      "Testing: 100%|\u001b[32m██████████\u001b[0m| 807/807 [00:08<00:00, 96.33it/s] \n"
     ]
    },
    {
     "name": "stdout",
     "output_type": "stream",
     "text": [
      "[[532  33  15]\n",
      " [ 81  78  10]\n",
      " [ 22  19  17]]\n",
      "              precision    recall  f1-score   support\n",
      "\n",
      "           0       0.84      0.92      0.88       580\n",
      "           1       0.60      0.46      0.52       169\n",
      "           2       0.40      0.29      0.34        58\n",
      "\n",
      "    accuracy                           0.78       807\n",
      "   macro avg       0.61      0.56      0.58       807\n",
      "weighted avg       0.76      0.78      0.76       807\n",
      "\n",
      "Acc : 0.7769516728624535\t F1: 0.5791530983479454\n"
     ]
    },
    {
     "name": "stderr",
     "output_type": "stream",
     "text": [
      "Testing: 100%|\u001b[32m██████████\u001b[0m| 300/300 [00:03<00:00, 97.50it/s] \n"
     ]
    },
    {
     "name": "stdout",
     "output_type": "stream",
     "text": [
      "[[150  17  10]\n",
      " [ 26  35   5]\n",
      " [  5   9  43]]\n",
      "              precision    recall  f1-score   support\n",
      "\n",
      "           0       0.83      0.85      0.84       177\n",
      "           1       0.57      0.53      0.55        66\n",
      "           2       0.74      0.75      0.75        57\n",
      "\n",
      "    accuracy                           0.76       300\n",
      "   macro avg       0.71      0.71      0.71       300\n",
      "weighted avg       0.76      0.76      0.76       300\n",
      "\n",
      "Acc : 0.76\t F1: 0.7123320053781231\n"
     ]
    },
    {
     "name": "stderr",
     "output_type": "stream",
     "text": [
      "Testing: 100%|\u001b[32m██████████\u001b[0m| 367/367 [00:03<00:00, 98.67it/s] \n"
     ]
    },
    {
     "name": "stdout",
     "output_type": "stream",
     "text": [
      "[[ 29  28   6]\n",
      " [ 11 143  37]\n",
      " [  3  58  52]]\n",
      "              precision    recall  f1-score   support\n",
      "\n",
      "           0       0.67      0.46      0.55        63\n",
      "           1       0.62      0.75      0.68       191\n",
      "           2       0.55      0.46      0.50       113\n",
      "\n",
      "    accuracy                           0.61       367\n",
      "   macro avg       0.62      0.56      0.58       367\n",
      "weighted avg       0.61      0.61      0.60       367\n",
      "\n",
      "Acc : 0.6103542234332425\t F1: 0.5760407307577119\n",
      "\n",
      "\n",
      "\n"
     ]
    },
    {
     "name": "stderr",
     "output_type": "stream",
     "text": [
      "Training Epoch 15: 100%|\u001b[31m██████████\u001b[0m| 58/58 [00:18<00:00,  3.11it/s]\n",
      "Training Epoch 15: 100%|\u001b[31m██████████\u001b[0m| 22/22 [00:06<00:00,  3.35it/s]\n",
      "Training Epoch 15: 100%|\u001b[31m██████████\u001b[0m| 27/27 [00:13<00:00,  1.99it/s]\n",
      "Testing: 100%|\u001b[32m██████████\u001b[0m| 807/807 [00:08<00:00, 96.91it/s] \n"
     ]
    },
    {
     "name": "stdout",
     "output_type": "stream",
     "text": [
      "[[536  32  12]\n",
      " [ 80  82   7]\n",
      " [ 26  21  11]]\n",
      "              precision    recall  f1-score   support\n",
      "\n",
      "           0       0.83      0.92      0.88       580\n",
      "           1       0.61      0.49      0.54       169\n",
      "           2       0.37      0.19      0.25        58\n",
      "\n",
      "    accuracy                           0.78       807\n",
      "   macro avg       0.60      0.53      0.56       807\n",
      "weighted avg       0.75      0.78      0.76       807\n",
      "\n",
      "Acc : 0.7794299876084263\t F1: 0.555574697791943\n"
     ]
    },
    {
     "name": "stderr",
     "output_type": "stream",
     "text": [
      "Testing: 100%|\u001b[32m██████████\u001b[0m| 300/300 [00:02<00:00, 102.69it/s]\n"
     ]
    },
    {
     "name": "stdout",
     "output_type": "stream",
     "text": [
      "[[159  16   2]\n",
      " [ 28  34   4]\n",
      " [  7  14  36]]\n",
      "              precision    recall  f1-score   support\n",
      "\n",
      "           0       0.82      0.90      0.86       177\n",
      "           1       0.53      0.52      0.52        66\n",
      "           2       0.86      0.63      0.73        57\n",
      "\n",
      "    accuracy                           0.76       300\n",
      "   macro avg       0.74      0.68      0.70       300\n",
      "weighted avg       0.76      0.76      0.76       300\n",
      "\n",
      "Acc : 0.7633333333333333\t F1: 0.7024975024975024\n"
     ]
    },
    {
     "name": "stderr",
     "output_type": "stream",
     "text": [
      "Testing: 100%|\u001b[32m██████████\u001b[0m| 367/367 [00:03<00:00, 99.01it/s] \n"
     ]
    },
    {
     "name": "stdout",
     "output_type": "stream",
     "text": [
      "[[ 27  34   2]\n",
      " [ 11 159  21]\n",
      " [  6  66  41]]\n",
      "              precision    recall  f1-score   support\n",
      "\n",
      "           0       0.61      0.43      0.50        63\n",
      "           1       0.61      0.83      0.71       191\n",
      "           2       0.64      0.36      0.46       113\n",
      "\n",
      "    accuracy                           0.62       367\n",
      "   macro avg       0.62      0.54      0.56       367\n",
      "weighted avg       0.62      0.62      0.60       367\n",
      "\n",
      "Acc : 0.6185286103542235\t F1: 0.5582054666737069\n",
      "\n",
      "\n",
      "\n"
     ]
    },
    {
     "name": "stderr",
     "output_type": "stream",
     "text": [
      "Training Epoch 16: 100%|\u001b[31m██████████\u001b[0m| 58/58 [00:18<00:00,  3.18it/s]\n",
      "Training Epoch 16: 100%|\u001b[31m██████████\u001b[0m| 22/22 [00:06<00:00,  3.38it/s]\n",
      "Training Epoch 16: 100%|\u001b[31m██████████\u001b[0m| 27/27 [00:13<00:00,  2.04it/s]\n",
      "Testing: 100%|\u001b[32m██████████\u001b[0m| 807/807 [00:08<00:00, 98.47it/s] \n"
     ]
    },
    {
     "name": "stdout",
     "output_type": "stream",
     "text": [
      "[[543  21  16]\n",
      " [ 92  63  14]\n",
      " [ 28  11  19]]\n",
      "              precision    recall  f1-score   support\n",
      "\n",
      "           0       0.82      0.94      0.87       580\n",
      "           1       0.66      0.37      0.48       169\n",
      "           2       0.39      0.33      0.36        58\n",
      "\n",
      "    accuracy                           0.77       807\n",
      "   macro avg       0.62      0.55      0.57       807\n",
      "weighted avg       0.76      0.77      0.75       807\n",
      "\n",
      "Acc : 0.7744733581164808\t F1: 0.5687018643970095\n"
     ]
    },
    {
     "name": "stderr",
     "output_type": "stream",
     "text": [
      "Testing: 100%|\u001b[32m██████████\u001b[0m| 300/300 [00:02<00:00, 100.58it/s]\n"
     ]
    },
    {
     "name": "stdout",
     "output_type": "stream",
     "text": [
      "[[157  11   9]\n",
      " [ 28  28  10]\n",
      " [  6   6  45]]\n",
      "              precision    recall  f1-score   support\n",
      "\n",
      "           0       0.82      0.89      0.85       177\n",
      "           1       0.62      0.42      0.50        66\n",
      "           2       0.70      0.79      0.74        57\n",
      "\n",
      "    accuracy                           0.77       300\n",
      "   macro avg       0.72      0.70      0.70       300\n",
      "weighted avg       0.76      0.77      0.76       300\n",
      "\n",
      "Acc : 0.7666666666666667\t F1: 0.7005223423207614\n"
     ]
    },
    {
     "name": "stderr",
     "output_type": "stream",
     "text": [
      "Testing: 100%|\u001b[32m██████████\u001b[0m| 367/367 [00:03<00:00, 99.70it/s] \n"
     ]
    },
    {
     "name": "stdout",
     "output_type": "stream",
     "text": [
      "[[ 25  32   6]\n",
      " [ 10 154  27]\n",
      " [  2  68  43]]\n",
      "              precision    recall  f1-score   support\n",
      "\n",
      "           0       0.68      0.40      0.50        63\n",
      "           1       0.61      0.81      0.69       191\n",
      "           2       0.57      0.38      0.46       113\n",
      "\n",
      "    accuracy                           0.60       367\n",
      "   macro avg       0.62      0.53      0.55       367\n",
      "weighted avg       0.61      0.60      0.59       367\n",
      "\n",
      "Acc : 0.6049046321525886\t F1: 0.5490537621623764\n",
      "\n",
      "\n",
      "\n"
     ]
    },
    {
     "name": "stderr",
     "output_type": "stream",
     "text": [
      "Training Epoch 17: 100%|\u001b[31m██████████\u001b[0m| 58/58 [00:18<00:00,  3.21it/s]\n",
      "Training Epoch 17: 100%|\u001b[31m██████████\u001b[0m| 22/22 [00:06<00:00,  3.37it/s]\n",
      "Training Epoch 17: 100%|\u001b[31m██████████\u001b[0m| 27/27 [00:13<00:00,  1.99it/s]\n",
      "Testing: 100%|\u001b[32m██████████\u001b[0m| 807/807 [00:08<00:00, 99.27it/s] \n"
     ]
    },
    {
     "name": "stdout",
     "output_type": "stream",
     "text": [
      "[[546  18  16]\n",
      " [ 98  53  18]\n",
      " [ 28  13  17]]\n",
      "              precision    recall  f1-score   support\n",
      "\n",
      "           0       0.81      0.94      0.87       580\n",
      "           1       0.63      0.31      0.42       169\n",
      "           2       0.33      0.29      0.31        58\n",
      "\n",
      "    accuracy                           0.76       807\n",
      "   macro avg       0.59      0.52      0.53       807\n",
      "weighted avg       0.74      0.76      0.74       807\n",
      "\n",
      "Acc : 0.7633209417596035\t F1: 0.5343678034546159\n"
     ]
    },
    {
     "name": "stderr",
     "output_type": "stream",
     "text": [
      "Testing: 100%|\u001b[32m██████████\u001b[0m| 300/300 [00:02<00:00, 100.93it/s]\n"
     ]
    },
    {
     "name": "stdout",
     "output_type": "stream",
     "text": [
      "[[163   9   5]\n",
      " [ 32  18  16]\n",
      " [  6   2  49]]\n",
      "              precision    recall  f1-score   support\n",
      "\n",
      "           0       0.81      0.92      0.86       177\n",
      "           1       0.62      0.27      0.38        66\n",
      "           2       0.70      0.86      0.77        57\n",
      "\n",
      "    accuracy                           0.77       300\n",
      "   macro avg       0.71      0.68      0.67       300\n",
      "weighted avg       0.75      0.77      0.74       300\n",
      "\n",
      "Acc : 0.7666666666666667\t F1: 0.6710115913873338\n"
     ]
    },
    {
     "name": "stderr",
     "output_type": "stream",
     "text": [
      "Testing: 100%|\u001b[32m██████████\u001b[0m| 367/367 [00:03<00:00, 100.56it/s]\n"
     ]
    },
    {
     "name": "stdout",
     "output_type": "stream",
     "text": [
      "[[ 29  30   4]\n",
      " [ 19 145  27]\n",
      " [  8  64  41]]\n",
      "              precision    recall  f1-score   support\n",
      "\n",
      "           0       0.52      0.46      0.49        63\n",
      "           1       0.61      0.76      0.67       191\n",
      "           2       0.57      0.36      0.44       113\n",
      "\n",
      "    accuracy                           0.59       367\n",
      "   macro avg       0.56      0.53      0.54       367\n",
      "weighted avg       0.58      0.59      0.57       367\n",
      "\n",
      "Acc : 0.5858310626702997\t F1: 0.5350189352925331\n",
      "\n",
      "\n",
      "\n"
     ]
    },
    {
     "name": "stderr",
     "output_type": "stream",
     "text": [
      "Training Epoch 18: 100%|\u001b[31m██████████\u001b[0m| 58/58 [00:18<00:00,  3.21it/s]\n",
      "Training Epoch 18: 100%|\u001b[31m██████████\u001b[0m| 22/22 [00:06<00:00,  3.38it/s]\n",
      "Training Epoch 18: 100%|\u001b[31m██████████\u001b[0m| 27/27 [00:13<00:00,  2.02it/s]\n",
      "Testing: 100%|\u001b[32m██████████\u001b[0m| 807/807 [00:08<00:00, 99.46it/s] \n"
     ]
    },
    {
     "name": "stdout",
     "output_type": "stream",
     "text": [
      "[[522  42  16]\n",
      " [ 73  84  12]\n",
      " [ 23  21  14]]\n",
      "              precision    recall  f1-score   support\n",
      "\n",
      "           0       0.84      0.90      0.87       580\n",
      "           1       0.57      0.50      0.53       169\n",
      "           2       0.33      0.24      0.28        58\n",
      "\n",
      "    accuracy                           0.77       807\n",
      "   macro avg       0.58      0.55      0.56       807\n",
      "weighted avg       0.75      0.77      0.76       807\n",
      "\n",
      "Acc : 0.7682775712515489\t F1: 0.5610326634404739\n"
     ]
    },
    {
     "name": "stderr",
     "output_type": "stream",
     "text": [
      "Testing: 100%|\u001b[32m██████████\u001b[0m| 300/300 [00:02<00:00, 101.91it/s]\n"
     ]
    },
    {
     "name": "stdout",
     "output_type": "stream",
     "text": [
      "[[148  16  13]\n",
      " [ 25  36   5]\n",
      " [  3   5  49]]\n",
      "              precision    recall  f1-score   support\n",
      "\n",
      "           0       0.84      0.84      0.84       177\n",
      "           1       0.63      0.55      0.59        66\n",
      "           2       0.73      0.86      0.79        57\n",
      "\n",
      "    accuracy                           0.78       300\n",
      "   macro avg       0.73      0.75      0.74       300\n",
      "weighted avg       0.77      0.78      0.77       300\n",
      "\n",
      "Acc : 0.7766666666666666\t F1: 0.738071782161667\n"
     ]
    },
    {
     "name": "stderr",
     "output_type": "stream",
     "text": [
      "Testing: 100%|\u001b[32m██████████\u001b[0m| 367/367 [00:03<00:00, 100.76it/s]\n"
     ]
    },
    {
     "name": "stdout",
     "output_type": "stream",
     "text": [
      "[[ 23  36   4]\n",
      " [ 10 149  32]\n",
      " [  2  56  55]]\n",
      "              precision    recall  f1-score   support\n",
      "\n",
      "           0       0.66      0.37      0.47        63\n",
      "           1       0.62      0.78      0.69       191\n",
      "           2       0.60      0.49      0.54       113\n",
      "\n",
      "    accuracy                           0.62       367\n",
      "   macro avg       0.63      0.54      0.57       367\n",
      "weighted avg       0.62      0.62      0.61       367\n",
      "\n",
      "Acc : 0.6185286103542235\t F1: 0.5661394187304553\n",
      "\n",
      "\n",
      "\n"
     ]
    },
    {
     "name": "stderr",
     "output_type": "stream",
     "text": [
      "Training Epoch 19: 100%|\u001b[31m██████████\u001b[0m| 58/58 [00:18<00:00,  3.22it/s]\n",
      "Training Epoch 19: 100%|\u001b[31m██████████\u001b[0m| 22/22 [00:06<00:00,  3.38it/s]\n",
      "Training Epoch 19: 100%|\u001b[31m██████████\u001b[0m| 27/27 [00:13<00:00,  2.00it/s]\n",
      "Testing: 100%|\u001b[32m██████████\u001b[0m| 807/807 [00:08<00:00, 99.50it/s] \n"
     ]
    },
    {
     "name": "stdout",
     "output_type": "stream",
     "text": [
      "[[497  64  19]\n",
      " [ 67  91  11]\n",
      " [ 21  23  14]]\n",
      "              precision    recall  f1-score   support\n",
      "\n",
      "           0       0.85      0.86      0.85       580\n",
      "           1       0.51      0.54      0.52       169\n",
      "           2       0.32      0.24      0.27        58\n",
      "\n",
      "    accuracy                           0.75       807\n",
      "   macro avg       0.56      0.55      0.55       807\n",
      "weighted avg       0.74      0.75      0.74       807\n",
      "\n",
      "Acc : 0.7459727385377943\t F1: 0.5507414550917232\n"
     ]
    },
    {
     "name": "stderr",
     "output_type": "stream",
     "text": [
      "Testing: 100%|\u001b[32m██████████\u001b[0m| 300/300 [00:02<00:00, 102.55it/s]\n"
     ]
    },
    {
     "name": "stdout",
     "output_type": "stream",
     "text": [
      "[[147  23   7]\n",
      " [ 24  36   6]\n",
      " [  6   7  44]]\n",
      "              precision    recall  f1-score   support\n",
      "\n",
      "           0       0.83      0.83      0.83       177\n",
      "           1       0.55      0.55      0.55        66\n",
      "           2       0.77      0.77      0.77        57\n",
      "\n",
      "    accuracy                           0.76       300\n",
      "   macro avg       0.72      0.72      0.72       300\n",
      "weighted avg       0.76      0.76      0.76       300\n",
      "\n",
      "Acc : 0.7566666666666667\t F1: 0.71596428153074\n"
     ]
    },
    {
     "name": "stderr",
     "output_type": "stream",
     "text": [
      "Testing: 100%|\u001b[32m██████████\u001b[0m| 367/367 [00:03<00:00, 100.29it/s]\n"
     ]
    },
    {
     "name": "stdout",
     "output_type": "stream",
     "text": [
      "[[ 19  37   7]\n",
      " [  6 133  52]\n",
      " [  1  50  62]]\n",
      "              precision    recall  f1-score   support\n",
      "\n",
      "           0       0.73      0.30      0.43        63\n",
      "           1       0.60      0.70      0.65       191\n",
      "           2       0.51      0.55      0.53       113\n",
      "\n",
      "    accuracy                           0.58       367\n",
      "   macro avg       0.62      0.52      0.53       367\n",
      "weighted avg       0.60      0.58      0.57       367\n",
      "\n",
      "Acc : 0.5831062670299727\t F1: 0.5346942561737936\n",
      "\n",
      "\n",
      "\n"
     ]
    },
    {
     "name": "stderr",
     "output_type": "stream",
     "text": [
      "Training Epoch 20: 100%|\u001b[31m██████████\u001b[0m| 58/58 [00:18<00:00,  3.20it/s]\n",
      "Training Epoch 20: 100%|\u001b[31m██████████\u001b[0m| 22/22 [00:06<00:00,  3.39it/s]\n",
      "Training Epoch 20: 100%|\u001b[31m██████████\u001b[0m| 27/27 [00:13<00:00,  2.03it/s]\n",
      "Testing: 100%|\u001b[32m██████████\u001b[0m| 807/807 [00:08<00:00, 99.10it/s] \n"
     ]
    },
    {
     "name": "stdout",
     "output_type": "stream",
     "text": [
      "[[541  23  16]\n",
      " [109  51   9]\n",
      " [ 27  12  19]]\n",
      "              precision    recall  f1-score   support\n",
      "\n",
      "           0       0.80      0.93      0.86       580\n",
      "           1       0.59      0.30      0.40       169\n",
      "           2       0.43      0.33      0.37        58\n",
      "\n",
      "    accuracy                           0.76       807\n",
      "   macro avg       0.61      0.52      0.54       807\n",
      "weighted avg       0.73      0.76      0.73       807\n",
      "\n",
      "Acc : 0.7571251548946716\t F1: 0.5444428845523891\n"
     ]
    },
    {
     "name": "stderr",
     "output_type": "stream",
     "text": [
      "Testing: 100%|\u001b[32m██████████\u001b[0m| 300/300 [00:02<00:00, 102.92it/s]\n"
     ]
    },
    {
     "name": "stdout",
     "output_type": "stream",
     "text": [
      "[[154  15   8]\n",
      " [ 30  27   9]\n",
      " [  6   6  45]]\n",
      "              precision    recall  f1-score   support\n",
      "\n",
      "           0       0.81      0.87      0.84       177\n",
      "           1       0.56      0.41      0.47        66\n",
      "           2       0.73      0.79      0.76        57\n",
      "\n",
      "    accuracy                           0.75       300\n",
      "   macro avg       0.70      0.69      0.69       300\n",
      "weighted avg       0.74      0.75      0.74       300\n",
      "\n",
      "Acc : 0.7533333333333333\t F1: 0.6897412629184757\n"
     ]
    },
    {
     "name": "stderr",
     "output_type": "stream",
     "text": [
      "Testing: 100%|\u001b[32m██████████\u001b[0m| 367/367 [00:03<00:00, 100.45it/s]"
     ]
    },
    {
     "name": "stdout",
     "output_type": "stream",
     "text": [
      "[[ 28  33   2]\n",
      " [ 19 140  32]\n",
      " [  6  49  58]]\n",
      "              precision    recall  f1-score   support\n",
      "\n",
      "           0       0.53      0.44      0.48        63\n",
      "           1       0.63      0.73      0.68       191\n",
      "           2       0.63      0.51      0.57       113\n",
      "\n",
      "    accuracy                           0.62       367\n",
      "   macro avg       0.60      0.56      0.58       367\n",
      "weighted avg       0.61      0.62      0.61       367\n",
      "\n",
      "Acc : 0.6158038147138964\t F1: 0.5755261269737186\n",
      "\n",
      "\n",
      "\n",
      "best en_acc_socre : 0.78, best de_acc_score : 0.74, best hi_acc_score : 0.6158038147138964\n"
     ]
    },
    {
     "name": "stderr",
     "output_type": "stream",
     "text": [
      "\n"
     ]
    }
   ],
   "source": [
    "\n",
    "file_name = 'readme_tw_taskb.md'\n",
    "model_save_path = 'D:/Experiment_models_save/twitter-xlm-roberta-base-sentiment/hasoc2020/'\n",
    "name = 'tw_taskB.pth'\n",
    "en_temp_best = 0.78\n",
    "de_temp_best = 0.74\n",
    "hi_temp_best = 0.58\n",
    "for epoch in range(1, num_epoch + 1):\n",
    "    MyXLM_TW.train(model, en_train_iter, device, optimizer, loss, epoch)\n",
    "    MyXLM_TW.train(model, de_train_iter, device, optimizer, loss, epoch)\n",
    "    MyXLM_TW.train(model, hi_train_iter, device, optimizer, loss, epoch)\n",
    "    en_acc_score = MyXLM_TW.test(model, en_test_iter, device, epoch, file_name)\n",
    "    de_acc_score = MyXLM_TW.test(model, de_test_iter, device, epoch, file_name)\n",
    "    hi_acc_score = MyXLM_TW.test(model, hi_test_iter, device, epoch, file_name)\n",
    "    print('\\n\\n')\n",
    "    if en_acc_score > en_temp_best and de_acc_score > de_temp_best and hi_acc_score > hi_temp_best:\n",
    "        en_temp_best, de_temp_best, hi_temp_best = en_acc_score, de_acc_score, hi_acc_score\n",
    "        MyXLM_TW.save_pretrained(model, model_save_path, name)\n",
    "        print(\n",
    "            f'best en_acc_socre : {en_acc_score}, best de_acc_score : {de_acc_score}, best hi_acc_score : {hi_acc_score}')\n",
    "print(\n",
    "    f'best en_acc_socre : {en_temp_best}, best de_acc_score : {de_temp_best}, best hi_acc_score : {hi_acc_score}')\n"
   ]
  },
  {
   "cell_type": "code",
   "execution_count": null,
   "metadata": {},
   "outputs": [],
   "source": [
    "from transformers import XLMRobertaForSequenceClassification\n",
    "\n",
    "xlm = XLMRobertaForSequenceClassification.from_pretrained('cardiffnlp/twitter-xlm-roberta-base-sentiment', return_dict=True)\n",
    "xlm.classifier.out_proj = nn.Linear(768, 2)\n",
    "print(xlm.eval())"
   ]
  }
 ],
 "metadata": {
  "kernelspec": {
   "display_name": "Python 3.8.13 ('pytorch_env')",
   "language": "python",
   "name": "python3"
  },
  "language_info": {
   "codemirror_mode": {
    "name": "ipython",
    "version": 3
   },
   "file_extension": ".py",
   "mimetype": "text/x-python",
   "name": "python",
   "nbconvert_exporter": "python",
   "pygments_lexer": "ipython3",
   "version": "3.8.13"
  },
  "orig_nbformat": 4,
  "vscode": {
   "interpreter": {
    "hash": "4bbee185f428494c0f3f4eb26ca27cba894eb4f3d4a4ff826385edccebf850a3"
   }
  }
 },
 "nbformat": 4,
 "nbformat_minor": 2
}
