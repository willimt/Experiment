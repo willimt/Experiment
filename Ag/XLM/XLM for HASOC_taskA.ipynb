{
 "cells": [
  {
   "cell_type": "code",
   "execution_count": 1,
   "metadata": {},
   "outputs": [],
   "source": [
    "from sklearn import metrics\n",
    "import processing\n",
    "import time\n",
    "import os\n",
    "from tqdm import tqdm\n",
    "from torch.optim import Adam\n",
    "from torch import nn\n",
    "import numpy as np\n",
    "import sys\n",
    "sys.path.append(\"D:/Experiment\")\n",
    "import torch\n",
    "from MyKu import processing\n",
    "from MyKu import MyXLM_Base\n",
    "import pandas as pd"
   ]
  },
  {
   "cell_type": "code",
   "execution_count": 2,
   "metadata": {},
   "outputs": [],
   "source": [
    "\n",
    "# 训练准备阶段，设置超参数和全局变量\n",
    "file_name = 'readme.md'\n",
    "batch_size = 32\n",
    "num_epoch = 1  # 训练轮次\n",
    "check_step = 1  # 用以训练中途对模型进行检验：每check_step个epoch进行一次测试和保存模型\n",
    "\n",
    "learning_rate = 1e-5  # 优化器的学习率\n",
    "\n",
    "# 获取训练、测试数据、分类类别总数\n",
    "en_train_data, en_test_data, de_train_data, de_test_data, hi_train_data, hi_test_data = processing.load_hasoc2020()\n",
    "categories = 2\n",
    "\n",
    "en_train_iter, en_test_iter = MyXLM_Base.load_xlm_data(en_train_data, en_test_data, batch_size)\n",
    "de_train_iter, de_test_iter = MyXLM_Base.load_xlm_data(de_train_data, de_test_data, batch_size)\n",
    "hi_train_iter, hi_test_iter = MyXLM_Base.load_xlm_data(hi_train_data, hi_test_data, batch_size)\n",
    "#固定写法，可以牢记，cuda代表Gpu\n",
    "# torch.cuda.is_available()可以查看当前Gpu是否可用\n",
    "device = torch.device(\"cuda\" if torch.cuda.is_available() else \"cpu\")\n",
    "\n",
    "# 加载预训练模型，因为这里是英文数据集，需要用在英文上的预训练模型：bert-base-uncased\n",
    "# uncased指该预训练模型对应的词表不区分字母的大小写\n",
    "# 详情可了解：https://huggingface.co/bert-base-uncased\n",
    "pretrained_model_name = 'xlm-roberta-base'\n",
    "# 创建模型 BertSST2Model\n",
    "model = MyXLM_Base.MyXlmModel(\n",
    "    categories, pretrained_model_name)\n",
    "# 固定写法，将模型加载到device上，\n",
    "# 如果是GPU上运行，此时可以观察到GPU的显存增加\n",
    "model.to(device)\n",
    "\n",
    "# 训练过程\n",
    "# Adam是最近较为常用的优化器，详情可查看：https://www.jianshu.com/p/aebcaf8af76e\n",
    "optimizer = Adam(model.parameters(), learning_rate)  # 使用Adam优化器\n",
    "loss = nn.CrossEntropyLoss()  # 使用crossentropy作为二分类任务的损失函数\n",
    "\n",
    "# 记录当前训练时间，用以记录日志和存储\n",
    "timestamp = time.strftime(\"%m_%d_%H_%M\", time.localtime())\n"
   ]
  },
  {
   "cell_type": "code",
   "execution_count": 3,
   "metadata": {},
   "outputs": [
    {
     "name": "stderr",
     "output_type": "stream",
     "text": [
      "Training Epoch 1: 100%|\u001b[31m██████████\u001b[0m| 116/116 [00:39<00:00,  2.91it/s]\n",
      "Testing: 100%|\u001b[32m██████████\u001b[0m| 1592/1592 [00:17<00:00, 92.91it/s]"
     ]
    },
    {
     "name": "stdout",
     "output_type": "stream",
     "text": [
      "[[753  32]\n",
      " [178 629]]\n",
      "              precision    recall  f1-score   support\n",
      "\n",
      "           0       0.81      0.96      0.88       785\n",
      "           1       0.95      0.78      0.86       807\n",
      "\n",
      "    accuracy                           0.87      1592\n",
      "   macro avg       0.88      0.87      0.87      1592\n",
      "weighted avg       0.88      0.87      0.87      1592\n",
      "\n",
      "Acc : 0.8680904522613065\t F1: 0.8672853032526058\n",
      "\n",
      "\n",
      "\n",
      "best en_acc_socre : 0.89, best de_acc_score : 0.85, best hi_acc_score : 0.73\n"
     ]
    },
    {
     "name": "stderr",
     "output_type": "stream",
     "text": [
      "\n"
     ]
    }
   ],
   "source": [
    "# TaskA\n",
    "\n",
    "file_name = 'readme.md'\n",
    "model_save_path = 'D:/Experiment_models_save/twitter-xlm-roberta-base-sentiment/hasoc2020/'\n",
    "name = 'taskA.pth'\n",
    "en_temp_best = 0.89\n",
    "de_temp_best = 0.85\n",
    "hi_temp_best = 0.73\n",
    "for epoch in range(1, num_epoch + 1):\n",
    "    MyXLM_Base.train(model, en_train_iter, device, optimizer, loss, epoch)\n",
    "    # MyXLM_Base.train(model, de_train_iter, device, optimizer, loss, epoch)\n",
    "    # MyXLM_Base.train(model, hi_train_iter, device, optimizer, loss, epoch)\n",
    "    en_acc_score = MyXLM_Base.test(model, en_test_iter, device, epoch, file_name)\n",
    "    # de_acc_score = MyXLM_Base.test(model, de_test_iter, device, epoch, file_name)\n",
    "    # hi_acc_score = MyXLM_Base.test(model, hi_test_iter, device, epoch, file_name)\n",
    "    print('\\n\\n')\n",
    "    # if en_acc_score > en_temp_best and de_acc_score > de_temp_best and hi_acc_score > hi_temp_best:\n",
    "    #     en_temp_best, de_temp_best, hi_temp_best = en_acc_score, de_acc_score, hi_acc_score\n",
    "    #     MyXLM_Base.save_pretrained(model, model_save_path, name)\n",
    "    #     print(f'best en_acc_socre : {en_acc_score}, best de_acc_score : {de_acc_score}, best hi_acc_score : {hi_acc_score}')\n",
    "print(f'best en_acc_socre : {en_temp_best}, best de_acc_score : {de_temp_best}, best hi_acc_score : {hi_temp_best}')\n"
   ]
  },
  {
   "cell_type": "code",
   "execution_count": 4,
   "metadata": {},
   "outputs": [
    {
     "data": {
      "text/plain": [
       "PreTrainedTokenizerFast(name_or_path='xlm-roberta-base', vocab_size=250002, model_max_len=512, is_fast=True, padding_side='right', truncation_side='right', special_tokens={'bos_token': '<s>', 'eos_token': '</s>', 'unk_token': '<unk>', 'sep_token': '</s>', 'pad_token': '<pad>', 'cls_token': '<s>', 'mask_token': AddedToken(\"<mask>\", rstrip=False, lstrip=True, single_word=False, normalized=False)})"
      ]
     },
     "execution_count": 4,
     "metadata": {},
     "output_type": "execute_result"
    }
   ],
   "source": [
    "from transformers import AutoTokenizer\n",
    "tokenizer = AutoTokenizer.from_pretrained(pretrained_model_name)\n",
    "tokenizer"
   ]
  },
  {
   "cell_type": "code",
   "execution_count": 15,
   "metadata": {},
   "outputs": [
    {
     "name": "stdout",
     "output_type": "stream",
     "text": [
      "{'input_ids': tensor([[   0,  398,  621,   10, 4785,  206,   38,    2]], device='cuda:0'), 'attention_mask': tensor([[1, 1, 1, 1, 1, 1, 1, 1]], device='cuda:0')}\n"
     ]
    }
   ],
   "source": [
    "from bertviz import head_view\n",
    "\n",
    "\n",
    "def call_html():\n",
    "  import IPython\n",
    "  display(IPython.core.display.HTML('''\n",
    "        <script src=\"/static/components/requirejs/require.js\"></script>\n",
    "        <script>\n",
    "          requirejs.config({\n",
    "            paths: {\n",
    "              base: '/static/base',\n",
    "              \"d3\": \"https://cdnjs.cloudflare.com/ajax/libs/d3/3.5.8/d3.min\",\n",
    "              jquery: '//ajax.googleapis.com/ajax/libs/jquery/2.0.0/jquery.min',\n",
    "            },\n",
    "          });\n",
    "        </script>\n",
    "        '''))\n",
    "sentence = ['you are a bitch!']\n",
    "# 'you are like a rotten cockroach!' \n",
    "inputs = tokenizer(\n",
    "    sentence, return_tensors='pt')\n",
    "inputs.to(device)\n",
    "print(inputs)\n",
    "inputs_ids = inputs['input_ids']\n"
   ]
  },
  {
   "cell_type": "code",
   "execution_count": 21,
   "metadata": {},
   "outputs": [
    {
     "data": {
      "text/plain": [
       "['<s>', '▁you', '▁are', '▁a', '▁bit', 'ch', '!', '</s>']"
      ]
     },
     "execution_count": 21,
     "metadata": {},
     "output_type": "execute_result"
    }
   ],
   "source": [
    "inputs_ids = inputs['input_ids']\n",
    "input_id_list = inputs_ids[0].tolist()\n",
    "input_id_list\n",
    "tokens = tokenizer.convert_ids_to_tokens(input_id_list)\n",
    "\n",
    "tokens"
   ]
  },
  {
   "cell_type": "code",
   "execution_count": 22,
   "metadata": {},
   "outputs": [
    {
     "ename": "ValueError",
     "evalue": "The attention tensor does not have the correct number of dimensions. Make sure you set output_attentions=True when initializing your model.",
     "output_type": "error",
     "traceback": [
      "\u001b[1;31m---------------------------------------------------------------------------\u001b[0m",
      "\u001b[1;31mValueError\u001b[0m                                Traceback (most recent call last)",
      "\u001b[1;32md:\\Experiment\\Ag\\XLM\\XLM for HASOC_taskA.ipynb Cell 7\u001b[0m in \u001b[0;36m<cell line: 5>\u001b[1;34m()\u001b[0m\n\u001b[0;32m      <a href='vscode-notebook-cell:/d%3A/Experiment/Ag/XLM/XLM%20for%20HASOC_taskA.ipynb#ch0000005?line=2'>3</a>\u001b[0m \u001b[39mlen\u001b[39m(attention\u001b[39m.\u001b[39mshape)\n\u001b[0;32m      <a href='vscode-notebook-cell:/d%3A/Experiment/Ag/XLM/XLM%20for%20HASOC_taskA.ipynb#ch0000005?line=3'>4</a>\u001b[0m \u001b[39m# call_html()\u001b[39;00m\n\u001b[1;32m----> <a href='vscode-notebook-cell:/d%3A/Experiment/Ag/XLM/XLM%20for%20HASOC_taskA.ipynb#ch0000005?line=4'>5</a>\u001b[0m head_view(attention, tokens)\n",
      "File \u001b[1;32md:\\Software\\anaconda3\\envs\\pytorch_env\\lib\\site-packages\\bertviz\\head_view.py:63\u001b[0m, in \u001b[0;36mhead_view\u001b[1;34m(attention, tokens, sentence_b_start, prettify_tokens, layer, heads, encoder_attention, decoder_attention, cross_attention, encoder_tokens, decoder_tokens, include_layers, html_action)\u001b[0m\n\u001b[0;32m     61\u001b[0m \u001b[39mif\u001b[39;00m include_layers \u001b[39mis\u001b[39;00m \u001b[39mNone\u001b[39;00m:\n\u001b[0;32m     62\u001b[0m     include_layers \u001b[39m=\u001b[39m \u001b[39mlist\u001b[39m(\u001b[39mrange\u001b[39m(num_layers(attention)))\n\u001b[1;32m---> 63\u001b[0m attention \u001b[39m=\u001b[39m format_attention(attention, include_layers)\n\u001b[0;32m     64\u001b[0m \u001b[39mif\u001b[39;00m sentence_b_start \u001b[39mis\u001b[39;00m \u001b[39mNone\u001b[39;00m:\n\u001b[0;32m     65\u001b[0m     attn_data\u001b[39m.\u001b[39mappend(\n\u001b[0;32m     66\u001b[0m         {\n\u001b[0;32m     67\u001b[0m             \u001b[39m'\u001b[39m\u001b[39mname\u001b[39m\u001b[39m'\u001b[39m: \u001b[39mNone\u001b[39;00m,\n\u001b[1;32m   (...)\u001b[0m\n\u001b[0;32m     71\u001b[0m         }\n\u001b[0;32m     72\u001b[0m     )\n",
      "File \u001b[1;32md:\\Software\\anaconda3\\envs\\pytorch_env\\lib\\site-packages\\bertviz\\util.py:11\u001b[0m, in \u001b[0;36mformat_attention\u001b[1;34m(attention, layers, heads)\u001b[0m\n\u001b[0;32m      8\u001b[0m \u001b[39mfor\u001b[39;00m layer_attention \u001b[39min\u001b[39;00m attention:\n\u001b[0;32m      9\u001b[0m     \u001b[39m# 1 x num_heads x seq_len x seq_len\u001b[39;00m\n\u001b[0;32m     10\u001b[0m     \u001b[39mif\u001b[39;00m \u001b[39mlen\u001b[39m(layer_attention\u001b[39m.\u001b[39mshape) \u001b[39m!=\u001b[39m \u001b[39m4\u001b[39m:\n\u001b[1;32m---> 11\u001b[0m         \u001b[39mraise\u001b[39;00m \u001b[39mValueError\u001b[39;00m(\u001b[39m\"\u001b[39m\u001b[39mThe attention tensor does not have the correct number of dimensions. Make sure you set \u001b[39m\u001b[39m\"\u001b[39m\n\u001b[0;32m     12\u001b[0m                          \u001b[39m\"\u001b[39m\u001b[39moutput_attentions=True when initializing your model.\u001b[39m\u001b[39m\"\u001b[39m)\n\u001b[0;32m     13\u001b[0m     layer_attention \u001b[39m=\u001b[39m layer_attention\u001b[39m.\u001b[39msqueeze(\u001b[39m0\u001b[39m)\n\u001b[0;32m     14\u001b[0m     \u001b[39mif\u001b[39;00m heads:\n",
      "\u001b[1;31mValueError\u001b[0m: The attention tensor does not have the correct number of dimensions. Make sure you set output_attentions=True when initializing your model."
     ]
    }
   ],
   "source": [
    "output = model(inputs)\n",
    "attention = output[2][0]\n",
    "len(attention.shape)\n",
    "# call_html()\n",
    "head_view(attention, tokens)\n",
    "\n",
    "# layer = nn.Linear(768, 2).to(device)\n",
    "# res = layer(attention)\n",
    "# res = np.argmax(pooler_output, axis=1)\n",
    "# res\n",
    "# layer = nn.Linear(768, 2).to(device)\n",
    "# res = layer(pooler_output)\n",
    "# ress = layer(output[1])\n",
    "# gete = np.argmax(res[0].cpu().detach().numpy(), axis=1)\n",
    "# print(gete)\n",
    "# gett = np.argmax(ress[0].cpu().detach().numpy())\n",
    "# print(gett)\n",
    "\n",
    "\n",
    "\n",
    "# gete2 = np.argmax(res[1].cpu().detach().numpy(), axis=1)\n",
    "# print(gete2)\n",
    "# gett2 = np.argmax(ress[1].cpu().detach().numpy())"
   ]
  },
  {
   "cell_type": "code",
   "execution_count": null,
   "metadata": {},
   "outputs": [],
   "source": [
    "# print('\\033[1;31m' + 'hello word!' + '\\033[0m')\n",
    "for i in range(1, len(words)):\n",
    "    if words[i][0] != '▁' and words[i-1][0] == '▁' and gete[i-1] == 1:\n",
    "        gete[i] = 1\n",
    "\n",
    "for i in range(1, len(words2)):\n",
    "    if words2[i][0] != '▁' and words2[i-1][0] == '▁' and gete2[i-1] == 1:\n",
    "        gete2[i] = 1\n",
    "print(gete)\n",
    "for index in range(1,  7):\n",
    "    word = words[index]\n",
    "    word = ' ' + word[1:] if word[0] == '▁' else word\n",
    "    if gete[index] == 1:\n",
    "        print('\\033[1;31m' + word + '\\033[0m', end='')\n",
    "    else:\n",
    "        print(word, end='')\n",
    "print()\n",
    "print(gete2)\n",
    "for index in range(1, len(gete2) - 1):\n",
    "    word = words2[index]\n",
    "    word = ' ' + word[1:] if word[0] == '▁' else word\n",
    "    if gete2[index] == 1:\n",
    "        print('\\033[1;31m' + word + '\\033[0m', end='')\n",
    "    else:\n",
    "        print(word, end='')\n"
   ]
  }
 ],
 "metadata": {
  "kernelspec": {
   "display_name": "Python 3.8.13 ('pytorch_env')",
   "language": "python",
   "name": "python3"
  },
  "language_info": {
   "codemirror_mode": {
    "name": "ipython",
    "version": 3
   },
   "file_extension": ".py",
   "mimetype": "text/x-python",
   "name": "python",
   "nbconvert_exporter": "python",
   "pygments_lexer": "ipython3",
   "version": "3.8.13"
  },
  "orig_nbformat": 4,
  "vscode": {
   "interpreter": {
    "hash": "4bbee185f428494c0f3f4eb26ca27cba894eb4f3d4a4ff826385edccebf850a3"
   }
  }
 },
 "nbformat": 4,
 "nbformat_minor": 2
}
