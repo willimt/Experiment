{
 "cells": [
  {
   "cell_type": "code",
   "execution_count": 1,
   "metadata": {},
   "outputs": [],
   "source": [
    "import pandas as pd\n",
    "import warnings\n",
    "from sklearn import metrics\n",
    "import processing\n",
    "import time\n",
    "import os\n",
    "from tqdm import tqdm\n",
    "from torch.optim import Adam\n",
    "from torch import nn\n",
    "import numpy as np\n",
    "import sys\n",
    "sys.path.append(\"D:/Experiment\")\n",
    "import torch\n",
    "from MyKu import processing\n",
    "from MyKu import MyXLM_Base\n",
    "warnings.filterwarnings(\"ignore\")\n"
   ]
  },
  {
   "cell_type": "code",
   "execution_count": 2,
   "metadata": {},
   "outputs": [],
   "source": [
    "\n",
    "# 训练准备阶段，设置超参数和全局变量\n",
    "file_name = 'readme_taskB.md'\n",
    "batch_size = 32\n",
    "num_epoch = 20  # 训练轮次\n",
    "check_step = 1  # 用以训练中途对模型进行检验：每check_step个epoch进行一次测试和保存模型\n",
    "\n",
    "learning_rate = 1e-5  # 优化器的学习率\n",
    "\n",
    "# 获取训练、测试数据、分类类别总数\n",
    "en_train_data, en_test_data, de_train_data, de_test_data, hi_train_data, hi_test_data = processing.load_hasoc2020_for_taskB()\n",
    "categories = 3\n",
    "\n",
    "en_train_iter, en_test_iter = MyXLM_Base.load_xlm_data(en_train_data, en_test_data, batch_size)\n",
    "de_train_iter, de_test_iter = MyXLM_Base.load_xlm_data(de_train_data, de_test_data, batch_size)\n",
    "hi_train_iter, hi_test_iter = MyXLM_Base.load_xlm_data(hi_train_data, hi_test_data, batch_size)\n",
    "#固定写法，可以牢记，cuda代表Gpu\n",
    "# torch.cuda.is_available()可以查看当前Gpu是否可用\n",
    "device = torch.device(\"cuda\" if torch.cuda.is_available() else \"cpu\")\n",
    "\n",
    "# 加载预训练模型，因为这里是英文数据集，需要用在英文上的预训练模型：bert-base-uncased\n",
    "# uncased指该预训练模型对应的词表不区分字母的大小写\n",
    "# 详情可了解：https://huggingface.co/bert-base-uncased\n",
    "pretrained_model_name = 'xlm-roberta-base'\n",
    "# 创建模型 BertSST2Model\n",
    "model = MyXLM_Base.MyXlmModel(categories, pretrained_model_name)\n",
    "# 固定写法，将模型加载到device上，\n",
    "# 如果是GPU上运行，此时可以观察到GPU的显存增加\n",
    "model.to(device)\n",
    "\n",
    "# 训练过程\n",
    "# Adam是最近较为常用的优化器，详情可查看：https://www.jianshu.com/p/aebcaf8af76e\n",
    "optimizer = Adam(model.parameters(), learning_rate)  # 使用Adam优化器\n",
    "loss = nn.CrossEntropyLoss()  # 使用crossentropy作为二分类任务的损失函数\n",
    "\n",
    "# 记录当前训练时间，用以记录日志和存储\n",
    "timestamp = time.strftime(\"%m_%d_%H_%M\", time.localtime())\n"
   ]
  },
  {
   "cell_type": "code",
   "execution_count": 4,
   "metadata": {},
   "outputs": [
    {
     "name": "stderr",
     "output_type": "stream",
     "text": [
      "Training Epoch 1: 100%|\u001b[31m██████████\u001b[0m| 58/58 [00:24<00:00,  2.37it/s]\n",
      "Training Epoch 1: 100%|\u001b[31m██████████\u001b[0m| 22/22 [00:08<00:00,  2.52it/s]\n",
      "Training Epoch 1: 100%|\u001b[31m██████████\u001b[0m| 27/27 [00:17<00:00,  1.53it/s]\n",
      "Testing: 100%|\u001b[32m██████████\u001b[0m| 807/807 [00:08<00:00, 98.01it/s] \n"
     ]
    },
    {
     "name": "stdout",
     "output_type": "stream",
     "text": [
      "[[533  15  32]\n",
      " [112  32  25]\n",
      " [ 29   4  25]]\n",
      "              precision    recall  f1-score   support\n",
      "\n",
      "           0       0.79      0.92      0.85       580\n",
      "           1       0.63      0.19      0.29       169\n",
      "           2       0.30      0.43      0.36        58\n",
      "\n",
      "    accuracy                           0.73       807\n",
      "   macro avg       0.57      0.51      0.50       807\n",
      "weighted avg       0.72      0.73      0.70       807\n",
      "\n",
      "Acc : 0.7311028500619579\t F1: 0.49937723095617836\n"
     ]
    },
    {
     "name": "stderr",
     "output_type": "stream",
     "text": [
      "Testing: 100%|\u001b[32m██████████\u001b[0m| 300/300 [00:02<00:00, 101.02it/s]\n"
     ]
    },
    {
     "name": "stdout",
     "output_type": "stream",
     "text": [
      "[[136  12  29]\n",
      " [ 26  20  20]\n",
      " [  3   2  52]]\n",
      "              precision    recall  f1-score   support\n",
      "\n",
      "           0       0.82      0.77      0.80       177\n",
      "           1       0.59      0.30      0.40        66\n",
      "           2       0.51      0.91      0.66        57\n",
      "\n",
      "    accuracy                           0.69       300\n",
      "   macro avg       0.64      0.66      0.62       300\n",
      "weighted avg       0.71      0.69      0.68       300\n",
      "\n",
      "Acc : 0.6933333333333334\t F1: 0.6178498285093889\n"
     ]
    },
    {
     "name": "stderr",
     "output_type": "stream",
     "text": [
      "Testing: 100%|\u001b[32m██████████\u001b[0m| 367/367 [00:04<00:00, 84.58it/s]\n"
     ]
    },
    {
     "name": "stdout",
     "output_type": "stream",
     "text": [
      "[[27 30  6]\n",
      " [40 86 65]\n",
      " [23 26 64]]\n",
      "              precision    recall  f1-score   support\n",
      "\n",
      "           0       0.30      0.43      0.35        63\n",
      "           1       0.61      0.45      0.52       191\n",
      "           2       0.47      0.57      0.52       113\n",
      "\n",
      "    accuracy                           0.48       367\n",
      "   macro avg       0.46      0.48      0.46       367\n",
      "weighted avg       0.51      0.48      0.49       367\n",
      "\n",
      "Acc : 0.4822888283378747\t F1: 0.46186224174838975\n",
      "\n",
      "\n",
      "\n"
     ]
    },
    {
     "name": "stderr",
     "output_type": "stream",
     "text": [
      "Training Epoch 2: 100%|\u001b[31m██████████\u001b[0m| 58/58 [00:24<00:00,  2.40it/s]\n",
      "Training Epoch 2: 100%|\u001b[31m██████████\u001b[0m| 22/22 [00:08<00:00,  2.54it/s]\n",
      "Training Epoch 2: 100%|\u001b[31m██████████\u001b[0m| 27/27 [00:17<00:00,  1.53it/s]\n",
      "Testing: 100%|\u001b[32m██████████\u001b[0m| 807/807 [00:08<00:00, 98.36it/s] \n"
     ]
    },
    {
     "name": "stdout",
     "output_type": "stream",
     "text": [
      "[[162 401  17]\n",
      " [  5 159   5]\n",
      " [  3  42  13]]\n",
      "              precision    recall  f1-score   support\n",
      "\n",
      "           0       0.95      0.28      0.43       580\n",
      "           1       0.26      0.94      0.41       169\n",
      "           2       0.37      0.22      0.28        58\n",
      "\n",
      "    accuracy                           0.41       807\n",
      "   macro avg       0.53      0.48      0.37       807\n",
      "weighted avg       0.77      0.41      0.42       807\n",
      "\n",
      "Acc : 0.4138785625774473\t F1: 0.3746737514469409\n"
     ]
    },
    {
     "name": "stderr",
     "output_type": "stream",
     "text": [
      "Testing: 100%|\u001b[32m██████████\u001b[0m| 300/300 [00:03<00:00, 92.77it/s] \n"
     ]
    },
    {
     "name": "stdout",
     "output_type": "stream",
     "text": [
      "[[ 19 143  15]\n",
      " [  4  58   4]\n",
      " [  0  13  44]]\n",
      "              precision    recall  f1-score   support\n",
      "\n",
      "           0       0.83      0.11      0.19       177\n",
      "           1       0.27      0.88      0.41        66\n",
      "           2       0.70      0.77      0.73        57\n",
      "\n",
      "    accuracy                           0.40       300\n",
      "   macro avg       0.60      0.59      0.45       300\n",
      "weighted avg       0.68      0.40      0.34       300\n",
      "\n",
      "Acc : 0.4033333333333333\t F1: 0.4458730158730158\n"
     ]
    },
    {
     "name": "stderr",
     "output_type": "stream",
     "text": [
      "Testing: 100%|\u001b[32m██████████\u001b[0m| 367/367 [00:04<00:00, 80.34it/s]\n"
     ]
    },
    {
     "name": "stdout",
     "output_type": "stream",
     "text": [
      "[[  2  52   9]\n",
      " [  1 143  47]\n",
      " [  0  52  61]]\n",
      "              precision    recall  f1-score   support\n",
      "\n",
      "           0       0.67      0.03      0.06        63\n",
      "           1       0.58      0.75      0.65       191\n",
      "           2       0.52      0.54      0.53       113\n",
      "\n",
      "    accuracy                           0.56       367\n",
      "   macro avg       0.59      0.44      0.41       367\n",
      "weighted avg       0.58      0.56      0.51       367\n",
      "\n",
      "Acc : 0.5613079019073569\t F1: 0.4146696265814788\n",
      "\n",
      "\n",
      "\n"
     ]
    },
    {
     "name": "stderr",
     "output_type": "stream",
     "text": [
      "Training Epoch 3: 100%|\u001b[31m██████████\u001b[0m| 58/58 [00:24<00:00,  2.35it/s]\n",
      "Training Epoch 3: 100%|\u001b[31m██████████\u001b[0m| 22/22 [00:08<00:00,  2.47it/s]\n",
      "Training Epoch 3: 100%|\u001b[31m██████████\u001b[0m| 27/27 [00:17<00:00,  1.51it/s]\n",
      "Testing: 100%|\u001b[32m██████████\u001b[0m| 807/807 [00:08<00:00, 99.42it/s] \n"
     ]
    },
    {
     "name": "stdout",
     "output_type": "stream",
     "text": [
      "[[482  88  10]\n",
      " [ 77  84   8]\n",
      " [ 18  28  12]]\n",
      "              precision    recall  f1-score   support\n",
      "\n",
      "           0       0.84      0.83      0.83       580\n",
      "           1       0.42      0.50      0.46       169\n",
      "           2       0.40      0.21      0.27        58\n",
      "\n",
      "    accuracy                           0.72       807\n",
      "   macro avg       0.55      0.51      0.52       807\n",
      "weighted avg       0.72      0.72      0.71       807\n",
      "\n",
      "Acc : 0.7162329615861215\t F1: 0.5204003694000953\n"
     ]
    },
    {
     "name": "stderr",
     "output_type": "stream",
     "text": [
      "Testing: 100%|\u001b[32m██████████\u001b[0m| 300/300 [00:03<00:00, 85.21it/s]\n"
     ]
    },
    {
     "name": "stdout",
     "output_type": "stream",
     "text": [
      "[[111  51  15]\n",
      " [ 13  48   5]\n",
      " [  2   8  47]]\n",
      "              precision    recall  f1-score   support\n",
      "\n",
      "           0       0.88      0.63      0.73       177\n",
      "           1       0.45      0.73      0.55        66\n",
      "           2       0.70      0.82      0.76        57\n",
      "\n",
      "    accuracy                           0.69       300\n",
      "   macro avg       0.68      0.73      0.68       300\n",
      "weighted avg       0.75      0.69      0.70       300\n",
      "\n",
      "Acc : 0.6866666666666666\t F1: 0.681883692751151\n"
     ]
    },
    {
     "name": "stderr",
     "output_type": "stream",
     "text": [
      "Testing: 100%|\u001b[32m██████████\u001b[0m| 367/367 [00:04<00:00, 86.15it/s]\n"
     ]
    },
    {
     "name": "stdout",
     "output_type": "stream",
     "text": [
      "[[ 13  41   9]\n",
      " [  3 115  73]\n",
      " [  7  42  64]]\n",
      "              precision    recall  f1-score   support\n",
      "\n",
      "           0       0.57      0.21      0.30        63\n",
      "           1       0.58      0.60      0.59       191\n",
      "           2       0.44      0.57      0.49       113\n",
      "\n",
      "    accuracy                           0.52       367\n",
      "   macro avg       0.53      0.46      0.46       367\n",
      "weighted avg       0.53      0.52      0.51       367\n",
      "\n",
      "Acc : 0.5231607629427792\t F1: 0.46259790523555694\n",
      "\n",
      "\n",
      "\n"
     ]
    },
    {
     "name": "stderr",
     "output_type": "stream",
     "text": [
      "Training Epoch 4: 100%|\u001b[31m██████████\u001b[0m| 58/58 [00:24<00:00,  2.33it/s]\n",
      "Training Epoch 4: 100%|\u001b[31m██████████\u001b[0m| 22/22 [00:08<00:00,  2.45it/s]\n",
      "Training Epoch 4: 100%|\u001b[31m██████████\u001b[0m| 27/27 [00:18<00:00,  1.46it/s]\n",
      "Testing: 100%|\u001b[32m██████████\u001b[0m| 807/807 [00:08<00:00, 93.30it/s] \n"
     ]
    },
    {
     "name": "stdout",
     "output_type": "stream",
     "text": [
      "[[551  19  10]\n",
      " [119  42   8]\n",
      " [ 32  10  16]]\n",
      "              precision    recall  f1-score   support\n",
      "\n",
      "           0       0.78      0.95      0.86       580\n",
      "           1       0.59      0.25      0.35       169\n",
      "           2       0.47      0.28      0.35        58\n",
      "\n",
      "    accuracy                           0.75       807\n",
      "   macro avg       0.62      0.49      0.52       807\n",
      "weighted avg       0.72      0.75      0.72       807\n",
      "\n",
      "Acc : 0.7546468401486989\t F1: 0.5191401569106243\n"
     ]
    },
    {
     "name": "stderr",
     "output_type": "stream",
     "text": [
      "Testing: 100%|\u001b[32m██████████\u001b[0m| 300/300 [00:03<00:00, 88.47it/s]\n"
     ]
    },
    {
     "name": "stdout",
     "output_type": "stream",
     "text": [
      "[[146  16  15]\n",
      " [ 25  35   6]\n",
      " [  5   4  48]]\n",
      "              precision    recall  f1-score   support\n",
      "\n",
      "           0       0.83      0.82      0.83       177\n",
      "           1       0.64      0.53      0.58        66\n",
      "           2       0.70      0.84      0.76        57\n",
      "\n",
      "    accuracy                           0.76       300\n",
      "   macro avg       0.72      0.73      0.72       300\n",
      "weighted avg       0.76      0.76      0.76       300\n",
      "\n",
      "Acc : 0.7633333333333333\t F1: 0.7225375420070245\n"
     ]
    },
    {
     "name": "stderr",
     "output_type": "stream",
     "text": [
      "Testing: 100%|\u001b[32m██████████\u001b[0m| 367/367 [00:04<00:00, 88.65it/s]\n"
     ]
    },
    {
     "name": "stdout",
     "output_type": "stream",
     "text": [
      "[[ 19  34  10]\n",
      " [ 20 108  63]\n",
      " [ 10  32  71]]\n",
      "              precision    recall  f1-score   support\n",
      "\n",
      "           0       0.39      0.30      0.34        63\n",
      "           1       0.62      0.57      0.59       191\n",
      "           2       0.49      0.63      0.55       113\n",
      "\n",
      "    accuracy                           0.54       367\n",
      "   macro avg       0.50      0.50      0.49       367\n",
      "weighted avg       0.54      0.54      0.54       367\n",
      "\n",
      "Acc : 0.5395095367847411\t F1: 0.49453190636096656\n",
      "\n",
      "\n",
      "\n",
      "best en_acc_socre : 0.7546468401486989, best de_acc_score : 0.7633333333333333, best hi_acc_score : 0.5395095367847411\n"
     ]
    },
    {
     "name": "stderr",
     "output_type": "stream",
     "text": [
      "Training Epoch 5: 100%|\u001b[31m██████████\u001b[0m| 58/58 [00:24<00:00,  2.34it/s]\n",
      "Training Epoch 5: 100%|\u001b[31m██████████\u001b[0m| 22/22 [00:08<00:00,  2.47it/s]\n",
      "Training Epoch 5: 100%|\u001b[31m██████████\u001b[0m| 27/27 [00:18<00:00,  1.48it/s]\n",
      "Testing: 100%|\u001b[32m██████████\u001b[0m| 807/807 [00:09<00:00, 88.61it/s]\n"
     ]
    },
    {
     "name": "stdout",
     "output_type": "stream",
     "text": [
      "[[520  42  18]\n",
      " [ 96  64   9]\n",
      " [ 30  10  18]]\n",
      "              precision    recall  f1-score   support\n",
      "\n",
      "           0       0.80      0.90      0.85       580\n",
      "           1       0.55      0.38      0.45       169\n",
      "           2       0.40      0.31      0.35        58\n",
      "\n",
      "    accuracy                           0.75       807\n",
      "   macro avg       0.59      0.53      0.55       807\n",
      "weighted avg       0.72      0.75      0.73       807\n",
      "\n",
      "Acc : 0.7459727385377943\t F1: 0.5489748275618382\n"
     ]
    },
    {
     "name": "stderr",
     "output_type": "stream",
     "text": [
      "Testing: 100%|\u001b[32m██████████\u001b[0m| 300/300 [00:03<00:00, 93.87it/s]\n"
     ]
    },
    {
     "name": "stdout",
     "output_type": "stream",
     "text": [
      "[[120  38  19]\n",
      " [ 16  42   8]\n",
      " [  3   8  46]]\n",
      "              precision    recall  f1-score   support\n",
      "\n",
      "           0       0.86      0.68      0.76       177\n",
      "           1       0.48      0.64      0.55        66\n",
      "           2       0.63      0.81      0.71        57\n",
      "\n",
      "    accuracy                           0.69       300\n",
      "   macro avg       0.66      0.71      0.67       300\n",
      "weighted avg       0.73      0.69      0.70       300\n",
      "\n",
      "Acc : 0.6933333333333334\t F1: 0.670880174677643\n"
     ]
    },
    {
     "name": "stderr",
     "output_type": "stream",
     "text": [
      "Testing: 100%|\u001b[32m██████████\u001b[0m| 367/367 [00:04<00:00, 91.44it/s]\n"
     ]
    },
    {
     "name": "stdout",
     "output_type": "stream",
     "text": [
      "[[ 10  48   5]\n",
      " [  8 112  71]\n",
      " [  2  34  77]]\n",
      "              precision    recall  f1-score   support\n",
      "\n",
      "           0       0.50      0.16      0.24        63\n",
      "           1       0.58      0.59      0.58       191\n",
      "           2       0.50      0.68      0.58       113\n",
      "\n",
      "    accuracy                           0.54       367\n",
      "   macro avg       0.53      0.48      0.47       367\n",
      "weighted avg       0.54      0.54      0.52       367\n",
      "\n",
      "Acc : 0.5422343324250681\t F1: 0.4672431352203071\n",
      "\n",
      "\n",
      "\n"
     ]
    },
    {
     "name": "stderr",
     "output_type": "stream",
     "text": [
      "Training Epoch 6: 100%|\u001b[31m██████████\u001b[0m| 58/58 [00:24<00:00,  2.34it/s]\n",
      "Training Epoch 6: 100%|\u001b[31m██████████\u001b[0m| 22/22 [00:08<00:00,  2.46it/s]\n",
      "Training Epoch 6: 100%|\u001b[31m██████████\u001b[0m| 27/27 [00:18<00:00,  1.47it/s]\n",
      "Testing: 100%|\u001b[32m██████████\u001b[0m| 807/807 [00:08<00:00, 90.47it/s]\n"
     ]
    },
    {
     "name": "stdout",
     "output_type": "stream",
     "text": [
      "[[542  30   8]\n",
      " [119  46   4]\n",
      " [ 33  14  11]]\n",
      "              precision    recall  f1-score   support\n",
      "\n",
      "           0       0.78      0.93      0.85       580\n",
      "           1       0.51      0.27      0.36       169\n",
      "           2       0.48      0.19      0.27        58\n",
      "\n",
      "    accuracy                           0.74       807\n",
      "   macro avg       0.59      0.47      0.49       807\n",
      "weighted avg       0.70      0.74      0.71       807\n",
      "\n",
      "Acc : 0.7422552664188352\t F1: 0.4925602385919847\n"
     ]
    },
    {
     "name": "stderr",
     "output_type": "stream",
     "text": [
      "Testing: 100%|\u001b[32m██████████\u001b[0m| 300/300 [00:03<00:00, 98.17it/s] \n"
     ]
    },
    {
     "name": "stdout",
     "output_type": "stream",
     "text": [
      "[[134  29  14]\n",
      " [ 25  33   8]\n",
      " [  4   5  48]]\n",
      "              precision    recall  f1-score   support\n",
      "\n",
      "           0       0.82      0.76      0.79       177\n",
      "           1       0.49      0.50      0.50        66\n",
      "           2       0.69      0.84      0.76        57\n",
      "\n",
      "    accuracy                           0.72       300\n",
      "   macro avg       0.67      0.70      0.68       300\n",
      "weighted avg       0.72      0.72      0.72       300\n",
      "\n",
      "Acc : 0.7166666666666667\t F1: 0.68012713581081\n"
     ]
    },
    {
     "name": "stderr",
     "output_type": "stream",
     "text": [
      "Testing: 100%|\u001b[32m██████████\u001b[0m| 367/367 [00:04<00:00, 91.39it/s]\n"
     ]
    },
    {
     "name": "stdout",
     "output_type": "stream",
     "text": [
      "[[ 13  45   5]\n",
      " [ 13 144  34]\n",
      " [  9  50  54]]\n",
      "              precision    recall  f1-score   support\n",
      "\n",
      "           0       0.37      0.21      0.27        63\n",
      "           1       0.60      0.75      0.67       191\n",
      "           2       0.58      0.48      0.52       113\n",
      "\n",
      "    accuracy                           0.57       367\n",
      "   macro avg       0.52      0.48      0.49       367\n",
      "weighted avg       0.56      0.57      0.56       367\n",
      "\n",
      "Acc : 0.5749318801089919\t F1: 0.48644846965654626\n",
      "\n",
      "\n",
      "\n"
     ]
    },
    {
     "name": "stderr",
     "output_type": "stream",
     "text": [
      "Training Epoch 7: 100%|\u001b[31m██████████\u001b[0m| 58/58 [00:24<00:00,  2.35it/s]\n",
      "Training Epoch 7: 100%|\u001b[31m██████████\u001b[0m| 22/22 [00:08<00:00,  2.48it/s]\n",
      "Training Epoch 7: 100%|\u001b[31m██████████\u001b[0m| 27/27 [00:18<00:00,  1.47it/s]\n",
      "Testing: 100%|\u001b[32m██████████\u001b[0m| 807/807 [00:08<00:00, 95.54it/s] \n"
     ]
    },
    {
     "name": "stdout",
     "output_type": "stream",
     "text": [
      "[[486  74  20]\n",
      " [ 87  74   8]\n",
      " [ 21  21  16]]\n",
      "              precision    recall  f1-score   support\n",
      "\n",
      "           0       0.82      0.84      0.83       580\n",
      "           1       0.44      0.44      0.44       169\n",
      "           2       0.36      0.28      0.31        58\n",
      "\n",
      "    accuracy                           0.71       807\n",
      "   macro avg       0.54      0.52      0.53       807\n",
      "weighted avg       0.71      0.71      0.71       807\n",
      "\n",
      "Acc : 0.7137546468401487\t F1: 0.5265113279636086\n"
     ]
    },
    {
     "name": "stderr",
     "output_type": "stream",
     "text": [
      "Testing: 100%|\u001b[32m██████████\u001b[0m| 300/300 [00:03<00:00, 96.75it/s] \n"
     ]
    },
    {
     "name": "stdout",
     "output_type": "stream",
     "text": [
      "[[106  58  13]\n",
      " [ 14  48   4]\n",
      " [  4   9  44]]\n",
      "              precision    recall  f1-score   support\n",
      "\n",
      "           0       0.85      0.60      0.70       177\n",
      "           1       0.42      0.73      0.53        66\n",
      "           2       0.72      0.77      0.75        57\n",
      "\n",
      "    accuracy                           0.66       300\n",
      "   macro avg       0.66      0.70      0.66       300\n",
      "weighted avg       0.73      0.66      0.67       300\n",
      "\n",
      "Acc : 0.66\t F1: 0.6601561296909916\n"
     ]
    },
    {
     "name": "stderr",
     "output_type": "stream",
     "text": [
      "Testing: 100%|\u001b[32m██████████\u001b[0m| 367/367 [00:03<00:00, 94.09it/s]\n"
     ]
    },
    {
     "name": "stdout",
     "output_type": "stream",
     "text": [
      "[[  9  52   2]\n",
      " [  7 148  36]\n",
      " [  4  62  47]]\n",
      "              precision    recall  f1-score   support\n",
      "\n",
      "           0       0.45      0.14      0.22        63\n",
      "           1       0.56      0.77      0.65       191\n",
      "           2       0.55      0.42      0.47       113\n",
      "\n",
      "    accuracy                           0.56       367\n",
      "   macro avg       0.52      0.44      0.45       367\n",
      "weighted avg       0.54      0.56      0.52       367\n",
      "\n",
      "Acc : 0.555858310626703\t F1: 0.4483455260603589\n",
      "\n",
      "\n",
      "\n"
     ]
    },
    {
     "name": "stderr",
     "output_type": "stream",
     "text": [
      "Training Epoch 8: 100%|\u001b[31m██████████\u001b[0m| 58/58 [00:24<00:00,  2.35it/s]\n",
      "Training Epoch 8: 100%|\u001b[31m██████████\u001b[0m| 22/22 [00:08<00:00,  2.47it/s]\n",
      "Training Epoch 8: 100%|\u001b[31m██████████\u001b[0m| 27/27 [00:18<00:00,  1.50it/s]\n",
      "Testing: 100%|\u001b[32m██████████\u001b[0m| 807/807 [00:08<00:00, 97.77it/s] \n"
     ]
    },
    {
     "name": "stdout",
     "output_type": "stream",
     "text": [
      "[[529  34  17]\n",
      " [106  50  13]\n",
      " [ 26  15  17]]\n",
      "              precision    recall  f1-score   support\n",
      "\n",
      "           0       0.80      0.91      0.85       580\n",
      "           1       0.51      0.30      0.37       169\n",
      "           2       0.36      0.29      0.32        58\n",
      "\n",
      "    accuracy                           0.74       807\n",
      "   macro avg       0.56      0.50      0.52       807\n",
      "weighted avg       0.71      0.74      0.71       807\n",
      "\n",
      "Acc : 0.7385377942998761\t F1: 0.5164940425839796\n"
     ]
    },
    {
     "name": "stderr",
     "output_type": "stream",
     "text": [
      "Testing: 100%|\u001b[32m██████████\u001b[0m| 300/300 [00:02<00:00, 101.84it/s]\n"
     ]
    },
    {
     "name": "stdout",
     "output_type": "stream",
     "text": [
      "[[135  29  13]\n",
      " [ 20  37   9]\n",
      " [  2   6  49]]\n",
      "              precision    recall  f1-score   support\n",
      "\n",
      "           0       0.86      0.76      0.81       177\n",
      "           1       0.51      0.56      0.54        66\n",
      "           2       0.69      0.86      0.77        57\n",
      "\n",
      "    accuracy                           0.74       300\n",
      "   macro avg       0.69      0.73      0.70       300\n",
      "weighted avg       0.75      0.74      0.74       300\n",
      "\n",
      "Acc : 0.7366666666666667\t F1: 0.7034133725303017\n"
     ]
    },
    {
     "name": "stderr",
     "output_type": "stream",
     "text": [
      "Testing: 100%|\u001b[32m██████████\u001b[0m| 367/367 [00:04<00:00, 86.56it/s]\n"
     ]
    },
    {
     "name": "stdout",
     "output_type": "stream",
     "text": [
      "[[ 17  40   6]\n",
      " [ 12 143  36]\n",
      " [ 13  54  46]]\n",
      "              precision    recall  f1-score   support\n",
      "\n",
      "           0       0.40      0.27      0.32        63\n",
      "           1       0.60      0.75      0.67       191\n",
      "           2       0.52      0.41      0.46       113\n",
      "\n",
      "    accuracy                           0.56       367\n",
      "   macro avg       0.51      0.48      0.48       367\n",
      "weighted avg       0.54      0.56      0.54       367\n",
      "\n",
      "Acc : 0.5613079019073569\t F1: 0.48324842188700473\n",
      "\n",
      "\n",
      "\n"
     ]
    },
    {
     "name": "stderr",
     "output_type": "stream",
     "text": [
      "Training Epoch 9: 100%|\u001b[31m██████████\u001b[0m| 58/58 [00:24<00:00,  2.34it/s]\n",
      "Training Epoch 9: 100%|\u001b[31m██████████\u001b[0m| 22/22 [00:08<00:00,  2.46it/s]\n",
      "Training Epoch 9: 100%|\u001b[31m██████████\u001b[0m| 27/27 [00:18<00:00,  1.50it/s]\n",
      "Testing: 100%|\u001b[32m██████████\u001b[0m| 807/807 [00:08<00:00, 98.65it/s] \n"
     ]
    },
    {
     "name": "stdout",
     "output_type": "stream",
     "text": [
      "[[515  42  23]\n",
      " [ 98  57  14]\n",
      " [ 25  13  20]]\n",
      "              precision    recall  f1-score   support\n",
      "\n",
      "           0       0.81      0.89      0.85       580\n",
      "           1       0.51      0.34      0.41       169\n",
      "           2       0.35      0.34      0.35        58\n",
      "\n",
      "    accuracy                           0.73       807\n",
      "   macro avg       0.56      0.52      0.53       807\n",
      "weighted avg       0.71      0.73      0.72       807\n",
      "\n",
      "Acc : 0.7335811648079306\t F1: 0.5330562138012506\n"
     ]
    },
    {
     "name": "stderr",
     "output_type": "stream",
     "text": [
      "Testing: 100%|\u001b[32m██████████\u001b[0m| 300/300 [00:02<00:00, 100.82it/s]\n"
     ]
    },
    {
     "name": "stdout",
     "output_type": "stream",
     "text": [
      "[[127  34  16]\n",
      " [ 17  40   9]\n",
      " [  5   5  47]]\n",
      "              precision    recall  f1-score   support\n",
      "\n",
      "           0       0.85      0.72      0.78       177\n",
      "           1       0.51      0.61      0.55        66\n",
      "           2       0.65      0.82      0.73        57\n",
      "\n",
      "    accuracy                           0.71       300\n",
      "   macro avg       0.67      0.72      0.69       300\n",
      "weighted avg       0.74      0.71      0.72       300\n",
      "\n",
      "Acc : 0.7133333333333334\t F1: 0.6865158042560496\n"
     ]
    },
    {
     "name": "stderr",
     "output_type": "stream",
     "text": [
      "Testing: 100%|\u001b[32m██████████\u001b[0m| 367/367 [00:04<00:00, 80.52it/s]\n"
     ]
    },
    {
     "name": "stdout",
     "output_type": "stream",
     "text": [
      "[[ 14  42   7]\n",
      " [ 13 148  30]\n",
      " [  6  63  44]]\n",
      "              precision    recall  f1-score   support\n",
      "\n",
      "           0       0.42      0.22      0.29        63\n",
      "           1       0.58      0.77      0.67       191\n",
      "           2       0.54      0.39      0.45       113\n",
      "\n",
      "    accuracy                           0.56       367\n",
      "   macro avg       0.52      0.46      0.47       367\n",
      "weighted avg       0.54      0.56      0.54       367\n",
      "\n",
      "Acc : 0.5613079019073569\t F1: 0.47064719358533796\n",
      "\n",
      "\n",
      "\n"
     ]
    },
    {
     "name": "stderr",
     "output_type": "stream",
     "text": [
      "Training Epoch 10: 100%|\u001b[31m██████████\u001b[0m| 58/58 [00:24<00:00,  2.35it/s]\n",
      "Training Epoch 10: 100%|\u001b[31m██████████\u001b[0m| 22/22 [00:08<00:00,  2.46it/s]\n",
      "Training Epoch 10: 100%|\u001b[31m██████████\u001b[0m| 27/27 [00:18<00:00,  1.46it/s]\n",
      "Testing: 100%|\u001b[32m██████████\u001b[0m| 807/807 [00:07<00:00, 101.92it/s]\n"
     ]
    },
    {
     "name": "stdout",
     "output_type": "stream",
     "text": [
      "[[533  32  15]\n",
      " [104  58   7]\n",
      " [ 30  13  15]]\n",
      "              precision    recall  f1-score   support\n",
      "\n",
      "           0       0.80      0.92      0.85       580\n",
      "           1       0.56      0.34      0.43       169\n",
      "           2       0.41      0.26      0.32        58\n",
      "\n",
      "    accuracy                           0.75       807\n",
      "   macro avg       0.59      0.51      0.53       807\n",
      "weighted avg       0.72      0.75      0.73       807\n",
      "\n",
      "Acc : 0.7509293680297398\t F1: 0.5323705686216579\n"
     ]
    },
    {
     "name": "stderr",
     "output_type": "stream",
     "text": [
      "Testing: 100%|\u001b[32m██████████\u001b[0m| 300/300 [00:03<00:00, 84.88it/s]\n"
     ]
    },
    {
     "name": "stdout",
     "output_type": "stream",
     "text": [
      "[[131  33  13]\n",
      " [ 19  43   4]\n",
      " [  4  10  43]]\n",
      "              precision    recall  f1-score   support\n",
      "\n",
      "           0       0.85      0.74      0.79       177\n",
      "           1       0.50      0.65      0.57        66\n",
      "           2       0.72      0.75      0.74        57\n",
      "\n",
      "    accuracy                           0.72       300\n",
      "   macro avg       0.69      0.72      0.70       300\n",
      "weighted avg       0.75      0.72      0.73       300\n",
      "\n",
      "Acc : 0.7233333333333334\t F1: 0.6974576647418117\n"
     ]
    },
    {
     "name": "stderr",
     "output_type": "stream",
     "text": [
      "Testing: 100%|\u001b[32m██████████\u001b[0m| 367/367 [00:04<00:00, 83.41it/s]\n"
     ]
    },
    {
     "name": "stdout",
     "output_type": "stream",
     "text": [
      "[[ 22  31  10]\n",
      " [ 25 127  39]\n",
      " [ 13  44  56]]\n",
      "              precision    recall  f1-score   support\n",
      "\n",
      "           0       0.37      0.35      0.36        63\n",
      "           1       0.63      0.66      0.65       191\n",
      "           2       0.53      0.50      0.51       113\n",
      "\n",
      "    accuracy                           0.56       367\n",
      "   macro avg       0.51      0.50      0.51       367\n",
      "weighted avg       0.55      0.56      0.56       367\n",
      "\n",
      "Acc : 0.55858310626703\t F1: 0.5059318258985517\n",
      "\n",
      "\n",
      "\n"
     ]
    },
    {
     "name": "stderr",
     "output_type": "stream",
     "text": [
      "Training Epoch 11: 100%|\u001b[31m██████████\u001b[0m| 58/58 [00:24<00:00,  2.33it/s]\n",
      "Training Epoch 11: 100%|\u001b[31m██████████\u001b[0m| 22/22 [00:08<00:00,  2.47it/s]\n",
      "Training Epoch 11: 100%|\u001b[31m██████████\u001b[0m| 27/27 [00:17<00:00,  1.51it/s]\n",
      "Testing: 100%|\u001b[32m██████████\u001b[0m| 807/807 [00:08<00:00, 95.64it/s] \n"
     ]
    },
    {
     "name": "stdout",
     "output_type": "stream",
     "text": [
      "[[527  42  11]\n",
      " [103  58   8]\n",
      " [ 29  15  14]]\n",
      "              precision    recall  f1-score   support\n",
      "\n",
      "           0       0.80      0.91      0.85       580\n",
      "           1       0.50      0.34      0.41       169\n",
      "           2       0.42      0.24      0.31        58\n",
      "\n",
      "    accuracy                           0.74       807\n",
      "   macro avg       0.58      0.50      0.52       807\n",
      "weighted avg       0.71      0.74      0.72       807\n",
      "\n",
      "Acc : 0.7422552664188352\t F1: 0.5222763496814583\n"
     ]
    },
    {
     "name": "stderr",
     "output_type": "stream",
     "text": [
      "Testing: 100%|\u001b[32m██████████\u001b[0m| 300/300 [00:03<00:00, 86.10it/s]\n"
     ]
    },
    {
     "name": "stdout",
     "output_type": "stream",
     "text": [
      "[[132  31  14]\n",
      " [ 22  39   5]\n",
      " [  7   5  45]]\n",
      "              precision    recall  f1-score   support\n",
      "\n",
      "           0       0.82      0.75      0.78       177\n",
      "           1       0.52      0.59      0.55        66\n",
      "           2       0.70      0.79      0.74        57\n",
      "\n",
      "    accuracy                           0.72       300\n",
      "   macro avg       0.68      0.71      0.69       300\n",
      "weighted avg       0.73      0.72      0.72       300\n",
      "\n",
      "Acc : 0.72\t F1: 0.692686077003887\n"
     ]
    },
    {
     "name": "stderr",
     "output_type": "stream",
     "text": [
      "Testing: 100%|\u001b[32m██████████\u001b[0m| 367/367 [00:04<00:00, 88.57it/s]\n"
     ]
    },
    {
     "name": "stdout",
     "output_type": "stream",
     "text": [
      "[[ 14  41   8]\n",
      " [ 11 135  45]\n",
      " [  9  53  51]]\n",
      "              precision    recall  f1-score   support\n",
      "\n",
      "           0       0.41      0.22      0.29        63\n",
      "           1       0.59      0.71      0.64       191\n",
      "           2       0.49      0.45      0.47       113\n",
      "\n",
      "    accuracy                           0.54       367\n",
      "   macro avg       0.50      0.46      0.47       367\n",
      "weighted avg       0.53      0.54      0.53       367\n",
      "\n",
      "Acc : 0.5449591280653951\t F1: 0.46718767320696153\n",
      "\n",
      "\n",
      "\n"
     ]
    },
    {
     "name": "stderr",
     "output_type": "stream",
     "text": [
      "Training Epoch 12: 100%|\u001b[31m██████████\u001b[0m| 58/58 [00:24<00:00,  2.35it/s]\n",
      "Training Epoch 12: 100%|\u001b[31m██████████\u001b[0m| 22/22 [00:08<00:00,  2.47it/s]\n",
      "Training Epoch 12: 100%|\u001b[31m██████████\u001b[0m| 27/27 [00:18<00:00,  1.48it/s]\n",
      "Testing: 100%|\u001b[32m██████████\u001b[0m| 807/807 [00:08<00:00, 91.72it/s] \n"
     ]
    },
    {
     "name": "stdout",
     "output_type": "stream",
     "text": [
      "[[495  58  27]\n",
      " [ 92  65  12]\n",
      " [ 19  19  20]]\n",
      "              precision    recall  f1-score   support\n",
      "\n",
      "           0       0.82      0.85      0.83       580\n",
      "           1       0.46      0.38      0.42       169\n",
      "           2       0.34      0.34      0.34        58\n",
      "\n",
      "    accuracy                           0.72       807\n",
      "   macro avg       0.54      0.53      0.53       807\n",
      "weighted avg       0.71      0.72      0.71       807\n",
      "\n",
      "Acc : 0.7187112763320942\t F1: 0.5315417966497279\n"
     ]
    },
    {
     "name": "stderr",
     "output_type": "stream",
     "text": [
      "Testing: 100%|\u001b[32m██████████\u001b[0m| 300/300 [00:03<00:00, 93.99it/s]\n"
     ]
    },
    {
     "name": "stdout",
     "output_type": "stream",
     "text": [
      "[[123  37  17]\n",
      " [ 17  41   8]\n",
      " [  3   4  50]]\n",
      "              precision    recall  f1-score   support\n",
      "\n",
      "           0       0.86      0.69      0.77       177\n",
      "           1       0.50      0.62      0.55        66\n",
      "           2       0.67      0.88      0.76        57\n",
      "\n",
      "    accuracy                           0.71       300\n",
      "   macro avg       0.68      0.73      0.69       300\n",
      "weighted avg       0.74      0.71      0.72       300\n",
      "\n",
      "Acc : 0.7133333333333334\t F1: 0.6934599372099374\n"
     ]
    },
    {
     "name": "stderr",
     "output_type": "stream",
     "text": [
      "Testing: 100%|\u001b[32m██████████\u001b[0m| 367/367 [00:04<00:00, 91.55it/s]\n"
     ]
    },
    {
     "name": "stdout",
     "output_type": "stream",
     "text": [
      "[[ 13  41   9]\n",
      " [  7 134  50]\n",
      " [  1  52  60]]\n",
      "              precision    recall  f1-score   support\n",
      "\n",
      "           0       0.62      0.21      0.31        63\n",
      "           1       0.59      0.70      0.64       191\n",
      "           2       0.50      0.53      0.52       113\n",
      "\n",
      "    accuracy                           0.56       367\n",
      "   macro avg       0.57      0.48      0.49       367\n",
      "weighted avg       0.57      0.56      0.55       367\n",
      "\n",
      "Acc : 0.5640326975476839\t F1: 0.489304504731002\n",
      "\n",
      "\n",
      "\n"
     ]
    },
    {
     "name": "stderr",
     "output_type": "stream",
     "text": [
      "Training Epoch 13: 100%|\u001b[31m██████████\u001b[0m| 58/58 [00:24<00:00,  2.34it/s]\n",
      "Training Epoch 13: 100%|\u001b[31m██████████\u001b[0m| 22/22 [00:08<00:00,  2.47it/s]\n",
      "Training Epoch 13: 100%|\u001b[31m██████████\u001b[0m| 27/27 [00:18<00:00,  1.47it/s]\n",
      "Testing: 100%|\u001b[32m██████████\u001b[0m| 807/807 [00:09<00:00, 87.13it/s]\n"
     ]
    },
    {
     "name": "stdout",
     "output_type": "stream",
     "text": [
      "[[545  25  10]\n",
      " [117  47   5]\n",
      " [ 34  12  12]]\n",
      "              precision    recall  f1-score   support\n",
      "\n",
      "           0       0.78      0.94      0.85       580\n",
      "           1       0.56      0.28      0.37       169\n",
      "           2       0.44      0.21      0.28        58\n",
      "\n",
      "    accuracy                           0.75       807\n",
      "   macro avg       0.60      0.47      0.50       807\n",
      "weighted avg       0.71      0.75      0.71       807\n",
      "\n",
      "Acc : 0.748451053283767\t F1: 0.5027088060247951\n"
     ]
    },
    {
     "name": "stderr",
     "output_type": "stream",
     "text": [
      "Testing: 100%|\u001b[32m██████████\u001b[0m| 300/300 [00:03<00:00, 97.31it/s] \n"
     ]
    },
    {
     "name": "stdout",
     "output_type": "stream",
     "text": [
      "[[142  22  13]\n",
      " [ 27  31   8]\n",
      " [  7   6  44]]\n",
      "              precision    recall  f1-score   support\n",
      "\n",
      "           0       0.81      0.80      0.80       177\n",
      "           1       0.53      0.47      0.50        66\n",
      "           2       0.68      0.77      0.72        57\n",
      "\n",
      "    accuracy                           0.72       300\n",
      "   macro avg       0.67      0.68      0.67       300\n",
      "weighted avg       0.72      0.72      0.72       300\n",
      "\n",
      "Acc : 0.7233333333333334\t F1: 0.6739480177711729\n"
     ]
    },
    {
     "name": "stderr",
     "output_type": "stream",
     "text": [
      "Testing: 100%|\u001b[32m██████████\u001b[0m| 367/367 [00:04<00:00, 90.80it/s]\n"
     ]
    },
    {
     "name": "stdout",
     "output_type": "stream",
     "text": [
      "[[ 21  39   3]\n",
      " [  9 135  47]\n",
      " [  5  55  53]]\n",
      "              precision    recall  f1-score   support\n",
      "\n",
      "           0       0.60      0.33      0.43        63\n",
      "           1       0.59      0.71      0.64       191\n",
      "           2       0.51      0.47      0.49       113\n",
      "\n",
      "    accuracy                           0.57       367\n",
      "   macro avg       0.57      0.50      0.52       367\n",
      "weighted avg       0.57      0.57      0.56       367\n",
      "\n",
      "Acc : 0.5694822888283378\t F1: 0.5207231040564374\n",
      "\n",
      "\n",
      "\n"
     ]
    },
    {
     "name": "stderr",
     "output_type": "stream",
     "text": [
      "Training Epoch 14: 100%|\u001b[31m██████████\u001b[0m| 58/58 [00:24<00:00,  2.35it/s]\n",
      "Training Epoch 14: 100%|\u001b[31m██████████\u001b[0m| 22/22 [00:08<00:00,  2.46it/s]\n",
      "Training Epoch 14: 100%|\u001b[31m██████████\u001b[0m| 27/27 [00:18<00:00,  1.48it/s]\n",
      "Testing: 100%|\u001b[32m██████████\u001b[0m| 807/807 [00:08<00:00, 90.70it/s] \n"
     ]
    },
    {
     "name": "stdout",
     "output_type": "stream",
     "text": [
      "[[569   7   4]\n",
      " [130  35   4]\n",
      " [ 39   8  11]]\n",
      "              precision    recall  f1-score   support\n",
      "\n",
      "           0       0.77      0.98      0.86       580\n",
      "           1       0.70      0.21      0.32       169\n",
      "           2       0.58      0.19      0.29        58\n",
      "\n",
      "    accuracy                           0.76       807\n",
      "   macro avg       0.68      0.46      0.49       807\n",
      "weighted avg       0.74      0.76      0.71       807\n",
      "\n",
      "Acc : 0.7620817843866171\t F1: 0.4895928091512934\n"
     ]
    },
    {
     "name": "stderr",
     "output_type": "stream",
     "text": [
      "Testing: 100%|\u001b[32m██████████\u001b[0m| 300/300 [00:03<00:00, 99.12it/s] \n"
     ]
    },
    {
     "name": "stdout",
     "output_type": "stream",
     "text": [
      "[[156  14   7]\n",
      " [ 30  28   8]\n",
      " [  8   6  43]]\n",
      "              precision    recall  f1-score   support\n",
      "\n",
      "           0       0.80      0.88      0.84       177\n",
      "           1       0.58      0.42      0.49        66\n",
      "           2       0.74      0.75      0.75        57\n",
      "\n",
      "    accuracy                           0.76       300\n",
      "   macro avg       0.71      0.69      0.69       300\n",
      "weighted avg       0.74      0.76      0.75       300\n",
      "\n",
      "Acc : 0.7566666666666667\t F1: 0.6933415025120911\n"
     ]
    },
    {
     "name": "stderr",
     "output_type": "stream",
     "text": [
      "Testing: 100%|\u001b[32m██████████\u001b[0m| 367/367 [00:03<00:00, 94.59it/s]\n"
     ]
    },
    {
     "name": "stdout",
     "output_type": "stream",
     "text": [
      "[[ 17  38   8]\n",
      " [ 11 126  54]\n",
      " [  6  48  59]]\n",
      "              precision    recall  f1-score   support\n",
      "\n",
      "           0       0.50      0.27      0.35        63\n",
      "           1       0.59      0.66      0.63       191\n",
      "           2       0.49      0.52      0.50       113\n",
      "\n",
      "    accuracy                           0.55       367\n",
      "   macro avg       0.53      0.48      0.49       367\n",
      "weighted avg       0.55      0.55      0.54       367\n",
      "\n",
      "Acc : 0.5504087193460491\t F1: 0.4933663806294335\n",
      "\n",
      "\n",
      "\n"
     ]
    },
    {
     "name": "stderr",
     "output_type": "stream",
     "text": [
      "Training Epoch 15: 100%|\u001b[31m██████████\u001b[0m| 58/58 [00:24<00:00,  2.35it/s]\n",
      "Training Epoch 15: 100%|\u001b[31m██████████\u001b[0m| 22/22 [00:08<00:00,  2.48it/s]\n",
      "Training Epoch 15: 100%|\u001b[31m██████████\u001b[0m| 27/27 [00:18<00:00,  1.48it/s]\n",
      "Testing: 100%|\u001b[32m██████████\u001b[0m| 807/807 [00:08<00:00, 96.18it/s] \n"
     ]
    },
    {
     "name": "stdout",
     "output_type": "stream",
     "text": [
      "[[547  26   7]\n",
      " [118  48   3]\n",
      " [ 36  12  10]]\n",
      "              precision    recall  f1-score   support\n",
      "\n",
      "           0       0.78      0.94      0.85       580\n",
      "           1       0.56      0.28      0.38       169\n",
      "           2       0.50      0.17      0.26        58\n",
      "\n",
      "    accuracy                           0.75       807\n",
      "   macro avg       0.61      0.47      0.50       807\n",
      "weighted avg       0.71      0.75      0.71       807\n",
      "\n",
      "Acc : 0.7496902106567535\t F1: 0.4956337137629327\n"
     ]
    },
    {
     "name": "stderr",
     "output_type": "stream",
     "text": [
      "Testing: 100%|\u001b[32m██████████\u001b[0m| 300/300 [00:02<00:00, 100.82it/s]\n"
     ]
    },
    {
     "name": "stdout",
     "output_type": "stream",
     "text": [
      "[[150  18   9]\n",
      " [ 30  29   7]\n",
      " [ 10   6  41]]\n",
      "              precision    recall  f1-score   support\n",
      "\n",
      "           0       0.79      0.85      0.82       177\n",
      "           1       0.55      0.44      0.49        66\n",
      "           2       0.72      0.72      0.72        57\n",
      "\n",
      "    accuracy                           0.73       300\n",
      "   macro avg       0.69      0.67      0.67       300\n",
      "weighted avg       0.72      0.73      0.73       300\n",
      "\n",
      "Acc : 0.7333333333333333\t F1: 0.6747106318984404\n"
     ]
    },
    {
     "name": "stderr",
     "output_type": "stream",
     "text": [
      "Testing: 100%|\u001b[32m██████████\u001b[0m| 367/367 [00:03<00:00, 93.82it/s]\n"
     ]
    },
    {
     "name": "stdout",
     "output_type": "stream",
     "text": [
      "[[ 22  35   6]\n",
      " [ 22 128  41]\n",
      " [ 12  49  52]]\n",
      "              precision    recall  f1-score   support\n",
      "\n",
      "           0       0.39      0.35      0.37        63\n",
      "           1       0.60      0.67      0.64       191\n",
      "           2       0.53      0.46      0.49       113\n",
      "\n",
      "    accuracy                           0.55       367\n",
      "   macro avg       0.51      0.49      0.50       367\n",
      "weighted avg       0.54      0.55      0.55       367\n",
      "\n",
      "Acc : 0.5504087193460491\t F1: 0.49851655630181274\n",
      "\n",
      "\n",
      "\n"
     ]
    },
    {
     "name": "stderr",
     "output_type": "stream",
     "text": [
      "Training Epoch 16: 100%|\u001b[31m██████████\u001b[0m| 58/58 [00:24<00:00,  2.34it/s]\n",
      "Training Epoch 16: 100%|\u001b[31m██████████\u001b[0m| 22/22 [00:08<00:00,  2.45it/s]\n",
      "Training Epoch 16: 100%|\u001b[31m██████████\u001b[0m| 27/27 [00:18<00:00,  1.48it/s]\n",
      "Testing: 100%|\u001b[32m██████████\u001b[0m| 807/807 [00:08<00:00, 98.34it/s] \n"
     ]
    },
    {
     "name": "stdout",
     "output_type": "stream",
     "text": [
      "[[569   4   7]\n",
      " [130  35   4]\n",
      " [ 38   8  12]]\n",
      "              precision    recall  f1-score   support\n",
      "\n",
      "           0       0.77      0.98      0.86       580\n",
      "           1       0.74      0.21      0.32       169\n",
      "           2       0.52      0.21      0.30        58\n",
      "\n",
      "    accuracy                           0.76       807\n",
      "   macro avg       0.68      0.47      0.49       807\n",
      "weighted avg       0.75      0.76      0.71       807\n",
      "\n",
      "Acc : 0.7633209417596035\t F1: 0.49481847071064994\n"
     ]
    },
    {
     "name": "stderr",
     "output_type": "stream",
     "text": [
      "Testing: 100%|\u001b[32m██████████\u001b[0m| 300/300 [00:02<00:00, 102.16it/s]\n"
     ]
    },
    {
     "name": "stdout",
     "output_type": "stream",
     "text": [
      "[[157  14   6]\n",
      " [ 32  26   8]\n",
      " [  6   4  47]]\n",
      "              precision    recall  f1-score   support\n",
      "\n",
      "           0       0.81      0.89      0.84       177\n",
      "           1       0.59      0.39      0.47        66\n",
      "           2       0.77      0.82      0.80        57\n",
      "\n",
      "    accuracy                           0.77       300\n",
      "   macro avg       0.72      0.70      0.70       300\n",
      "weighted avg       0.75      0.77      0.75       300\n",
      "\n",
      "Acc : 0.7666666666666667\t F1: 0.7044744879080582\n"
     ]
    },
    {
     "name": "stderr",
     "output_type": "stream",
     "text": [
      "Testing: 100%|\u001b[32m██████████\u001b[0m| 367/367 [00:04<00:00, 84.84it/s]\n"
     ]
    },
    {
     "name": "stdout",
     "output_type": "stream",
     "text": [
      "[[ 23  31   9]\n",
      " [ 25 121  45]\n",
      " [ 11  34  68]]\n",
      "              precision    recall  f1-score   support\n",
      "\n",
      "           0       0.39      0.37      0.38        63\n",
      "           1       0.65      0.63      0.64       191\n",
      "           2       0.56      0.60      0.58       113\n",
      "\n",
      "    accuracy                           0.58       367\n",
      "   macro avg       0.53      0.53      0.53       367\n",
      "weighted avg       0.58      0.58      0.58       367\n",
      "\n",
      "Acc : 0.5776566757493188\t F1: 0.5325607996355984\n",
      "\n",
      "\n",
      "\n",
      "best en_acc_socre : 0.7633209417596035, best de_acc_score : 0.7666666666666667, best hi_acc_score : 0.5776566757493188\n"
     ]
    },
    {
     "name": "stderr",
     "output_type": "stream",
     "text": [
      "Training Epoch 17: 100%|\u001b[31m██████████\u001b[0m| 58/58 [00:24<00:00,  2.33it/s]\n",
      "Training Epoch 17: 100%|\u001b[31m██████████\u001b[0m| 22/22 [00:08<00:00,  2.50it/s]\n",
      "Training Epoch 17: 100%|\u001b[31m██████████\u001b[0m| 27/27 [00:18<00:00,  1.48it/s]\n",
      "Testing: 100%|\u001b[32m██████████\u001b[0m| 807/807 [00:07<00:00, 101.56it/s]\n"
     ]
    },
    {
     "name": "stdout",
     "output_type": "stream",
     "text": [
      "[[562  12   6]\n",
      " [123  42   4]\n",
      " [ 31  15  12]]\n",
      "              precision    recall  f1-score   support\n",
      "\n",
      "           0       0.78      0.97      0.87       580\n",
      "           1       0.61      0.25      0.35       169\n",
      "           2       0.55      0.21      0.30        58\n",
      "\n",
      "    accuracy                           0.76       807\n",
      "   macro avg       0.65      0.47      0.51       807\n",
      "weighted avg       0.73      0.76      0.72       807\n",
      "\n",
      "Acc : 0.7633209417596035\t F1: 0.5067417090292907\n"
     ]
    },
    {
     "name": "stderr",
     "output_type": "stream",
     "text": [
      "Testing: 100%|\u001b[32m██████████\u001b[0m| 300/300 [00:03<00:00, 88.52it/s]\n"
     ]
    },
    {
     "name": "stdout",
     "output_type": "stream",
     "text": [
      "[[154  15   8]\n",
      " [ 32  26   8]\n",
      " [  7   9  41]]\n",
      "              precision    recall  f1-score   support\n",
      "\n",
      "           0       0.80      0.87      0.83       177\n",
      "           1       0.52      0.39      0.45        66\n",
      "           2       0.72      0.72      0.72        57\n",
      "\n",
      "    accuracy                           0.74       300\n",
      "   macro avg       0.68      0.66      0.67       300\n",
      "weighted avg       0.72      0.74      0.73       300\n",
      "\n",
      "Acc : 0.7366666666666667\t F1: 0.6666688467051444\n"
     ]
    },
    {
     "name": "stderr",
     "output_type": "stream",
     "text": [
      "Testing: 100%|\u001b[32m██████████\u001b[0m| 367/367 [00:04<00:00, 82.78it/s]\n"
     ]
    },
    {
     "name": "stdout",
     "output_type": "stream",
     "text": [
      "[[ 24  31   8]\n",
      " [ 15 132  44]\n",
      " [ 11  47  55]]\n",
      "              precision    recall  f1-score   support\n",
      "\n",
      "           0       0.48      0.38      0.42        63\n",
      "           1       0.63      0.69      0.66       191\n",
      "           2       0.51      0.49      0.50       113\n",
      "\n",
      "    accuracy                           0.57       367\n",
      "   macro avg       0.54      0.52      0.53       367\n",
      "weighted avg       0.57      0.57      0.57       367\n",
      "\n",
      "Acc : 0.5749318801089919\t F1: 0.5277109585917211\n",
      "\n",
      "\n",
      "\n"
     ]
    },
    {
     "name": "stderr",
     "output_type": "stream",
     "text": [
      "Training Epoch 18: 100%|\u001b[31m██████████\u001b[0m| 58/58 [00:24<00:00,  2.34it/s]\n",
      "Training Epoch 18: 100%|\u001b[31m██████████\u001b[0m| 22/22 [00:08<00:00,  2.47it/s]\n",
      "Training Epoch 18: 100%|\u001b[31m██████████\u001b[0m| 27/27 [00:18<00:00,  1.47it/s]\n",
      "Testing: 100%|\u001b[32m██████████\u001b[0m| 807/807 [00:08<00:00, 96.64it/s] \n"
     ]
    },
    {
     "name": "stdout",
     "output_type": "stream",
     "text": [
      "[[530  38  12]\n",
      " [104  56   9]\n",
      " [ 28  16  14]]\n",
      "              precision    recall  f1-score   support\n",
      "\n",
      "           0       0.80      0.91      0.85       580\n",
      "           1       0.51      0.33      0.40       169\n",
      "           2       0.40      0.24      0.30        58\n",
      "\n",
      "    accuracy                           0.74       807\n",
      "   macro avg       0.57      0.50      0.52       807\n",
      "weighted avg       0.71      0.74      0.72       807\n",
      "\n",
      "Acc : 0.7434944237918215\t F1: 0.5186570394611535\n"
     ]
    },
    {
     "name": "stderr",
     "output_type": "stream",
     "text": [
      "Testing: 100%|\u001b[32m██████████\u001b[0m| 300/300 [00:03<00:00, 85.49it/s]\n"
     ]
    },
    {
     "name": "stdout",
     "output_type": "stream",
     "text": [
      "[[137  27  13]\n",
      " [ 24  34   8]\n",
      " [  5  11  41]]\n",
      "              precision    recall  f1-score   support\n",
      "\n",
      "           0       0.83      0.77      0.80       177\n",
      "           1       0.47      0.52      0.49        66\n",
      "           2       0.66      0.72      0.69        57\n",
      "\n",
      "    accuracy                           0.71       300\n",
      "   macro avg       0.65      0.67      0.66       300\n",
      "weighted avg       0.72      0.71      0.71       300\n",
      "\n",
      "Acc : 0.7066666666666667\t F1: 0.6602210242274964\n"
     ]
    },
    {
     "name": "stderr",
     "output_type": "stream",
     "text": [
      "Testing: 100%|\u001b[32m██████████\u001b[0m| 367/367 [00:04<00:00, 89.91it/s]\n"
     ]
    },
    {
     "name": "stdout",
     "output_type": "stream",
     "text": [
      "[[ 21  38   4]\n",
      " [ 20 138  33]\n",
      " [ 14  59  40]]\n",
      "              precision    recall  f1-score   support\n",
      "\n",
      "           0       0.38      0.33      0.36        63\n",
      "           1       0.59      0.72      0.65       191\n",
      "           2       0.52      0.35      0.42       113\n",
      "\n",
      "    accuracy                           0.54       367\n",
      "   macro avg       0.50      0.47      0.47       367\n",
      "weighted avg       0.53      0.54      0.53       367\n",
      "\n",
      "Acc : 0.5422343324250681\t F1: 0.4749573863041466\n",
      "\n",
      "\n",
      "\n"
     ]
    },
    {
     "name": "stderr",
     "output_type": "stream",
     "text": [
      "Training Epoch 19: 100%|\u001b[31m██████████\u001b[0m| 58/58 [00:24<00:00,  2.35it/s]\n",
      "Training Epoch 19: 100%|\u001b[31m██████████\u001b[0m| 22/22 [00:08<00:00,  2.46it/s]\n",
      "Training Epoch 19: 100%|\u001b[31m██████████\u001b[0m| 27/27 [00:18<00:00,  1.49it/s]\n",
      "Testing: 100%|\u001b[32m██████████\u001b[0m| 807/807 [00:08<00:00, 91.23it/s] \n"
     ]
    },
    {
     "name": "stdout",
     "output_type": "stream",
     "text": [
      "[[545  24  11]\n",
      " [113  47   9]\n",
      " [ 33  12  13]]\n",
      "              precision    recall  f1-score   support\n",
      "\n",
      "           0       0.79      0.94      0.86       580\n",
      "           1       0.57      0.28      0.37       169\n",
      "           2       0.39      0.22      0.29        58\n",
      "\n",
      "    accuracy                           0.75       807\n",
      "   macro avg       0.58      0.48      0.51       807\n",
      "weighted avg       0.71      0.75      0.72       807\n",
      "\n",
      "Acc : 0.7496902106567535\t F1: 0.5054408685407897\n"
     ]
    },
    {
     "name": "stderr",
     "output_type": "stream",
     "text": [
      "Testing: 100%|\u001b[32m██████████\u001b[0m| 300/300 [00:03<00:00, 92.51it/s]\n"
     ]
    },
    {
     "name": "stdout",
     "output_type": "stream",
     "text": [
      "[[145  18  14]\n",
      " [ 28  30   8]\n",
      " [  4   7  46]]\n",
      "              precision    recall  f1-score   support\n",
      "\n",
      "           0       0.82      0.82      0.82       177\n",
      "           1       0.55      0.45      0.50        66\n",
      "           2       0.68      0.81      0.74        57\n",
      "\n",
      "    accuracy                           0.74       300\n",
      "   macro avg       0.68      0.69      0.68       300\n",
      "weighted avg       0.73      0.74      0.73       300\n",
      "\n",
      "Acc : 0.7366666666666667\t F1: 0.6836922693810212\n"
     ]
    },
    {
     "name": "stderr",
     "output_type": "stream",
     "text": [
      "Testing: 100%|\u001b[32m██████████\u001b[0m| 367/367 [00:03<00:00, 92.43it/s]\n"
     ]
    },
    {
     "name": "stdout",
     "output_type": "stream",
     "text": [
      "[[ 20  37   6]\n",
      " [  9 145  37]\n",
      " [  8  50  55]]\n",
      "              precision    recall  f1-score   support\n",
      "\n",
      "           0       0.54      0.32      0.40        63\n",
      "           1       0.62      0.76      0.69       191\n",
      "           2       0.56      0.49      0.52       113\n",
      "\n",
      "    accuracy                           0.60       367\n",
      "   macro avg       0.58      0.52      0.54       367\n",
      "weighted avg       0.59      0.60      0.59       367\n",
      "\n",
      "Acc : 0.5994550408719346\t F1: 0.5356354034785012\n",
      "\n",
      "\n",
      "\n"
     ]
    },
    {
     "name": "stderr",
     "output_type": "stream",
     "text": [
      "Training Epoch 20: 100%|\u001b[31m██████████\u001b[0m| 58/58 [00:24<00:00,  2.35it/s]\n",
      "Training Epoch 20: 100%|\u001b[31m██████████\u001b[0m| 22/22 [00:08<00:00,  2.51it/s]\n",
      "Training Epoch 20: 100%|\u001b[31m██████████\u001b[0m| 27/27 [00:18<00:00,  1.49it/s]\n",
      "Testing: 100%|\u001b[32m██████████\u001b[0m| 807/807 [00:09<00:00, 88.05it/s]\n"
     ]
    },
    {
     "name": "stdout",
     "output_type": "stream",
     "text": [
      "[[548  25   7]\n",
      " [115  52   2]\n",
      " [ 34   9  15]]\n",
      "              precision    recall  f1-score   support\n",
      "\n",
      "           0       0.79      0.94      0.86       580\n",
      "           1       0.60      0.31      0.41       169\n",
      "           2       0.62      0.26      0.37        58\n",
      "\n",
      "    accuracy                           0.76       807\n",
      "   macro avg       0.67      0.50      0.54       807\n",
      "weighted avg       0.74      0.76      0.73       807\n",
      "\n",
      "Acc : 0.7620817843866171\t F1: 0.5439861154334976\n"
     ]
    },
    {
     "name": "stderr",
     "output_type": "stream",
     "text": [
      "Testing: 100%|\u001b[32m██████████\u001b[0m| 300/300 [00:03<00:00, 95.39it/s] \n"
     ]
    },
    {
     "name": "stdout",
     "output_type": "stream",
     "text": [
      "[[149  21   7]\n",
      " [ 29  29   8]\n",
      " [  7   5  45]]\n",
      "              precision    recall  f1-score   support\n",
      "\n",
      "           0       0.81      0.84      0.82       177\n",
      "           1       0.53      0.44      0.48        66\n",
      "           2       0.75      0.79      0.77        57\n",
      "\n",
      "    accuracy                           0.74       300\n",
      "   macro avg       0.69      0.69      0.69       300\n",
      "weighted avg       0.73      0.74      0.74       300\n",
      "\n",
      "Acc : 0.7433333333333333\t F1: 0.6905913440318262\n"
     ]
    },
    {
     "name": "stderr",
     "output_type": "stream",
     "text": [
      "Testing: 100%|\u001b[32m██████████\u001b[0m| 367/367 [00:03<00:00, 92.69it/s]"
     ]
    },
    {
     "name": "stdout",
     "output_type": "stream",
     "text": [
      "[[ 28  34   1]\n",
      " [ 22 141  28]\n",
      " [ 14  59  40]]\n",
      "              precision    recall  f1-score   support\n",
      "\n",
      "           0       0.44      0.44      0.44        63\n",
      "           1       0.60      0.74      0.66       191\n",
      "           2       0.58      0.35      0.44       113\n",
      "\n",
      "    accuracy                           0.57       367\n",
      "   macro avg       0.54      0.51      0.51       367\n",
      "weighted avg       0.57      0.57      0.56       367\n",
      "\n",
      "Acc : 0.5694822888283378\t F1: 0.5146782444049697\n",
      "\n",
      "\n",
      "\n",
      "best en_acc_socre : 0.7633209417596035, best de_acc_score : 0.7666666666666667, best de_acc_score : 0.5776566757493188\n"
     ]
    },
    {
     "name": "stderr",
     "output_type": "stream",
     "text": [
      "\n"
     ]
    }
   ],
   "source": [
    "# TaskB\n",
    "\n",
    "file_name = 'readme_taskB.md'\n",
    "model_save_path = 'D:/Experiment_models_save/twitter-xlm-roberta-base-sentiment/hasoc2020/'\n",
    "name = 'base_taskB.pth'\n",
    "en_temp_best = 0.7\n",
    "de_temp_best = 0.7\n",
    "hi_temp_best = 0.5\n",
    "for epoch in range(1, num_epoch + 1):\n",
    "    MyXLM_Base.train(model, en_train_iter, device, optimizer, loss, epoch)\n",
    "    MyXLM_Base.train(model, de_train_iter, device, optimizer, loss, epoch)\n",
    "    MyXLM_Base.train(model, hi_train_iter, device, optimizer, loss, epoch)\n",
    "    en_acc_score = MyXLM_Base.test(model, en_test_iter, device, epoch, file_name)\n",
    "    de_acc_score = MyXLM_Base.test(model, de_test_iter, device, epoch, file_name)\n",
    "    hi_acc_score = MyXLM_Base.test(model, hi_test_iter, device, epoch, file_name)\n",
    "    print('\\n\\n')\n",
    "    if en_acc_score > en_temp_best and de_acc_score > de_temp_best and hi_acc_score > hi_temp_best:\n",
    "        en_temp_best, de_temp_best, hi_temp_best = en_acc_score, de_acc_score, hi_acc_score\n",
    "        MyXLM_Base.save_pretrained(model, model_save_path, name)\n",
    "        print(f'best en_acc_socre : {en_acc_score}, best de_acc_score : {de_acc_score}, best hi_acc_score : {hi_acc_score}')\n",
    "print(f'best en_acc_socre : {en_temp_best}, best de_acc_score : {de_temp_best}, best de_acc_score : {hi_temp_best}')\n"
   ]
  }
 ],
 "metadata": {
  "kernelspec": {
   "display_name": "Python 3.8.13 ('pytorch_env')",
   "language": "python",
   "name": "python3"
  },
  "language_info": {
   "codemirror_mode": {
    "name": "ipython",
    "version": 3
   },
   "file_extension": ".py",
   "mimetype": "text/x-python",
   "name": "python",
   "nbconvert_exporter": "python",
   "pygments_lexer": "ipython3",
   "version": "3.8.13"
  },
  "orig_nbformat": 4,
  "vscode": {
   "interpreter": {
    "hash": "4bbee185f428494c0f3f4eb26ca27cba894eb4f3d4a4ff826385edccebf850a3"
   }
  }
 },
 "nbformat": 4,
 "nbformat_minor": 2
}
