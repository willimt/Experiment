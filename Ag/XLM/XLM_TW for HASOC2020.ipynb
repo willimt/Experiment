{
 "cells": [
  {
   "cell_type": "code",
   "execution_count": 1,
   "metadata": {},
   "outputs": [],
   "source": [
    "from sklearn import metrics\n",
    "import processing\n",
    "import time\n",
    "import os\n",
    "from tqdm import tqdm\n",
    "from torch.optim import Adam\n",
    "from torch import nn\n",
    "import numpy as np\n",
    "import sys\n",
    "sys.path.append(\"D:/Experiment\")\n",
    "import torch\n",
    "from MyKu import processing\n",
    "from MyKu import MyXLM_TW\n",
    "import pandas as pd"
   ]
  },
  {
   "cell_type": "code",
   "execution_count": 2,
   "metadata": {},
   "outputs": [],
   "source": [
    "# 训练准备阶段，设置超参数和全局变量\n",
    "\n",
    "batch_size = 32\n",
    "num_epoch = 20  # 训练轮次\n",
    "check_step = 1  # 用以训练中途对模型进行检验：每check_step个epoch进行一次测试和保存模型\n",
    "\n",
    "learning_rate = 1e-5  # 优化器的学习率\n",
    "\n",
    "# 获取训练、测试数据、分类类别总数\n",
    "en_train_data, en_test_data, de_train_data, de_test_data, hi_train_data, hi_test_data = processing.load_hasoc2020()\n",
    "categories = 2\n",
    "\n",
    "en_train_iter, en_test_iter = MyXLM_TW.load_xlm_data(en_train_data, en_test_data, batch_size)\n",
    "de_train_iter, de_test_iter = MyXLM_TW.load_xlm_data(de_train_data, de_test_data, batch_size)\n",
    "hi_train_iter, hi_test_iter = MyXLM_TW.load_xlm_data(hi_train_data, hi_test_data, batch_size)\n",
    "#固定写法，可以牢记，cuda代表Gpu\n",
    "# torch.cuda.is_available()可以查看当前Gpu是否可用\n",
    "device = torch.device(\"cuda\" if torch.cuda.is_available() else \"cpu\")\n",
    "\n",
    "# 加载预训练模型，因为这里是英文数据集，需要用在英文上的预训练模型：bert-base-uncased\n",
    "# uncased指该预训练模型对应的词表不区分字母的大小写\n",
    "# 详情可了解：https://huggingface.co/bert-base-uncased\n",
    "pretrained_model_name = 'cardiffnlp/twitter-xlm-roberta-base-sentiment'\n",
    "# 创建模型 BertSST2Model\n",
    "model = MyXLM_TW.MyXlmModel(categories, pretrained_model_name)\n",
    "# 固定写法，将模型加载到device上，\n",
    "# 如果是GPU上运行，此时可以观察到GPU的显存增加\n",
    "model.to(device)\n",
    "\n",
    "# 训练过程\n",
    "# Adam是最近较为常用的优化器，详情可查看：https://www.jianshu.com/p/aebcaf8af76e\n",
    "optimizer = Adam(model.parameters(), learning_rate)  # 使用Adam优化器\n",
    "loss = nn.CrossEntropyLoss()  # 使用crossentropy作为二分类任务的损失函数\n",
    "\n",
    "# 记录当前训练时间，用以记录日志和存储\n",
    "timestamp = time.strftime(\"%m_%d_%H_%M\", time.localtime())"
   ]
  },
  {
   "cell_type": "code",
   "execution_count": 4,
   "metadata": {},
   "outputs": [
    {
     "name": "stderr",
     "output_type": "stream",
     "text": [
      "Training Epoch 1: 100%|\u001b[31m██████████\u001b[0m| 116/116 [01:00<00:00,  1.90it/s]\n",
      "Training Epoch 1: 100%|\u001b[31m██████████\u001b[0m| 75/75 [00:40<00:00,  1.86it/s]\n",
      "Training Epoch 1: 100%|\u001b[31m██████████\u001b[0m| 93/93 [01:14<00:00,  1.25it/s]\n",
      "Testing: 100%|\u001b[32m██████████\u001b[0m| 1592/1592 [00:18<00:00, 83.85it/s]\n"
     ]
    },
    {
     "name": "stdout",
     "output_type": "stream",
     "text": [
      "[[709  76]\n",
      " [ 80 727]]\n",
      "              precision    recall  f1-score   support\n",
      "\n",
      "           0       0.90      0.90      0.90       785\n",
      "           1       0.91      0.90      0.90       807\n",
      "\n",
      "    accuracy                           0.90      1592\n",
      "   macro avg       0.90      0.90      0.90      1592\n",
      "weighted avg       0.90      0.90      0.90      1592\n",
      "\n",
      "Acc : 0.9020100502512562\t F1: 0.9019975218417293\n"
     ]
    },
    {
     "name": "stderr",
     "output_type": "stream",
     "text": [
      "Testing: 100%|\u001b[32m██████████\u001b[0m| 1027/1027 [00:12<00:00, 81.24it/s]\n"
     ]
    },
    {
     "name": "stdout",
     "output_type": "stream",
     "text": [
      "[[643  84]\n",
      " [ 63 237]]\n",
      "              precision    recall  f1-score   support\n",
      "\n",
      "           0       0.91      0.88      0.90       727\n",
      "           1       0.74      0.79      0.76       300\n",
      "\n",
      "    accuracy                           0.86      1027\n",
      "   macro avg       0.82      0.84      0.83      1027\n",
      "weighted avg       0.86      0.86      0.86      1027\n",
      "\n",
      "Acc : 0.8568646543330087\t F1: 0.8303515141708048\n"
     ]
    },
    {
     "name": "stderr",
     "output_type": "stream",
     "text": [
      "Testing: 100%|\u001b[32m██████████\u001b[0m| 1269/1269 [00:16<00:00, 78.30it/s]\n"
     ]
    },
    {
     "name": "stdout",
     "output_type": "stream",
     "text": [
      "[[662 240]\n",
      " [130 237]]\n",
      "              precision    recall  f1-score   support\n",
      "\n",
      "           0       0.84      0.73      0.78       902\n",
      "           1       0.50      0.65      0.56       367\n",
      "\n",
      "    accuracy                           0.71      1269\n",
      "   macro avg       0.67      0.69      0.67      1269\n",
      "weighted avg       0.74      0.71      0.72      1269\n",
      "\n",
      "Acc : 0.7084318360914106\t F1: 0.671596714358455\n",
      "\n",
      "\n",
      "\n",
      "best en_acc_socre : 0.9020100502512562, best de_acc_score : 0.8568646543330087, best hi_acc_score : 0.7084318360914106\n"
     ]
    },
    {
     "name": "stderr",
     "output_type": "stream",
     "text": [
      "Training Epoch 2: 100%|\u001b[31m██████████\u001b[0m| 116/116 [00:58<00:00,  2.00it/s]\n",
      "Training Epoch 2: 100%|\u001b[31m██████████\u001b[0m| 75/75 [00:37<00:00,  1.99it/s]\n",
      "Training Epoch 2: 100%|\u001b[31m██████████\u001b[0m| 93/93 [01:11<00:00,  1.29it/s]\n",
      "Testing: 100%|\u001b[32m██████████\u001b[0m| 1592/1592 [00:18<00:00, 84.88it/s]\n"
     ]
    },
    {
     "name": "stdout",
     "output_type": "stream",
     "text": [
      "[[743  42]\n",
      " [129 678]]\n",
      "              precision    recall  f1-score   support\n",
      "\n",
      "           0       0.85      0.95      0.90       785\n",
      "           1       0.94      0.84      0.89       807\n",
      "\n",
      "    accuracy                           0.89      1592\n",
      "   macro avg       0.90      0.89      0.89      1592\n",
      "weighted avg       0.90      0.89      0.89      1592\n",
      "\n",
      "Acc : 0.8925879396984925\t F1: 0.8924085827465311\n"
     ]
    },
    {
     "name": "stderr",
     "output_type": "stream",
     "text": [
      "Testing: 100%|\u001b[32m██████████\u001b[0m| 1027/1027 [00:11<00:00, 88.87it/s]\n"
     ]
    },
    {
     "name": "stdout",
     "output_type": "stream",
     "text": [
      "[[687  40]\n",
      " [111 189]]\n",
      "              precision    recall  f1-score   support\n",
      "\n",
      "           0       0.86      0.94      0.90       727\n",
      "           1       0.83      0.63      0.71       300\n",
      "\n",
      "    accuracy                           0.85      1027\n",
      "   macro avg       0.84      0.79      0.81      1027\n",
      "weighted avg       0.85      0.85      0.85      1027\n",
      "\n",
      "Acc : 0.8529698149951315\t F1: 0.8077696860764201\n"
     ]
    },
    {
     "name": "stderr",
     "output_type": "stream",
     "text": [
      "Testing: 100%|\u001b[32m██████████\u001b[0m| 1269/1269 [00:15<00:00, 79.33it/s]\n"
     ]
    },
    {
     "name": "stdout",
     "output_type": "stream",
     "text": [
      "[[809  93]\n",
      " [234 133]]\n",
      "              precision    recall  f1-score   support\n",
      "\n",
      "           0       0.78      0.90      0.83       902\n",
      "           1       0.59      0.36      0.45       367\n",
      "\n",
      "    accuracy                           0.74      1269\n",
      "   macro avg       0.68      0.63      0.64      1269\n",
      "weighted avg       0.72      0.74      0.72      1269\n",
      "\n",
      "Acc : 0.7423167848699763\t F1: 0.6402216085695583\n",
      "\n",
      "\n",
      "\n"
     ]
    },
    {
     "name": "stderr",
     "output_type": "stream",
     "text": [
      "Training Epoch 3: 100%|\u001b[31m██████████\u001b[0m| 116/116 [00:58<00:00,  1.97it/s]\n",
      "Training Epoch 3: 100%|\u001b[31m██████████\u001b[0m| 75/75 [00:38<00:00,  1.94it/s]\n",
      "Training Epoch 3: 100%|\u001b[31m██████████\u001b[0m| 93/93 [01:06<00:00,  1.40it/s]\n",
      "Testing: 100%|\u001b[32m██████████\u001b[0m| 1592/1592 [00:17<00:00, 89.97it/s] \n"
     ]
    },
    {
     "name": "stdout",
     "output_type": "stream",
     "text": [
      "[[720  65]\n",
      " [ 84 723]]\n",
      "              precision    recall  f1-score   support\n",
      "\n",
      "           0       0.90      0.92      0.91       785\n",
      "           1       0.92      0.90      0.91       807\n",
      "\n",
      "    accuracy                           0.91      1592\n",
      "   macro avg       0.91      0.91      0.91      1592\n",
      "weighted avg       0.91      0.91      0.91      1592\n",
      "\n",
      "Acc : 0.9064070351758794\t F1: 0.9064067028217112\n"
     ]
    },
    {
     "name": "stderr",
     "output_type": "stream",
     "text": [
      "Testing: 100%|\u001b[32m██████████\u001b[0m| 1027/1027 [00:12<00:00, 84.37it/s]\n"
     ]
    },
    {
     "name": "stdout",
     "output_type": "stream",
     "text": [
      "[[658  69]\n",
      " [ 82 218]]\n",
      "              precision    recall  f1-score   support\n",
      "\n",
      "           0       0.89      0.91      0.90       727\n",
      "           1       0.76      0.73      0.74       300\n",
      "\n",
      "    accuracy                           0.85      1027\n",
      "   macro avg       0.82      0.82      0.82      1027\n",
      "weighted avg       0.85      0.85      0.85      1027\n",
      "\n",
      "Acc : 0.8529698149951315\t F1: 0.8199143217798959\n"
     ]
    },
    {
     "name": "stderr",
     "output_type": "stream",
     "text": [
      "Testing: 100%|\u001b[32m██████████\u001b[0m| 1269/1269 [00:15<00:00, 82.70it/s]\n"
     ]
    },
    {
     "name": "stdout",
     "output_type": "stream",
     "text": [
      "[[690 212]\n",
      " [161 206]]\n",
      "              precision    recall  f1-score   support\n",
      "\n",
      "           0       0.81      0.76      0.79       902\n",
      "           1       0.49      0.56      0.52       367\n",
      "\n",
      "    accuracy                           0.71      1269\n",
      "   macro avg       0.65      0.66      0.66      1269\n",
      "weighted avg       0.72      0.71      0.71      1269\n",
      "\n",
      "Acc : 0.7060677698975572\t F1: 0.6560313348182008\n",
      "\n",
      "\n",
      "\n"
     ]
    },
    {
     "name": "stderr",
     "output_type": "stream",
     "text": [
      "Training Epoch 4: 100%|\u001b[31m██████████\u001b[0m| 116/116 [00:57<00:00,  2.03it/s]\n",
      "Training Epoch 4: 100%|\u001b[31m██████████\u001b[0m| 75/75 [00:35<00:00,  2.11it/s]\n",
      "Training Epoch 4: 100%|\u001b[31m██████████\u001b[0m| 93/93 [01:09<00:00,  1.34it/s]\n",
      "Testing: 100%|\u001b[32m██████████\u001b[0m| 1592/1592 [00:18<00:00, 87.78it/s]\n"
     ]
    },
    {
     "name": "stdout",
     "output_type": "stream",
     "text": [
      "[[733  52]\n",
      " [ 92 715]]\n",
      "              precision    recall  f1-score   support\n",
      "\n",
      "           0       0.89      0.93      0.91       785\n",
      "           1       0.93      0.89      0.91       807\n",
      "\n",
      "    accuracy                           0.91      1592\n",
      "   macro avg       0.91      0.91      0.91      1592\n",
      "weighted avg       0.91      0.91      0.91      1592\n",
      "\n",
      "Acc : 0.9095477386934674\t F1: 0.9095361740077501\n"
     ]
    },
    {
     "name": "stderr",
     "output_type": "stream",
     "text": [
      "Testing: 100%|\u001b[32m██████████\u001b[0m| 1027/1027 [00:12<00:00, 83.57it/s]\n"
     ]
    },
    {
     "name": "stdout",
     "output_type": "stream",
     "text": [
      "[[686  41]\n",
      " [106 194]]\n",
      "              precision    recall  f1-score   support\n",
      "\n",
      "           0       0.87      0.94      0.90       727\n",
      "           1       0.83      0.65      0.73       300\n",
      "\n",
      "    accuracy                           0.86      1027\n",
      "   macro avg       0.85      0.80      0.81      1027\n",
      "weighted avg       0.85      0.86      0.85      1027\n",
      "\n",
      "Acc : 0.8568646543330087\t F1: 0.8142297256557129\n"
     ]
    },
    {
     "name": "stderr",
     "output_type": "stream",
     "text": [
      "Testing: 100%|\u001b[32m██████████\u001b[0m| 1269/1269 [00:15<00:00, 81.02it/s]\n"
     ]
    },
    {
     "name": "stdout",
     "output_type": "stream",
     "text": [
      "[[790 112]\n",
      " [231 136]]\n",
      "              precision    recall  f1-score   support\n",
      "\n",
      "           0       0.77      0.88      0.82       902\n",
      "           1       0.55      0.37      0.44       367\n",
      "\n",
      "    accuracy                           0.73      1269\n",
      "   macro avg       0.66      0.62      0.63      1269\n",
      "weighted avg       0.71      0.73      0.71      1269\n",
      "\n",
      "Acc : 0.7297084318360915\t F1: 0.6319546440394201\n",
      "\n",
      "\n",
      "\n"
     ]
    },
    {
     "name": "stderr",
     "output_type": "stream",
     "text": [
      "Training Epoch 5: 100%|\u001b[31m██████████\u001b[0m| 116/116 [00:56<00:00,  2.04it/s]\n",
      "Training Epoch 5: 100%|\u001b[31m██████████\u001b[0m| 75/75 [00:35<00:00,  2.09it/s]\n",
      "Training Epoch 5: 100%|\u001b[31m██████████\u001b[0m| 93/93 [01:09<00:00,  1.34it/s]\n",
      "Testing: 100%|\u001b[32m██████████\u001b[0m| 1592/1592 [00:18<00:00, 85.82it/s]\n"
     ]
    },
    {
     "name": "stdout",
     "output_type": "stream",
     "text": [
      "[[740  45]\n",
      " [118 689]]\n",
      "              precision    recall  f1-score   support\n",
      "\n",
      "           0       0.86      0.94      0.90       785\n",
      "           1       0.94      0.85      0.89       807\n",
      "\n",
      "    accuracy                           0.90      1592\n",
      "   macro avg       0.90      0.90      0.90      1592\n",
      "weighted avg       0.90      0.90      0.90      1592\n",
      "\n",
      "Acc : 0.8976130653266332\t F1: 0.8975078825355085\n"
     ]
    },
    {
     "name": "stderr",
     "output_type": "stream",
     "text": [
      "Testing: 100%|\u001b[32m██████████\u001b[0m| 1027/1027 [00:11<00:00, 92.57it/s] \n"
     ]
    },
    {
     "name": "stdout",
     "output_type": "stream",
     "text": [
      "[[686  41]\n",
      " [ 97 203]]\n",
      "              precision    recall  f1-score   support\n",
      "\n",
      "           0       0.88      0.94      0.91       727\n",
      "           1       0.83      0.68      0.75       300\n",
      "\n",
      "    accuracy                           0.87      1027\n",
      "   macro avg       0.85      0.81      0.83      1027\n",
      "weighted avg       0.86      0.87      0.86      1027\n",
      "\n",
      "Acc : 0.8656280428432327\t F1: 0.8274664004674718\n"
     ]
    },
    {
     "name": "stderr",
     "output_type": "stream",
     "text": [
      "Testing: 100%|\u001b[32m██████████\u001b[0m| 1269/1269 [00:14<00:00, 87.49it/s]\n"
     ]
    },
    {
     "name": "stdout",
     "output_type": "stream",
     "text": [
      "[[814  88]\n",
      " [233 134]]\n",
      "              precision    recall  f1-score   support\n",
      "\n",
      "           0       0.78      0.90      0.84       902\n",
      "           1       0.60      0.37      0.46       367\n",
      "\n",
      "    accuracy                           0.75      1269\n",
      "   macro avg       0.69      0.63      0.65      1269\n",
      "weighted avg       0.73      0.75      0.73      1269\n",
      "\n",
      "Acc : 0.7470449172576832\t F1: 0.6451543214447181\n",
      "\n",
      "\n",
      "\n"
     ]
    },
    {
     "name": "stderr",
     "output_type": "stream",
     "text": [
      "Training Epoch 6: 100%|\u001b[31m██████████\u001b[0m| 116/116 [00:47<00:00,  2.46it/s]\n",
      "Training Epoch 6: 100%|\u001b[31m██████████\u001b[0m| 75/75 [00:29<00:00,  2.53it/s]\n",
      "Training Epoch 6: 100%|\u001b[31m██████████\u001b[0m| 93/93 [00:58<00:00,  1.59it/s]\n",
      "Testing: 100%|\u001b[32m██████████\u001b[0m| 1592/1592 [00:16<00:00, 94.13it/s]\n"
     ]
    },
    {
     "name": "stdout",
     "output_type": "stream",
     "text": [
      "[[728  57]\n",
      " [100 707]]\n",
      "              precision    recall  f1-score   support\n",
      "\n",
      "           0       0.88      0.93      0.90       785\n",
      "           1       0.93      0.88      0.90       807\n",
      "\n",
      "    accuracy                           0.90      1592\n",
      "   macro avg       0.90      0.90      0.90      1592\n",
      "weighted avg       0.90      0.90      0.90      1592\n",
      "\n",
      "Acc : 0.9013819095477387\t F1: 0.9013647468866699\n"
     ]
    },
    {
     "name": "stderr",
     "output_type": "stream",
     "text": [
      "Testing: 100%|\u001b[32m██████████\u001b[0m| 1027/1027 [00:11<00:00, 93.29it/s] \n"
     ]
    },
    {
     "name": "stdout",
     "output_type": "stream",
     "text": [
      "[[676  51]\n",
      " [ 90 210]]\n",
      "              precision    recall  f1-score   support\n",
      "\n",
      "           0       0.88      0.93      0.91       727\n",
      "           1       0.80      0.70      0.75       300\n",
      "\n",
      "    accuracy                           0.86      1027\n",
      "   macro avg       0.84      0.81      0.83      1027\n",
      "weighted avg       0.86      0.86      0.86      1027\n",
      "\n",
      "Acc : 0.8627069133398247\t F1: 0.8271111891142622\n"
     ]
    },
    {
     "name": "stderr",
     "output_type": "stream",
     "text": [
      "Testing: 100%|\u001b[32m██████████\u001b[0m| 1269/1269 [00:14<00:00, 88.65it/s]\n"
     ]
    },
    {
     "name": "stdout",
     "output_type": "stream",
     "text": [
      "[[702 200]\n",
      " [169 198]]\n",
      "              precision    recall  f1-score   support\n",
      "\n",
      "           0       0.81      0.78      0.79       902\n",
      "           1       0.50      0.54      0.52       367\n",
      "\n",
      "    accuracy                           0.71      1269\n",
      "   macro avg       0.65      0.66      0.65      1269\n",
      "weighted avg       0.72      0.71      0.71      1269\n",
      "\n",
      "Acc : 0.7092198581560284\t F1: 0.654762615706181\n",
      "\n",
      "\n",
      "\n"
     ]
    },
    {
     "name": "stderr",
     "output_type": "stream",
     "text": [
      "Training Epoch 7: 100%|\u001b[31m██████████\u001b[0m| 116/116 [00:47<00:00,  2.45it/s]\n",
      "Training Epoch 7: 100%|\u001b[31m██████████\u001b[0m| 75/75 [00:31<00:00,  2.34it/s]\n",
      "Training Epoch 7: 100%|\u001b[31m██████████\u001b[0m| 93/93 [00:58<00:00,  1.59it/s]\n",
      "Testing: 100%|\u001b[32m██████████\u001b[0m| 1592/1592 [00:18<00:00, 86.49it/s]\n"
     ]
    },
    {
     "name": "stdout",
     "output_type": "stream",
     "text": [
      "[[718  67]\n",
      " [ 84 723]]\n",
      "              precision    recall  f1-score   support\n",
      "\n",
      "           0       0.90      0.91      0.90       785\n",
      "           1       0.92      0.90      0.91       807\n",
      "\n",
      "    accuracy                           0.91      1592\n",
      "   macro avg       0.91      0.91      0.91      1592\n",
      "weighted avg       0.91      0.91      0.91      1592\n",
      "\n",
      "Acc : 0.9051507537688442\t F1: 0.9051498181648878\n"
     ]
    },
    {
     "name": "stderr",
     "output_type": "stream",
     "text": [
      "Testing: 100%|\u001b[32m██████████\u001b[0m| 1027/1027 [00:11<00:00, 88.37it/s]\n"
     ]
    },
    {
     "name": "stdout",
     "output_type": "stream",
     "text": [
      "[[673  54]\n",
      " [ 81 219]]\n",
      "              precision    recall  f1-score   support\n",
      "\n",
      "           0       0.89      0.93      0.91       727\n",
      "           1       0.80      0.73      0.76       300\n",
      "\n",
      "    accuracy                           0.87      1027\n",
      "   macro avg       0.85      0.83      0.84      1027\n",
      "weighted avg       0.87      0.87      0.87      1027\n",
      "\n",
      "Acc : 0.8685491723466408\t F1: 0.8366216402529775\n"
     ]
    },
    {
     "name": "stderr",
     "output_type": "stream",
     "text": [
      "Testing: 100%|\u001b[32m██████████\u001b[0m| 1269/1269 [00:16<00:00, 79.02it/s]\n"
     ]
    },
    {
     "name": "stdout",
     "output_type": "stream",
     "text": [
      "[[812  90]\n",
      " [259 108]]\n",
      "              precision    recall  f1-score   support\n",
      "\n",
      "           0       0.76      0.90      0.82       902\n",
      "           1       0.55      0.29      0.38       367\n",
      "\n",
      "    accuracy                           0.72      1269\n",
      "   macro avg       0.65      0.60      0.60      1269\n",
      "weighted avg       0.70      0.72      0.70      1269\n",
      "\n",
      "Acc : 0.7249802994483846\t F1: 0.6027064485599846\n",
      "\n",
      "\n",
      "\n",
      "best en_acc_socre : 0.9051507537688442, best de_acc_score : 0.8685491723466408, best hi_acc_score : 0.7249802994483846\n"
     ]
    },
    {
     "name": "stderr",
     "output_type": "stream",
     "text": [
      "Training Epoch 8: 100%|\u001b[31m██████████\u001b[0m| 116/116 [00:58<00:00,  1.98it/s]\n",
      "Training Epoch 8: 100%|\u001b[31m██████████\u001b[0m| 75/75 [00:35<00:00,  2.12it/s]\n",
      "Training Epoch 8: 100%|\u001b[31m██████████\u001b[0m| 93/93 [01:11<00:00,  1.30it/s]\n",
      "Testing: 100%|\u001b[32m██████████\u001b[0m| 1592/1592 [00:18<00:00, 85.02it/s]\n"
     ]
    },
    {
     "name": "stdout",
     "output_type": "stream",
     "text": [
      "[[739  46]\n",
      " [123 684]]\n",
      "              precision    recall  f1-score   support\n",
      "\n",
      "           0       0.86      0.94      0.90       785\n",
      "           1       0.94      0.85      0.89       807\n",
      "\n",
      "    accuracy                           0.89      1592\n",
      "   macro avg       0.90      0.89      0.89      1592\n",
      "weighted avg       0.90      0.89      0.89      1592\n",
      "\n",
      "Acc : 0.8938442211055276\t F1: 0.8937173678686312\n"
     ]
    },
    {
     "name": "stderr",
     "output_type": "stream",
     "text": [
      "Testing: 100%|\u001b[32m██████████\u001b[0m| 1027/1027 [00:12<00:00, 84.68it/s]\n"
     ]
    },
    {
     "name": "stdout",
     "output_type": "stream",
     "text": [
      "[[693  34]\n",
      " [106 194]]\n",
      "              precision    recall  f1-score   support\n",
      "\n",
      "           0       0.87      0.95      0.91       727\n",
      "           1       0.85      0.65      0.73       300\n",
      "\n",
      "    accuracy                           0.86      1027\n",
      "   macro avg       0.86      0.80      0.82      1027\n",
      "weighted avg       0.86      0.86      0.86      1027\n",
      "\n",
      "Acc : 0.8636806231742941\t F1: 0.821552682791215\n"
     ]
    },
    {
     "name": "stderr",
     "output_type": "stream",
     "text": [
      "Testing: 100%|\u001b[32m██████████\u001b[0m| 1269/1269 [00:15<00:00, 81.70it/s]\n"
     ]
    },
    {
     "name": "stdout",
     "output_type": "stream",
     "text": [
      "[[815  87]\n",
      " [243 124]]\n",
      "              precision    recall  f1-score   support\n",
      "\n",
      "           0       0.77      0.90      0.83       902\n",
      "           1       0.59      0.34      0.43       367\n",
      "\n",
      "    accuracy                           0.74      1269\n",
      "   macro avg       0.68      0.62      0.63      1269\n",
      "weighted avg       0.72      0.74      0.72      1269\n",
      "\n",
      "Acc : 0.7399527186761229\t F1: 0.6303491985029306\n",
      "\n",
      "\n",
      "\n"
     ]
    },
    {
     "name": "stderr",
     "output_type": "stream",
     "text": [
      "Training Epoch 9: 100%|\u001b[31m██████████\u001b[0m| 116/116 [01:05<00:00,  1.77it/s]\n",
      "Training Epoch 9: 100%|\u001b[31m██████████\u001b[0m| 75/75 [00:43<00:00,  1.73it/s]\n",
      "Training Epoch 9: 100%|\u001b[31m██████████\u001b[0m| 93/93 [01:03<00:00,  1.45it/s]\n",
      "Testing: 100%|\u001b[32m██████████\u001b[0m| 1592/1592 [00:17<00:00, 93.05it/s]\n"
     ]
    },
    {
     "name": "stdout",
     "output_type": "stream",
     "text": [
      "[[717  68]\n",
      " [ 85 722]]\n",
      "              precision    recall  f1-score   support\n",
      "\n",
      "           0       0.89      0.91      0.90       785\n",
      "           1       0.91      0.89      0.90       807\n",
      "\n",
      "    accuracy                           0.90      1592\n",
      "   macro avg       0.90      0.90      0.90      1592\n",
      "weighted avg       0.90      0.90      0.90      1592\n",
      "\n",
      "Acc : 0.9038944723618091\t F1: 0.9038935243657472\n"
     ]
    },
    {
     "name": "stderr",
     "output_type": "stream",
     "text": [
      "Testing: 100%|\u001b[32m██████████\u001b[0m| 1027/1027 [00:11<00:00, 88.42it/s]\n"
     ]
    },
    {
     "name": "stdout",
     "output_type": "stream",
     "text": [
      "[[647  80]\n",
      " [ 70 230]]\n",
      "              precision    recall  f1-score   support\n",
      "\n",
      "           0       0.90      0.89      0.90       727\n",
      "           1       0.74      0.77      0.75       300\n",
      "\n",
      "    accuracy                           0.85      1027\n",
      "   macro avg       0.82      0.83      0.83      1027\n",
      "weighted avg       0.86      0.85      0.85      1027\n",
      "\n",
      "Acc : 0.8539435248296008\t F1: 0.8251101221561237\n"
     ]
    },
    {
     "name": "stderr",
     "output_type": "stream",
     "text": [
      "Testing: 100%|\u001b[32m██████████\u001b[0m| 1269/1269 [00:14<00:00, 84.74it/s]\n"
     ]
    },
    {
     "name": "stdout",
     "output_type": "stream",
     "text": [
      "[[774 128]\n",
      " [226 141]]\n",
      "              precision    recall  f1-score   support\n",
      "\n",
      "           0       0.77      0.86      0.81       902\n",
      "           1       0.52      0.38      0.44       367\n",
      "\n",
      "    accuracy                           0.72      1269\n",
      "   macro avg       0.65      0.62      0.63      1269\n",
      "weighted avg       0.70      0.72      0.71      1269\n",
      "\n",
      "Acc : 0.7210401891252955\t F1: 0.6286381762990298\n",
      "\n",
      "\n",
      "\n"
     ]
    },
    {
     "name": "stderr",
     "output_type": "stream",
     "text": [
      "Training Epoch 10: 100%|\u001b[31m██████████\u001b[0m| 116/116 [00:49<00:00,  2.33it/s]\n",
      "Training Epoch 10: 100%|\u001b[31m██████████\u001b[0m| 75/75 [00:31<00:00,  2.42it/s]\n",
      "Training Epoch 10: 100%|\u001b[31m██████████\u001b[0m| 93/93 [00:59<00:00,  1.56it/s]\n",
      "Testing: 100%|\u001b[32m██████████\u001b[0m| 1592/1592 [00:16<00:00, 94.72it/s] \n"
     ]
    },
    {
     "name": "stdout",
     "output_type": "stream",
     "text": [
      "[[703  82]\n",
      " [ 80 727]]\n",
      "              precision    recall  f1-score   support\n",
      "\n",
      "           0       0.90      0.90      0.90       785\n",
      "           1       0.90      0.90      0.90       807\n",
      "\n",
      "    accuracy                           0.90      1592\n",
      "   macro avg       0.90      0.90      0.90      1592\n",
      "weighted avg       0.90      0.90      0.90      1592\n",
      "\n",
      "Acc : 0.8982412060301508\t F1: 0.8982180743584562\n"
     ]
    },
    {
     "name": "stderr",
     "output_type": "stream",
     "text": [
      "Testing: 100%|\u001b[32m██████████\u001b[0m| 1027/1027 [00:11<00:00, 92.47it/s] \n"
     ]
    },
    {
     "name": "stdout",
     "output_type": "stream",
     "text": [
      "[[646  81]\n",
      " [ 60 240]]\n",
      "              precision    recall  f1-score   support\n",
      "\n",
      "           0       0.92      0.89      0.90       727\n",
      "           1       0.75      0.80      0.77       300\n",
      "\n",
      "    accuracy                           0.86      1027\n",
      "   macro avg       0.83      0.84      0.84      1027\n",
      "weighted avg       0.87      0.86      0.86      1027\n",
      "\n",
      "Acc : 0.8627069133398247\t F1: 0.8372759421638332\n"
     ]
    },
    {
     "name": "stderr",
     "output_type": "stream",
     "text": [
      "Testing: 100%|\u001b[32m██████████\u001b[0m| 1269/1269 [00:14<00:00, 88.82it/s]\n"
     ]
    },
    {
     "name": "stdout",
     "output_type": "stream",
     "text": [
      "[[764 138]\n",
      " [199 168]]\n",
      "              precision    recall  f1-score   support\n",
      "\n",
      "           0       0.79      0.85      0.82       902\n",
      "           1       0.55      0.46      0.50       367\n",
      "\n",
      "    accuracy                           0.73      1269\n",
      "   macro avg       0.67      0.65      0.66      1269\n",
      "weighted avg       0.72      0.73      0.73      1269\n",
      "\n",
      "Acc : 0.7344365642237982\t F1: 0.6592800035055711\n",
      "\n",
      "\n",
      "\n"
     ]
    },
    {
     "name": "stderr",
     "output_type": "stream",
     "text": [
      "Training Epoch 11: 100%|\u001b[31m██████████\u001b[0m| 116/116 [00:47<00:00,  2.46it/s]\n",
      "Training Epoch 11: 100%|\u001b[31m██████████\u001b[0m| 75/75 [00:29<00:00,  2.57it/s]\n",
      "Training Epoch 11: 100%|\u001b[31m██████████\u001b[0m| 93/93 [00:58<00:00,  1.60it/s]\n",
      "Testing: 100%|\u001b[32m██████████\u001b[0m| 1592/1592 [00:16<00:00, 95.74it/s] \n"
     ]
    },
    {
     "name": "stdout",
     "output_type": "stream",
     "text": [
      "[[716  69]\n",
      " [ 77 730]]\n",
      "              precision    recall  f1-score   support\n",
      "\n",
      "           0       0.90      0.91      0.91       785\n",
      "           1       0.91      0.90      0.91       807\n",
      "\n",
      "    accuracy                           0.91      1592\n",
      "   macro avg       0.91      0.91      0.91      1592\n",
      "weighted avg       0.91      0.91      0.91      1592\n",
      "\n",
      "Acc : 0.9082914572864321\t F1: 0.9082843645581289\n"
     ]
    },
    {
     "name": "stderr",
     "output_type": "stream",
     "text": [
      "Testing: 100%|\u001b[32m██████████\u001b[0m| 1027/1027 [00:11<00:00, 91.10it/s] \n"
     ]
    },
    {
     "name": "stdout",
     "output_type": "stream",
     "text": [
      "[[652  75]\n",
      " [ 67 233]]\n",
      "              precision    recall  f1-score   support\n",
      "\n",
      "           0       0.91      0.90      0.90       727\n",
      "           1       0.76      0.78      0.77       300\n",
      "\n",
      "    accuracy                           0.86      1027\n",
      "   macro avg       0.83      0.84      0.83      1027\n",
      "weighted avg       0.86      0.86      0.86      1027\n",
      "\n",
      "Acc : 0.8617332035053554\t F1: 0.8341227160224212\n"
     ]
    },
    {
     "name": "stderr",
     "output_type": "stream",
     "text": [
      "Testing: 100%|\u001b[32m██████████\u001b[0m| 1269/1269 [00:14<00:00, 89.61it/s]\n"
     ]
    },
    {
     "name": "stdout",
     "output_type": "stream",
     "text": [
      "[[811  91]\n",
      " [255 112]]\n",
      "              precision    recall  f1-score   support\n",
      "\n",
      "           0       0.76      0.90      0.82       902\n",
      "           1       0.55      0.31      0.39       367\n",
      "\n",
      "    accuracy                           0.73      1269\n",
      "   macro avg       0.66      0.60      0.61      1269\n",
      "weighted avg       0.70      0.73      0.70      1269\n",
      "\n",
      "Acc : 0.727344365642238\t F1: 0.6085847240051347\n",
      "\n",
      "\n",
      "\n"
     ]
    },
    {
     "name": "stderr",
     "output_type": "stream",
     "text": [
      "Training Epoch 12: 100%|\u001b[31m██████████\u001b[0m| 116/116 [00:46<00:00,  2.47it/s]\n",
      "Training Epoch 12: 100%|\u001b[31m██████████\u001b[0m| 75/75 [00:29<00:00,  2.56it/s]\n",
      "Training Epoch 12: 100%|\u001b[31m██████████\u001b[0m| 93/93 [00:58<00:00,  1.60it/s]\n",
      "Testing: 100%|\u001b[32m██████████\u001b[0m| 1592/1592 [00:16<00:00, 97.57it/s] \n"
     ]
    },
    {
     "name": "stdout",
     "output_type": "stream",
     "text": [
      "[[708  77]\n",
      " [ 73 734]]\n",
      "              precision    recall  f1-score   support\n",
      "\n",
      "           0       0.91      0.90      0.90       785\n",
      "           1       0.91      0.91      0.91       807\n",
      "\n",
      "    accuracy                           0.91      1592\n",
      "   macro avg       0.91      0.91      0.91      1592\n",
      "weighted avg       0.91      0.91      0.91      1592\n",
      "\n",
      "Acc : 0.9057788944723618\t F1: 0.9057537568257485\n"
     ]
    },
    {
     "name": "stderr",
     "output_type": "stream",
     "text": [
      "Testing: 100%|\u001b[32m██████████\u001b[0m| 1027/1027 [00:11<00:00, 91.37it/s] \n"
     ]
    },
    {
     "name": "stdout",
     "output_type": "stream",
     "text": [
      "[[644  83]\n",
      " [ 68 232]]\n",
      "              precision    recall  f1-score   support\n",
      "\n",
      "           0       0.90      0.89      0.90       727\n",
      "           1       0.74      0.77      0.75       300\n",
      "\n",
      "    accuracy                           0.85      1027\n",
      "   macro avg       0.82      0.83      0.82      1027\n",
      "weighted avg       0.86      0.85      0.85      1027\n",
      "\n",
      "Acc : 0.8529698149951315\t F1: 0.824768781391775\n"
     ]
    },
    {
     "name": "stderr",
     "output_type": "stream",
     "text": [
      "Testing: 100%|\u001b[32m██████████\u001b[0m| 1269/1269 [00:14<00:00, 90.26it/s]\n"
     ]
    },
    {
     "name": "stdout",
     "output_type": "stream",
     "text": [
      "[[733 169]\n",
      " [189 178]]\n",
      "              precision    recall  f1-score   support\n",
      "\n",
      "           0       0.80      0.81      0.80       902\n",
      "           1       0.51      0.49      0.50       367\n",
      "\n",
      "    accuracy                           0.72      1269\n",
      "   macro avg       0.65      0.65      0.65      1269\n",
      "weighted avg       0.71      0.72      0.72      1269\n",
      "\n",
      "Acc : 0.7178881008668243\t F1: 0.6511637549756746\n",
      "\n",
      "\n",
      "\n"
     ]
    },
    {
     "name": "stderr",
     "output_type": "stream",
     "text": [
      "Training Epoch 13: 100%|\u001b[31m██████████\u001b[0m| 116/116 [00:46<00:00,  2.47it/s]\n",
      "Training Epoch 13: 100%|\u001b[31m██████████\u001b[0m| 75/75 [00:29<00:00,  2.56it/s]\n",
      "Training Epoch 13: 100%|\u001b[31m██████████\u001b[0m| 93/93 [00:58<00:00,  1.60it/s]\n",
      "Testing: 100%|\u001b[32m██████████\u001b[0m| 1592/1592 [00:16<00:00, 97.12it/s] \n"
     ]
    },
    {
     "name": "stdout",
     "output_type": "stream",
     "text": [
      "[[714  71]\n",
      " [ 80 727]]\n",
      "              precision    recall  f1-score   support\n",
      "\n",
      "           0       0.90      0.91      0.90       785\n",
      "           1       0.91      0.90      0.91       807\n",
      "\n",
      "    accuracy                           0.91      1592\n",
      "   macro avg       0.91      0.91      0.91      1592\n",
      "weighted avg       0.91      0.91      0.91      1592\n",
      "\n",
      "Acc : 0.9051507537688442\t F1: 0.9051444287267267\n"
     ]
    },
    {
     "name": "stderr",
     "output_type": "stream",
     "text": [
      "Testing: 100%|\u001b[32m██████████\u001b[0m| 1027/1027 [00:11<00:00, 91.22it/s]\n"
     ]
    },
    {
     "name": "stdout",
     "output_type": "stream",
     "text": [
      "[[613 114]\n",
      " [ 59 241]]\n",
      "              precision    recall  f1-score   support\n",
      "\n",
      "           0       0.91      0.84      0.88       727\n",
      "           1       0.68      0.80      0.74       300\n",
      "\n",
      "    accuracy                           0.83      1027\n",
      "   macro avg       0.80      0.82      0.81      1027\n",
      "weighted avg       0.84      0.83      0.84      1027\n",
      "\n",
      "Acc : 0.8315481986368062\t F1: 0.8061090528130781\n"
     ]
    },
    {
     "name": "stderr",
     "output_type": "stream",
     "text": [
      "Testing: 100%|\u001b[32m██████████\u001b[0m| 1269/1269 [00:14<00:00, 90.07it/s]\n"
     ]
    },
    {
     "name": "stdout",
     "output_type": "stream",
     "text": [
      "[[686 216]\n",
      " [167 200]]\n",
      "              precision    recall  f1-score   support\n",
      "\n",
      "           0       0.80      0.76      0.78       902\n",
      "           1       0.48      0.54      0.51       367\n",
      "\n",
      "    accuracy                           0.70      1269\n",
      "   macro avg       0.64      0.65      0.65      1269\n",
      "weighted avg       0.71      0.70      0.70      1269\n",
      "\n",
      "Acc : 0.698187549251379\t F1: 0.6463110325179291\n",
      "\n",
      "\n",
      "\n"
     ]
    },
    {
     "name": "stderr",
     "output_type": "stream",
     "text": [
      "Training Epoch 14: 100%|\u001b[31m██████████\u001b[0m| 116/116 [00:46<00:00,  2.47it/s]\n",
      "Training Epoch 14: 100%|\u001b[31m██████████\u001b[0m| 75/75 [00:29<00:00,  2.56it/s]\n",
      "Training Epoch 14: 100%|\u001b[31m██████████\u001b[0m| 93/93 [01:02<00:00,  1.48it/s]\n",
      "Testing: 100%|\u001b[32m██████████\u001b[0m| 1592/1592 [00:17<00:00, 89.37it/s]\n"
     ]
    },
    {
     "name": "stdout",
     "output_type": "stream",
     "text": [
      "[[746  39]\n",
      " [127 680]]\n",
      "              precision    recall  f1-score   support\n",
      "\n",
      "           0       0.85      0.95      0.90       785\n",
      "           1       0.95      0.84      0.89       807\n",
      "\n",
      "    accuracy                           0.90      1592\n",
      "   macro avg       0.90      0.90      0.90      1592\n",
      "weighted avg       0.90      0.90      0.90      1592\n",
      "\n",
      "Acc : 0.8957286432160804\t F1: 0.8955491228042439\n"
     ]
    },
    {
     "name": "stderr",
     "output_type": "stream",
     "text": [
      "Testing: 100%|\u001b[32m██████████\u001b[0m| 1027/1027 [00:12<00:00, 85.18it/s]\n"
     ]
    },
    {
     "name": "stdout",
     "output_type": "stream",
     "text": [
      "[[688  39]\n",
      " [104 196]]\n",
      "              precision    recall  f1-score   support\n",
      "\n",
      "           0       0.87      0.95      0.91       727\n",
      "           1       0.83      0.65      0.73       300\n",
      "\n",
      "    accuracy                           0.86      1027\n",
      "   macro avg       0.85      0.80      0.82      1027\n",
      "weighted avg       0.86      0.86      0.86      1027\n",
      "\n",
      "Acc : 0.8607594936708861\t F1: 0.8192846991072582\n"
     ]
    },
    {
     "name": "stderr",
     "output_type": "stream",
     "text": [
      "Testing: 100%|\u001b[32m██████████\u001b[0m| 1269/1269 [00:15<00:00, 81.23it/s]\n"
     ]
    },
    {
     "name": "stdout",
     "output_type": "stream",
     "text": [
      "[[764 138]\n",
      " [222 145]]\n",
      "              precision    recall  f1-score   support\n",
      "\n",
      "           0       0.77      0.85      0.81       902\n",
      "           1       0.51      0.40      0.45       367\n",
      "\n",
      "    accuracy                           0.72      1269\n",
      "   macro avg       0.64      0.62      0.63      1269\n",
      "weighted avg       0.70      0.72      0.70      1269\n",
      "\n",
      "Acc : 0.7163120567375887\t F1: 0.6277379400260756\n",
      "\n",
      "\n",
      "\n"
     ]
    },
    {
     "name": "stderr",
     "output_type": "stream",
     "text": [
      "Training Epoch 15: 100%|\u001b[31m██████████\u001b[0m| 116/116 [00:56<00:00,  2.05it/s]\n",
      "Training Epoch 15: 100%|\u001b[31m██████████\u001b[0m| 75/75 [00:35<00:00,  2.14it/s]\n",
      "Training Epoch 15: 100%|\u001b[31m██████████\u001b[0m| 93/93 [01:08<00:00,  1.35it/s]\n",
      "Testing: 100%|\u001b[32m██████████\u001b[0m| 1592/1592 [00:18<00:00, 87.00it/s]\n"
     ]
    },
    {
     "name": "stdout",
     "output_type": "stream",
     "text": [
      "[[729  56]\n",
      " [ 87 720]]\n",
      "              precision    recall  f1-score   support\n",
      "\n",
      "           0       0.89      0.93      0.91       785\n",
      "           1       0.93      0.89      0.91       807\n",
      "\n",
      "    accuracy                           0.91      1592\n",
      "   macro avg       0.91      0.91      0.91      1592\n",
      "weighted avg       0.91      0.91      0.91      1592\n",
      "\n",
      "Acc : 0.910175879396985\t F1: 0.9101730085784193\n"
     ]
    },
    {
     "name": "stderr",
     "output_type": "stream",
     "text": [
      "Testing: 100%|\u001b[32m██████████\u001b[0m| 1027/1027 [00:11<00:00, 89.10it/s]\n"
     ]
    },
    {
     "name": "stdout",
     "output_type": "stream",
     "text": [
      "[[658  69]\n",
      " [ 77 223]]\n",
      "              precision    recall  f1-score   support\n",
      "\n",
      "           0       0.90      0.91      0.90       727\n",
      "           1       0.76      0.74      0.75       300\n",
      "\n",
      "    accuracy                           0.86      1027\n",
      "   macro avg       0.83      0.82      0.83      1027\n",
      "weighted avg       0.86      0.86      0.86      1027\n",
      "\n",
      "Acc : 0.857838364167478\t F1: 0.8267575886419936\n"
     ]
    },
    {
     "name": "stderr",
     "output_type": "stream",
     "text": [
      "Testing: 100%|\u001b[32m██████████\u001b[0m| 1269/1269 [00:15<00:00, 80.52it/s]\n"
     ]
    },
    {
     "name": "stdout",
     "output_type": "stream",
     "text": [
      "[[781 121]\n",
      " [220 147]]\n",
      "              precision    recall  f1-score   support\n",
      "\n",
      "           0       0.78      0.87      0.82       902\n",
      "           1       0.55      0.40      0.46       367\n",
      "\n",
      "    accuracy                           0.73      1269\n",
      "   macro avg       0.66      0.63      0.64      1269\n",
      "weighted avg       0.71      0.73      0.72      1269\n",
      "\n",
      "Acc : 0.731284475965327\t F1: 0.6419006872695826\n",
      "\n",
      "\n",
      "\n"
     ]
    },
    {
     "name": "stderr",
     "output_type": "stream",
     "text": [
      "Training Epoch 16: 100%|\u001b[31m██████████\u001b[0m| 116/116 [00:50<00:00,  2.31it/s]\n",
      "Training Epoch 16: 100%|\u001b[31m██████████\u001b[0m| 75/75 [00:29<00:00,  2.56it/s]\n",
      "Training Epoch 16: 100%|\u001b[31m██████████\u001b[0m| 93/93 [00:57<00:00,  1.61it/s]\n",
      "Testing: 100%|\u001b[32m██████████\u001b[0m| 1592/1592 [00:16<00:00, 94.37it/s] \n"
     ]
    },
    {
     "name": "stdout",
     "output_type": "stream",
     "text": [
      "[[743  42]\n",
      " [112 695]]\n",
      "              precision    recall  f1-score   support\n",
      "\n",
      "           0       0.87      0.95      0.91       785\n",
      "           1       0.94      0.86      0.90       807\n",
      "\n",
      "    accuracy                           0.90      1592\n",
      "   macro avg       0.91      0.90      0.90      1592\n",
      "weighted avg       0.91      0.90      0.90      1592\n",
      "\n",
      "Acc : 0.9032663316582915\t F1: 0.9031783141665614\n"
     ]
    },
    {
     "name": "stderr",
     "output_type": "stream",
     "text": [
      "Testing: 100%|\u001b[32m██████████\u001b[0m| 1027/1027 [00:10<00:00, 98.74it/s] \n"
     ]
    },
    {
     "name": "stdout",
     "output_type": "stream",
     "text": [
      "[[671  56]\n",
      " [ 87 213]]\n",
      "              precision    recall  f1-score   support\n",
      "\n",
      "           0       0.89      0.92      0.90       727\n",
      "           1       0.79      0.71      0.75       300\n",
      "\n",
      "    accuracy                           0.86      1027\n",
      "   macro avg       0.84      0.82      0.83      1027\n",
      "weighted avg       0.86      0.86      0.86      1027\n",
      "\n",
      "Acc : 0.8607594936708861\t F1: 0.8261928008852437\n"
     ]
    },
    {
     "name": "stderr",
     "output_type": "stream",
     "text": [
      "Testing: 100%|\u001b[32m██████████\u001b[0m| 1269/1269 [00:14<00:00, 87.97it/s]\n"
     ]
    },
    {
     "name": "stdout",
     "output_type": "stream",
     "text": [
      "[[803  99]\n",
      " [243 124]]\n",
      "              precision    recall  f1-score   support\n",
      "\n",
      "           0       0.77      0.89      0.82       902\n",
      "           1       0.56      0.34      0.42       367\n",
      "\n",
      "    accuracy                           0.73      1269\n",
      "   macro avg       0.66      0.61      0.62      1269\n",
      "weighted avg       0.71      0.73      0.71      1269\n",
      "\n",
      "Acc : 0.7304964539007093\t F1: 0.6223871506630008\n",
      "\n",
      "\n",
      "\n"
     ]
    },
    {
     "name": "stderr",
     "output_type": "stream",
     "text": [
      "Training Epoch 17: 100%|\u001b[31m██████████\u001b[0m| 116/116 [00:47<00:00,  2.46it/s]\n",
      "Training Epoch 17: 100%|\u001b[31m██████████\u001b[0m| 75/75 [00:29<00:00,  2.56it/s]\n",
      "Training Epoch 17: 100%|\u001b[31m██████████\u001b[0m| 93/93 [00:58<00:00,  1.60it/s]\n",
      "Testing: 100%|\u001b[32m██████████\u001b[0m| 1592/1592 [00:17<00:00, 93.24it/s]\n"
     ]
    },
    {
     "name": "stdout",
     "output_type": "stream",
     "text": [
      "[[738  47]\n",
      " [113 694]]\n",
      "              precision    recall  f1-score   support\n",
      "\n",
      "           0       0.87      0.94      0.90       785\n",
      "           1       0.94      0.86      0.90       807\n",
      "\n",
      "    accuracy                           0.90      1592\n",
      "   macro avg       0.90      0.90      0.90      1592\n",
      "weighted avg       0.90      0.90      0.90      1592\n",
      "\n",
      "Acc : 0.8994974874371859\t F1: 0.89942065793547\n"
     ]
    },
    {
     "name": "stderr",
     "output_type": "stream",
     "text": [
      "Testing: 100%|\u001b[32m██████████\u001b[0m| 1027/1027 [00:10<00:00, 97.27it/s] \n"
     ]
    },
    {
     "name": "stdout",
     "output_type": "stream",
     "text": [
      "[[685  42]\n",
      " [103 197]]\n",
      "              precision    recall  f1-score   support\n",
      "\n",
      "           0       0.87      0.94      0.90       727\n",
      "           1       0.82      0.66      0.73       300\n",
      "\n",
      "    accuracy                           0.86      1027\n",
      "   macro avg       0.85      0.80      0.82      1027\n",
      "weighted avg       0.86      0.86      0.85      1027\n",
      "\n",
      "Acc : 0.8588120740019474\t F1: 0.8176368657273891\n"
     ]
    },
    {
     "name": "stderr",
     "output_type": "stream",
     "text": [
      "Testing: 100%|\u001b[32m██████████\u001b[0m| 1269/1269 [00:14<00:00, 87.76it/s]\n"
     ]
    },
    {
     "name": "stdout",
     "output_type": "stream",
     "text": [
      "[[811  91]\n",
      " [251 116]]\n",
      "              precision    recall  f1-score   support\n",
      "\n",
      "           0       0.76      0.90      0.83       902\n",
      "           1       0.56      0.32      0.40       367\n",
      "\n",
      "    accuracy                           0.73      1269\n",
      "   macro avg       0.66      0.61      0.62      1269\n",
      "weighted avg       0.70      0.73      0.70      1269\n",
      "\n",
      "Acc : 0.7304964539007093\t F1: 0.6150233825585274\n",
      "\n",
      "\n",
      "\n"
     ]
    },
    {
     "name": "stderr",
     "output_type": "stream",
     "text": [
      "Training Epoch 18: 100%|\u001b[31m██████████\u001b[0m| 116/116 [00:47<00:00,  2.47it/s]\n",
      "Training Epoch 18: 100%|\u001b[31m██████████\u001b[0m| 75/75 [00:29<00:00,  2.56it/s]\n",
      "Training Epoch 18: 100%|\u001b[31m██████████\u001b[0m| 93/93 [00:58<00:00,  1.60it/s]\n",
      "Testing: 100%|\u001b[32m██████████\u001b[0m| 1592/1592 [00:16<00:00, 94.02it/s] \n"
     ]
    },
    {
     "name": "stdout",
     "output_type": "stream",
     "text": [
      "[[735  50]\n",
      " [ 97 710]]\n",
      "              precision    recall  f1-score   support\n",
      "\n",
      "           0       0.88      0.94      0.91       785\n",
      "           1       0.93      0.88      0.91       807\n",
      "\n",
      "    accuracy                           0.91      1592\n",
      "   macro avg       0.91      0.91      0.91      1592\n",
      "weighted avg       0.91      0.91      0.91      1592\n",
      "\n",
      "Acc : 0.9076633165829145\t F1: 0.9076405406973371\n"
     ]
    },
    {
     "name": "stderr",
     "output_type": "stream",
     "text": [
      "Testing: 100%|\u001b[32m██████████\u001b[0m| 1027/1027 [00:10<00:00, 96.80it/s] \n"
     ]
    },
    {
     "name": "stdout",
     "output_type": "stream",
     "text": [
      "[[694  33]\n",
      " [100 200]]\n",
      "              precision    recall  f1-score   support\n",
      "\n",
      "           0       0.87      0.95      0.91       727\n",
      "           1       0.86      0.67      0.75       300\n",
      "\n",
      "    accuracy                           0.87      1027\n",
      "   macro avg       0.87      0.81      0.83      1027\n",
      "weighted avg       0.87      0.87      0.87      1027\n",
      "\n",
      "Acc : 0.8704965920155794\t F1: 0.8315132855470566\n"
     ]
    },
    {
     "name": "stderr",
     "output_type": "stream",
     "text": [
      "Testing: 100%|\u001b[32m██████████\u001b[0m| 1269/1269 [00:14<00:00, 88.17it/s]\n"
     ]
    },
    {
     "name": "stdout",
     "output_type": "stream",
     "text": [
      "[[732 170]\n",
      " [192 175]]\n",
      "              precision    recall  f1-score   support\n",
      "\n",
      "           0       0.79      0.81      0.80       902\n",
      "           1       0.51      0.48      0.49       367\n",
      "\n",
      "    accuracy                           0.71      1269\n",
      "   macro avg       0.65      0.64      0.65      1269\n",
      "weighted avg       0.71      0.71      0.71      1269\n",
      "\n",
      "Acc : 0.7147360126083531\t F1: 0.646662749055466\n",
      "\n",
      "\n",
      "\n"
     ]
    },
    {
     "name": "stderr",
     "output_type": "stream",
     "text": [
      "Training Epoch 19: 100%|\u001b[31m██████████\u001b[0m| 116/116 [00:47<00:00,  2.46it/s]\n",
      "Training Epoch 19: 100%|\u001b[31m██████████\u001b[0m| 75/75 [00:29<00:00,  2.57it/s]\n",
      "Training Epoch 19: 100%|\u001b[31m██████████\u001b[0m| 93/93 [00:58<00:00,  1.59it/s]\n",
      "Testing: 100%|\u001b[32m██████████\u001b[0m| 1592/1592 [00:16<00:00, 94.79it/s] \n"
     ]
    },
    {
     "name": "stdout",
     "output_type": "stream",
     "text": [
      "[[714  71]\n",
      " [ 77 730]]\n",
      "              precision    recall  f1-score   support\n",
      "\n",
      "           0       0.90      0.91      0.91       785\n",
      "           1       0.91      0.90      0.91       807\n",
      "\n",
      "    accuracy                           0.91      1592\n",
      "   macro avg       0.91      0.91      0.91      1592\n",
      "weighted avg       0.91      0.91      0.91      1592\n",
      "\n",
      "Acc : 0.907035175879397\t F1: 0.9070257847816754\n"
     ]
    },
    {
     "name": "stderr",
     "output_type": "stream",
     "text": [
      "Testing: 100%|\u001b[32m██████████\u001b[0m| 1027/1027 [00:10<00:00, 95.11it/s] \n"
     ]
    },
    {
     "name": "stdout",
     "output_type": "stream",
     "text": [
      "[[664  63]\n",
      " [ 79 221]]\n",
      "              precision    recall  f1-score   support\n",
      "\n",
      "           0       0.89      0.91      0.90       727\n",
      "           1       0.78      0.74      0.76       300\n",
      "\n",
      "    accuracy                           0.86      1027\n",
      "   macro avg       0.84      0.83      0.83      1027\n",
      "weighted avg       0.86      0.86      0.86      1027\n",
      "\n",
      "Acc : 0.8617332035053554\t F1: 0.8301253378063553\n"
     ]
    },
    {
     "name": "stderr",
     "output_type": "stream",
     "text": [
      "Testing: 100%|\u001b[32m██████████\u001b[0m| 1269/1269 [00:14<00:00, 88.65it/s]\n"
     ]
    },
    {
     "name": "stdout",
     "output_type": "stream",
     "text": [
      "[[748 154]\n",
      " [201 166]]\n",
      "              precision    recall  f1-score   support\n",
      "\n",
      "           0       0.79      0.83      0.81       902\n",
      "           1       0.52      0.45      0.48       367\n",
      "\n",
      "    accuracy                           0.72      1269\n",
      "   macro avg       0.65      0.64      0.65      1269\n",
      "weighted avg       0.71      0.72      0.71      1269\n",
      "\n",
      "Acc : 0.7202521670606777\t F1: 0.6457361652735805\n",
      "\n",
      "\n",
      "\n"
     ]
    },
    {
     "name": "stderr",
     "output_type": "stream",
     "text": [
      "Training Epoch 20: 100%|\u001b[31m██████████\u001b[0m| 116/116 [00:46<00:00,  2.48it/s]\n",
      "Training Epoch 20: 100%|\u001b[31m██████████\u001b[0m| 75/75 [00:29<00:00,  2.56it/s]\n",
      "Training Epoch 20: 100%|\u001b[31m██████████\u001b[0m| 93/93 [00:58<00:00,  1.60it/s]\n",
      "Testing: 100%|\u001b[32m██████████\u001b[0m| 1592/1592 [00:16<00:00, 94.99it/s] \n"
     ]
    },
    {
     "name": "stdout",
     "output_type": "stream",
     "text": [
      "[[737  48]\n",
      " [105 702]]\n",
      "              precision    recall  f1-score   support\n",
      "\n",
      "           0       0.88      0.94      0.91       785\n",
      "           1       0.94      0.87      0.90       807\n",
      "\n",
      "    accuracy                           0.90      1592\n",
      "   macro avg       0.91      0.90      0.90      1592\n",
      "weighted avg       0.91      0.90      0.90      1592\n",
      "\n",
      "Acc : 0.9038944723618091\t F1: 0.9038479985504724\n"
     ]
    },
    {
     "name": "stderr",
     "output_type": "stream",
     "text": [
      "Testing: 100%|\u001b[32m██████████\u001b[0m| 1027/1027 [00:10<00:00, 93.77it/s]\n"
     ]
    },
    {
     "name": "stdout",
     "output_type": "stream",
     "text": [
      "[[701  26]\n",
      " [117 183]]\n",
      "              precision    recall  f1-score   support\n",
      "\n",
      "           0       0.86      0.96      0.91       727\n",
      "           1       0.88      0.61      0.72       300\n",
      "\n",
      "    accuracy                           0.86      1027\n",
      "   macro avg       0.87      0.79      0.81      1027\n",
      "weighted avg       0.86      0.86      0.85      1027\n",
      "\n",
      "Acc : 0.8607594936708861\t F1: 0.813250170077759\n"
     ]
    },
    {
     "name": "stderr",
     "output_type": "stream",
     "text": [
      "Testing: 100%|\u001b[32m██████████\u001b[0m| 1269/1269 [00:14<00:00, 88.01it/s]"
     ]
    },
    {
     "name": "stdout",
     "output_type": "stream",
     "text": [
      "[[794 108]\n",
      " [244 123]]\n",
      "              precision    recall  f1-score   support\n",
      "\n",
      "           0       0.76      0.88      0.82       902\n",
      "           1       0.53      0.34      0.41       367\n",
      "\n",
      "    accuracy                           0.72      1269\n",
      "   macro avg       0.65      0.61      0.61      1269\n",
      "weighted avg       0.70      0.72      0.70      1269\n",
      "\n",
      "Acc : 0.7226162332545312\t F1: 0.6149639692445609\n",
      "\n",
      "\n",
      "\n",
      "best en_acc_socre : 0.9051507537688442, best de_acc_score : 0.8685491723466408, best hi_acc_score : 0.7226162332545312\n"
     ]
    },
    {
     "name": "stderr",
     "output_type": "stream",
     "text": [
      "\n"
     ]
    }
   ],
   "source": [
    "\n",
    "file_name = 'readme_tw.md'\n",
    "model_save_path = 'D:/Experiment_models_save/twitter-xlm-roberta-base-sentiment/hasoc2020/'\n",
    "en_temp_best = 0.88\n",
    "de_temp_best = 0.85\n",
    "hi_temp_best = 0.6\n",
    "for epoch in range(1, num_epoch + 1):\n",
    "    MyXLM_TW.train(model, en_train_iter, device, optimizer, loss, epoch)\n",
    "    MyXLM_TW.train(model, de_train_iter, device, optimizer, loss, epoch)\n",
    "    MyXLM_TW.train(model, hi_train_iter, device, optimizer, loss, epoch)\n",
    "    en_acc_score = MyXLM_TW.test(model, en_test_iter, device, epoch, file_name)\n",
    "    de_acc_score = MyXLM_TW.test(model, de_test_iter, device, epoch, file_name)\n",
    "    hi_acc_score = MyXLM_TW.test(model, hi_test_iter, device, epoch, file_name)\n",
    "    print('\\n\\n')\n",
    "    if en_acc_score > en_temp_best and de_acc_score > de_temp_best and hi_acc_score > hi_temp_best:\n",
    "        en_temp_best, de_temp_best, hi_temp_best = en_acc_score, de_acc_score, hi_acc_score\n",
    "        MyXLM_TW.save_pretrained(model, model_save_path)\n",
    "        print(\n",
    "            f'best en_acc_socre : {en_acc_score}, best de_acc_score : {de_acc_score}, best hi_acc_score : {hi_acc_score}')\n",
    "print(\n",
    "    f'best en_acc_socre : {en_temp_best}, best de_acc_score : {de_temp_best}, best hi_acc_score : {hi_acc_score}')\n"
   ]
  },
  {
   "cell_type": "code",
   "execution_count": null,
   "metadata": {},
   "outputs": [],
   "source": [
    "from transformers import XLMRobertaForSequenceClassification\n",
    "\n",
    "xlm = XLMRobertaForSequenceClassification.from_pretrained('cardiffnlp/twitter-xlm-roberta-base-sentiment', return_dict=True)\n",
    "xlm.classifier.out_proj = nn.Linear(768, 2)\n",
    "print(xlm.eval())"
   ]
  }
 ],
 "metadata": {
  "kernelspec": {
   "display_name": "Python 3.8.13 ('pytorch_env')",
   "language": "python",
   "name": "python3"
  },
  "language_info": {
   "codemirror_mode": {
    "name": "ipython",
    "version": 3
   },
   "file_extension": ".py",
   "mimetype": "text/x-python",
   "name": "python",
   "nbconvert_exporter": "python",
   "pygments_lexer": "ipython3",
   "version": "3.8.13"
  },
  "orig_nbformat": 4,
  "vscode": {
   "interpreter": {
    "hash": "4bbee185f428494c0f3f4eb26ca27cba894eb4f3d4a4ff826385edccebf850a3"
   }
  }
 },
 "nbformat": 4,
 "nbformat_minor": 2
}
