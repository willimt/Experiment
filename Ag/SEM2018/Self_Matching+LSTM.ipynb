{
 "cells": [
  {
   "cell_type": "code",
   "execution_count": 1,
   "metadata": {},
   "outputs": [
    {
     "name": "stdout",
     "output_type": "stream",
     "text": [
      "cuda:0\n"
     ]
    }
   ],
   "source": [
    "import sys\n",
    "sys.path.append(\"D:/Experiment\")\n",
    "from MyKu import processing\n",
    "from MyKu import training\n",
    "from MyKu import MHeadAttention\n",
    "import pandas as pd\n",
    "from tqdm import tqdm\n",
    "import pandas as pd\n",
    "import torchtext\n",
    "from torchtext.vocab import Vectors\n",
    "from torchtext.legacy import data\n",
    "import torch\n",
    "from torch import nn\n",
    "import torch.nn.functional as F\n",
    "from d2l import torch as d2l\n",
    "from torch.autograd import Variable\n",
    "from spacy.lang.en import English\n",
    "from sklearn import metrics\n",
    "\n",
    "DEVICE = torch.device(\"cuda:0\" if torch.cuda.is_available() else \"cpu\")\n",
    "print(DEVICE)\n",
    "\n",
    "\n"
   ]
  },
  {
   "cell_type": "code",
   "execution_count": 2,
   "metadata": {},
   "outputs": [],
   "source": [
    "processing.create_Sem2018()"
   ]
  },
  {
   "cell_type": "code",
   "execution_count": 3,
   "metadata": {},
   "outputs": [],
   "source": [
    "def tokenizer(text):  # create a tokenizer function\n",
    "    \"\"\"\n",
    "    定义分词操作\n",
    "    \"\"\"\n",
    "    return processing.Pre_processing_tweets().tokenize_process(text)\n",
    "\n",
    "\n",
    "def DataLoader():\n",
    "\n",
    "    TEXT = data.Field(sequential=True, tokenize=tokenizer,\n",
    "                      lower=True, include_lengths=True, fix_length=20)\n",
    "    LABEL = data.Field(sequential=False, use_vocab=False)\n",
    "    # 假如train.csv文件并不是只有两列，比如1、3列是review和polarity，2列是我们不需要的数据，\n",
    "    # 那么就要添加一个全是None的元组， fields列表存储的Field的顺序必须和csv文件中每一列的顺序对应，\n",
    "\n",
    "    train_fields = [(None, None), ('label', LABEL),  ('tweet', TEXT)]\n",
    "    # train_fields = [(None, None), (None, None), (None, None), (None, None), ('text', TEXT), ('task1', LABEL)]\n",
    "    train_data = data.TabularDataset(\n",
    "        path='D:/Experiment/datasets/SEM2018/train.tsv',\n",
    "        # path='D:/Experiment/datasets/EXIST2021/train.tsv',\n",
    "        format='tsv',\n",
    "        fields=train_fields,\n",
    "        skip_header=True  # 是否跳过文件的第一行\n",
    "    )\n",
    "    test_fields = [(None, None), ('label', LABEL),  ('tweet', TEXT)]\n",
    "    # test_fields = [(None, None), (None, None), (None, None), (None, None), ('text', TEXT), ('task1', LABEL)]\n",
    "    test_data = data.TabularDataset(\n",
    "        path='D:/Experiment/datasets/SEM2018/test.tsv',\n",
    "        # path='D:/Experiment/datasets/EXIST2021/test.tsv',\n",
    "        format='tsv',\n",
    "        fields=test_fields,\n",
    "        skip_header=True  # 是否跳过文件的第一行\n",
    "    )\n",
    "    return train_data, test_data, TEXT, LABEL\n"
   ]
  },
  {
   "cell_type": "code",
   "execution_count": 4,
   "metadata": {},
   "outputs": [],
   "source": [
    "train_data, test_data, TEXT, LABEL = DataLoader()\n",
    "\n",
    "vectors = Vectors(name='glove.6B.300d.txt', cache=processing.EMBEDDING_PATH)\n",
    "\n",
    "TEXT.build_vocab(train_data,  # 建词表是用训练集建，不要用验证集和测试集\n",
    "                  max_size=400000, # 单词表容量\n",
    "                  vectors=vectors, # 还有'glove.840B.300d'已经很多可以选\n",
    "                  unk_init=torch.Tensor.normal_ # 初始化train_data中不存在预训练词向量词表中的单词\n",
    ")"
   ]
  },
  {
   "cell_type": "code",
   "execution_count": 5,
   "metadata": {},
   "outputs": [],
   "source": [
    "train_data, test_data, TEXT, LABEL = DataLoader()\n",
    "\n",
    "vectors = Vectors(name='glove.6B.300d.txt', cache=processing.EMBEDDING_PATH)\n",
    "\n",
    "TEXT.build_vocab(train_data,  # 建词表是用训练集建，不要用验证集和测试集\n",
    "                  max_size=400000, # 单词表容量\n",
    "                  vectors=vectors, # 还有'glove.840B.300d'已经很多可以选\n",
    "                  unk_init=torch.Tensor.normal_ # 初始化train_data中不存在预训练词向量词表中的单词\n",
    ")"
   ]
  },
  {
   "cell_type": "code",
   "execution_count": 6,
   "metadata": {},
   "outputs": [],
   "source": [
    "\n",
    "class Model(nn.Module):\n",
    "    def __init__(self,vocab_size, embed_size, num_hiddens, output_dim, max_length, num_layers, dropout, **kwargs):\n",
    "        super(Model, self).__init__()\n",
    "        self.embedding = nn.Embedding(vocab_size, embed_size)\n",
    "        self.LSTM = nn.LSTM(embed_size, num_hiddens, num_layers=num_layers, bidirectional=True, dropout=dropout, batch_first=True)\n",
    "        self.n_class = output_dim\n",
    "        self.decoder1 = nn.Linear(num_hiddens * 4, max_length)\n",
    "        self.decoder2 = nn.Linear(num_hiddens, self.n_class)\n",
    "        self.weight_W = nn.Parameter(torch.Tensor(embed_size, embed_size))\n",
    "        self.weight_proj = nn.Parameter(torch.Tensor(embed_size, max_length))\n",
    "        self.U = nn.Parameter(torch.Tensor(max_length, output_dim))\n",
    "        self.V = nn.Parameter(torch.Tensor(max_length, output_dim))\n",
    "        self.g = nn.Parameter(torch.Tensor(max_length))\n",
    "        self.W_f = nn.Parameter(torch.Tensor(max_length, output_dim))\n",
    "        self.bias = nn.Parameter(torch.Tensor(output_dim))\n",
    "        nn.init.uniform_(self.weight_W, -0.1, 0.1)\n",
    "        nn.init.uniform_(self.weight_proj, -0.1, 0.1)\n",
    "        nn.init.uniform_(self.U, -0.1, 0.1)\n",
    "        nn.init.uniform_(self.V, -0.1, 0.1)\n",
    "        nn.init.uniform_(self.g, -0.1, 0.1)\n",
    "        nn.init.uniform_(self.W_f, -0.1, 0.1)\n",
    "        nn.init.uniform_(self.bias, -0.1, 0.1)\n",
    "    \n",
    "    def forward(self, inputs): #inputs torch.Size([64, 40])\n",
    "        input = self.embedding(inputs.permute(1, 0)) #input torch.Size([64, 40, 300])\n",
    "        w = torch.tanh(torch.matmul(input, self.weight_W))  # w torch.Size([64, 40, 300])\n",
    "        self_matching = torch.matmul(w, self.weight_proj)   # w torch.Size([64, 40, 40])\n",
    "        att_score, idxs = torch.max(self_matching, dim=1)   # att_score torch.Size([64, 40])\n",
    "        self.LSTM.flatten_parameters()\n",
    "        outputs, _ = self.LSTM(input)    #outputs torch.Size([64, 11, 400])\n",
    "        output = torch.cat((outputs[:,0,:], outputs[:,-1,:]), dim=1)    # output torch.Size([64, 800])\n",
    "        output = self.decoder1(output)      # output torch.Size([64, 100])\n",
    "        # outs = self.decoder2(output)\n",
    "        outs = att_score.mul(output) + self.g\n",
    "        # f_a = torch.matmul(att_score, self.U)   # output torch.Size([64, 2])\n",
    "        # f_b = torch.matmul(output, self.V)  # output torch.Size([64, 2])\n",
    "        # f = f_a.mul(f_b) + self.g   # output torch.Size([64, 2])\n",
    "        outs = torch.softmax(torch.matmul(outs, self.W_f) + self.bias, dim=1)\n",
    "        return outs\n"
   ]
  },
  {
   "cell_type": "code",
   "execution_count": 8,
   "metadata": {},
   "outputs": [],
   "source": [
    "def train(model, train_iter, optimizer, loss, epoch):\n",
    "    model.train()\n",
    "    epoch_loss = 0\n",
    "    num_sample = 0\n",
    "    correct = 0\n",
    "    for batch in tqdm(train_iter, desc=f\"Training Epoch {epoch}\", colour='red'):\n",
    "        optimizer.zero_grad()\n",
    "        text, text_len = batch.tweet\n",
    "        label = batch.label\n",
    "        # text, text_len = batch.text\n",
    "        # label = batch.task1\n",
    "        output = model(text)\n",
    "        pred_y = torch.argmax(output, dim=1)\n",
    "        correct += torch.sum(pred_y == label)\n",
    "        l = loss(output, label)\n",
    "        l.backward()\n",
    "        epoch_loss += l.item()\n",
    "        num_sample += len(batch)\n",
    "        optimizer.step()\n",
    "    print(\n",
    "        f'\\tTrain Loss: {epoch_loss / num_sample:.3f} | Train Acc: {correct.float() / num_sample* 100:.2f}%')\n",
    "\n",
    "\n",
    "def test(model, test_iter):\n",
    "    true_y, pred_y = [], []\n",
    "    for batch in tqdm(test_iter, desc=f\"Testing\", colour='green'):\n",
    "        text, text_len = batch.tweet\n",
    "        label = batch.label\n",
    "        # text, text_len = batch.text\n",
    "        # label = batch.task1\n",
    "        with torch.no_grad():\n",
    "            output = model(text)\n",
    "            pred_y.extend(output.argmax(dim=1).tolist())\n",
    "            true_y.extend(label.tolist())\n",
    "    print(metrics.confusion_matrix(true_y, pred_y))\n",
    "    print(metrics.classification_report(true_y, pred_y))\n",
    "    print(f'Acc : {metrics.accuracy_score(true_y, pred_y)}\\t F1: {metrics.f1_score(true_y, pred_y, average=\"macro\")}')\n"
   ]
  },
  {
   "cell_type": "code",
   "execution_count": 12,
   "metadata": {},
   "outputs": [],
   "source": [
    "\n",
    "num_hiddens, output_dim, max_length, num_layers, dropout = 100, 2, 20, 2, 0.3\n",
    "model = Model(len(TEXT.vocab), 300, num_hiddens, output_dim, max_length, num_layers, dropout)\n",
    "model.to(DEVICE)\n",
    "pretrained_embeddings = TEXT.vocab.vectors\n",
    "# print(pretrained_embeddings.shape)\n",
    "model.embedding.weight.data.copy_(pretrained_embeddings)\n",
    "UNK_IDX = TEXT.vocab.stoi[TEXT.unk_token]\n",
    "PAD_IDX = TEXT.vocab.stoi[TEXT.pad_token]\n",
    "\n",
    "model.embedding.weight.data[UNK_IDX] = torch.zeros(300)\n",
    "model.embedding.weight.data[PAD_IDX] = torch.zeros(300)\n",
    "\n",
    "\n",
    "train_iter, test_iter = data.BucketIterator.splits((train_data, test_data), batch_size=64, sort_within_batch=True, sort_key=lambda x: len(x.tweet), device=DEVICE)\n"
   ]
  },
  {
   "cell_type": "code",
   "execution_count": null,
   "metadata": {},
   "outputs": [],
   "source": []
  },
  {
   "cell_type": "code",
   "execution_count": 14,
   "metadata": {},
   "outputs": [
    {
     "name": "stderr",
     "output_type": "stream",
     "text": [
      "Training Epoch 1: 100%|\u001b[31m██████████\u001b[0m| 60/60 [00:00<00:00, 88.34it/s]\n"
     ]
    },
    {
     "name": "stdout",
     "output_type": "stream",
     "text": [
      "\tTrain Loss: 0.006 | Train Acc: 96.33%\n"
     ]
    },
    {
     "name": "stderr",
     "output_type": "stream",
     "text": [
      "Testing: 100%|\u001b[32m██████████\u001b[0m| 13/13 [00:00<00:00, 302.04it/s]\n"
     ]
    },
    {
     "name": "stdout",
     "output_type": "stream",
     "text": [
      "[[297 176]\n",
      " [ 92 219]]\n",
      "              precision    recall  f1-score   support\n",
      "\n",
      "           0       0.76      0.63      0.69       473\n",
      "           1       0.55      0.70      0.62       311\n",
      "\n",
      "    accuracy                           0.66       784\n",
      "   macro avg       0.66      0.67      0.65       784\n",
      "weighted avg       0.68      0.66      0.66       784\n",
      "\n",
      "Acc : 0.6581632653061225\t F1: 0.6547458640883905\n"
     ]
    },
    {
     "name": "stderr",
     "output_type": "stream",
     "text": [
      "Training Epoch 2: 100%|\u001b[31m██████████\u001b[0m| 60/60 [00:00<00:00, 87.90it/s]\n"
     ]
    },
    {
     "name": "stdout",
     "output_type": "stream",
     "text": [
      "\tTrain Loss: 0.006 | Train Acc: 96.75%\n"
     ]
    },
    {
     "name": "stderr",
     "output_type": "stream",
     "text": [
      "Testing: 100%|\u001b[32m██████████\u001b[0m| 13/13 [00:00<00:00, 295.18it/s]\n"
     ]
    },
    {
     "name": "stdout",
     "output_type": "stream",
     "text": [
      "[[347 126]\n",
      " [129 182]]\n",
      "              precision    recall  f1-score   support\n",
      "\n",
      "           0       0.73      0.73      0.73       473\n",
      "           1       0.59      0.59      0.59       311\n",
      "\n",
      "    accuracy                           0.67       784\n",
      "   macro avg       0.66      0.66      0.66       784\n",
      "weighted avg       0.67      0.67      0.67       784\n",
      "\n",
      "Acc : 0.6747448979591837\t F1: 0.6596706677039517\n"
     ]
    },
    {
     "name": "stderr",
     "output_type": "stream",
     "text": [
      "Training Epoch 3: 100%|\u001b[31m██████████\u001b[0m| 60/60 [00:00<00:00, 87.12it/s]\n"
     ]
    },
    {
     "name": "stdout",
     "output_type": "stream",
     "text": [
      "\tTrain Loss: 0.005 | Train Acc: 97.04%\n"
     ]
    },
    {
     "name": "stderr",
     "output_type": "stream",
     "text": [
      "Testing: 100%|\u001b[32m██████████\u001b[0m| 13/13 [00:00<00:00, 300.94it/s]\n"
     ]
    },
    {
     "name": "stdout",
     "output_type": "stream",
     "text": [
      "[[349 124]\n",
      " [128 183]]\n",
      "              precision    recall  f1-score   support\n",
      "\n",
      "           0       0.73      0.74      0.73       473\n",
      "           1       0.60      0.59      0.59       311\n",
      "\n",
      "    accuracy                           0.68       784\n",
      "   macro avg       0.66      0.66      0.66       784\n",
      "weighted avg       0.68      0.68      0.68       784\n",
      "\n",
      "Acc : 0.6785714285714286\t F1: 0.6634849259070006\n"
     ]
    },
    {
     "name": "stderr",
     "output_type": "stream",
     "text": [
      "Training Epoch 4: 100%|\u001b[31m██████████\u001b[0m| 60/60 [00:00<00:00, 88.47it/s]\n"
     ]
    },
    {
     "name": "stdout",
     "output_type": "stream",
     "text": [
      "\tTrain Loss: 0.005 | Train Acc: 97.28%\n"
     ]
    },
    {
     "name": "stderr",
     "output_type": "stream",
     "text": [
      "Testing: 100%|\u001b[32m██████████\u001b[0m| 13/13 [00:00<00:00, 302.05it/s]\n"
     ]
    },
    {
     "name": "stdout",
     "output_type": "stream",
     "text": [
      "[[342 131]\n",
      " [127 184]]\n",
      "              precision    recall  f1-score   support\n",
      "\n",
      "           0       0.73      0.72      0.73       473\n",
      "           1       0.58      0.59      0.59       311\n",
      "\n",
      "    accuracy                           0.67       784\n",
      "   macro avg       0.66      0.66      0.66       784\n",
      "weighted avg       0.67      0.67      0.67       784\n",
      "\n",
      "Acc : 0.6709183673469388\t F1: 0.6569870373008282\n"
     ]
    },
    {
     "name": "stderr",
     "output_type": "stream",
     "text": [
      "Training Epoch 5: 100%|\u001b[31m██████████\u001b[0m| 60/60 [00:00<00:00, 88.98it/s]\n"
     ]
    },
    {
     "name": "stdout",
     "output_type": "stream",
     "text": [
      "\tTrain Loss: 0.005 | Train Acc: 97.30%\n"
     ]
    },
    {
     "name": "stderr",
     "output_type": "stream",
     "text": [
      "Testing: 100%|\u001b[32m██████████\u001b[0m| 13/13 [00:00<00:00, 292.40it/s]\n"
     ]
    },
    {
     "name": "stdout",
     "output_type": "stream",
     "text": [
      "[[301 172]\n",
      " [102 209]]\n",
      "              precision    recall  f1-score   support\n",
      "\n",
      "           0       0.75      0.64      0.69       473\n",
      "           1       0.55      0.67      0.60       311\n",
      "\n",
      "    accuracy                           0.65       784\n",
      "   macro avg       0.65      0.65      0.65       784\n",
      "weighted avg       0.67      0.65      0.65       784\n",
      "\n",
      "Acc : 0.6505102040816326\t F1: 0.6456304273233564\n"
     ]
    },
    {
     "name": "stderr",
     "output_type": "stream",
     "text": [
      "Training Epoch 6: 100%|\u001b[31m██████████\u001b[0m| 60/60 [00:00<00:00, 88.41it/s]\n"
     ]
    },
    {
     "name": "stdout",
     "output_type": "stream",
     "text": [
      "\tTrain Loss: 0.005 | Train Acc: 97.46%\n"
     ]
    },
    {
     "name": "stderr",
     "output_type": "stream",
     "text": [
      "Testing: 100%|\u001b[32m██████████\u001b[0m| 13/13 [00:00<00:00, 309.25it/s]\n"
     ]
    },
    {
     "name": "stdout",
     "output_type": "stream",
     "text": [
      "[[330 143]\n",
      " [124 187]]\n",
      "              precision    recall  f1-score   support\n",
      "\n",
      "           0       0.73      0.70      0.71       473\n",
      "           1       0.57      0.60      0.58       311\n",
      "\n",
      "    accuracy                           0.66       784\n",
      "   macro avg       0.65      0.65      0.65       784\n",
      "weighted avg       0.66      0.66      0.66       784\n",
      "\n",
      "Acc : 0.6594387755102041\t F1: 0.647718724282952\n"
     ]
    },
    {
     "name": "stderr",
     "output_type": "stream",
     "text": [
      "Training Epoch 7: 100%|\u001b[31m██████████\u001b[0m| 60/60 [00:00<00:00, 90.47it/s]\n"
     ]
    },
    {
     "name": "stdout",
     "output_type": "stream",
     "text": [
      "\tTrain Loss: 0.005 | Train Acc: 97.56%\n"
     ]
    },
    {
     "name": "stderr",
     "output_type": "stream",
     "text": [
      "Testing: 100%|\u001b[32m██████████\u001b[0m| 13/13 [00:00<00:00, 302.05it/s]\n"
     ]
    },
    {
     "name": "stdout",
     "output_type": "stream",
     "text": [
      "[[339 134]\n",
      " [131 180]]\n",
      "              precision    recall  f1-score   support\n",
      "\n",
      "           0       0.72      0.72      0.72       473\n",
      "           1       0.57      0.58      0.58       311\n",
      "\n",
      "    accuracy                           0.66       784\n",
      "   macro avg       0.65      0.65      0.65       784\n",
      "weighted avg       0.66      0.66      0.66       784\n",
      "\n",
      "Acc : 0.6619897959183674\t F1: 0.64749098621421\n"
     ]
    },
    {
     "name": "stderr",
     "output_type": "stream",
     "text": [
      "Training Epoch 8: 100%|\u001b[31m██████████\u001b[0m| 60/60 [00:00<00:00, 89.16it/s]\n"
     ]
    },
    {
     "name": "stdout",
     "output_type": "stream",
     "text": [
      "\tTrain Loss: 0.005 | Train Acc: 97.72%\n"
     ]
    },
    {
     "name": "stderr",
     "output_type": "stream",
     "text": [
      "Testing: 100%|\u001b[32m██████████\u001b[0m| 13/13 [00:00<00:00, 316.79it/s]\n"
     ]
    },
    {
     "name": "stdout",
     "output_type": "stream",
     "text": [
      "[[331 142]\n",
      " [124 187]]\n",
      "              precision    recall  f1-score   support\n",
      "\n",
      "           0       0.73      0.70      0.71       473\n",
      "           1       0.57      0.60      0.58       311\n",
      "\n",
      "    accuracy                           0.66       784\n",
      "   macro avg       0.65      0.65      0.65       784\n",
      "weighted avg       0.66      0.66      0.66       784\n",
      "\n",
      "Acc : 0.6607142857142857\t F1: 0.6488685344827586\n"
     ]
    },
    {
     "name": "stderr",
     "output_type": "stream",
     "text": [
      "Training Epoch 9: 100%|\u001b[31m██████████\u001b[0m| 60/60 [00:00<00:00, 91.80it/s]\n"
     ]
    },
    {
     "name": "stdout",
     "output_type": "stream",
     "text": [
      "\tTrain Loss: 0.005 | Train Acc: 97.77%\n"
     ]
    },
    {
     "name": "stderr",
     "output_type": "stream",
     "text": [
      "Testing: 100%|\u001b[32m██████████\u001b[0m| 13/13 [00:00<00:00, 288.63it/s]\n"
     ]
    },
    {
     "name": "stdout",
     "output_type": "stream",
     "text": [
      "[[328 145]\n",
      " [130 181]]\n",
      "              precision    recall  f1-score   support\n",
      "\n",
      "           0       0.72      0.69      0.70       473\n",
      "           1       0.56      0.58      0.57       311\n",
      "\n",
      "    accuracy                           0.65       784\n",
      "   macro avg       0.64      0.64      0.64       784\n",
      "weighted avg       0.65      0.65      0.65       784\n",
      "\n",
      "Acc : 0.6492346938775511\t F1: 0.6364537717921177\n"
     ]
    },
    {
     "name": "stderr",
     "output_type": "stream",
     "text": [
      "Training Epoch 10: 100%|\u001b[31m██████████\u001b[0m| 60/60 [00:00<00:00, 91.56it/s]\n"
     ]
    },
    {
     "name": "stdout",
     "output_type": "stream",
     "text": [
      "\tTrain Loss: 0.005 | Train Acc: 97.93%\n"
     ]
    },
    {
     "name": "stderr",
     "output_type": "stream",
     "text": [
      "Testing: 100%|\u001b[32m██████████\u001b[0m| 13/13 [00:00<00:00, 302.05it/s]\n"
     ]
    },
    {
     "name": "stdout",
     "output_type": "stream",
     "text": [
      "[[338 135]\n",
      " [132 179]]\n",
      "              precision    recall  f1-score   support\n",
      "\n",
      "           0       0.72      0.71      0.72       473\n",
      "           1       0.57      0.58      0.57       311\n",
      "\n",
      "    accuracy                           0.66       784\n",
      "   macro avg       0.64      0.65      0.64       784\n",
      "weighted avg       0.66      0.66      0.66       784\n",
      "\n",
      "Acc : 0.6594387755102041\t F1: 0.6448305408271475\n"
     ]
    },
    {
     "name": "stderr",
     "output_type": "stream",
     "text": [
      "Training Epoch 11: 100%|\u001b[31m██████████\u001b[0m| 60/60 [00:00<00:00, 92.23it/s]\n"
     ]
    },
    {
     "name": "stdout",
     "output_type": "stream",
     "text": [
      "\tTrain Loss: 0.005 | Train Acc: 97.83%\n"
     ]
    },
    {
     "name": "stderr",
     "output_type": "stream",
     "text": [
      "Testing: 100%|\u001b[32m██████████\u001b[0m| 13/13 [00:00<00:00, 316.79it/s]\n"
     ]
    },
    {
     "name": "stdout",
     "output_type": "stream",
     "text": [
      "[[303 170]\n",
      " [ 96 215]]\n",
      "              precision    recall  f1-score   support\n",
      "\n",
      "           0       0.76      0.64      0.69       473\n",
      "           1       0.56      0.69      0.62       311\n",
      "\n",
      "    accuracy                           0.66       784\n",
      "   macro avg       0.66      0.67      0.66       784\n",
      "weighted avg       0.68      0.66      0.66       784\n",
      "\n",
      "Acc : 0.6607142857142857\t F1: 0.6563851101971949\n"
     ]
    },
    {
     "name": "stderr",
     "output_type": "stream",
     "text": [
      "Training Epoch 12: 100%|\u001b[31m██████████\u001b[0m| 60/60 [00:00<00:00, 90.37it/s]\n"
     ]
    },
    {
     "name": "stdout",
     "output_type": "stream",
     "text": [
      "\tTrain Loss: 0.005 | Train Acc: 98.11%\n"
     ]
    },
    {
     "name": "stderr",
     "output_type": "stream",
     "text": [
      "Testing: 100%|\u001b[32m██████████\u001b[0m| 13/13 [00:00<00:00, 309.25it/s]\n"
     ]
    },
    {
     "name": "stdout",
     "output_type": "stream",
     "text": [
      "[[332 141]\n",
      " [129 182]]\n",
      "              precision    recall  f1-score   support\n",
      "\n",
      "           0       0.72      0.70      0.71       473\n",
      "           1       0.56      0.59      0.57       311\n",
      "\n",
      "    accuracy                           0.66       784\n",
      "   macro avg       0.64      0.64      0.64       784\n",
      "weighted avg       0.66      0.66      0.66       784\n",
      "\n",
      "Acc : 0.6556122448979592\t F1: 0.6425266314957545\n"
     ]
    },
    {
     "name": "stderr",
     "output_type": "stream",
     "text": [
      "Training Epoch 13: 100%|\u001b[31m██████████\u001b[0m| 60/60 [00:00<00:00, 91.38it/s]\n"
     ]
    },
    {
     "name": "stdout",
     "output_type": "stream",
     "text": [
      "\tTrain Loss: 0.005 | Train Acc: 98.19%\n"
     ]
    },
    {
     "name": "stderr",
     "output_type": "stream",
     "text": [
      "Testing: 100%|\u001b[32m██████████\u001b[0m| 13/13 [00:00<00:00, 324.71it/s]\n"
     ]
    },
    {
     "name": "stdout",
     "output_type": "stream",
     "text": [
      "[[310 163]\n",
      " [111 200]]\n",
      "              precision    recall  f1-score   support\n",
      "\n",
      "           0       0.74      0.66      0.69       473\n",
      "           1       0.55      0.64      0.59       311\n",
      "\n",
      "    accuracy                           0.65       784\n",
      "   macro avg       0.64      0.65      0.64       784\n",
      "weighted avg       0.66      0.65      0.65       784\n",
      "\n",
      "Acc : 0.6505102040816326\t F1: 0.64349205716979\n"
     ]
    },
    {
     "name": "stderr",
     "output_type": "stream",
     "text": [
      "Training Epoch 14: 100%|\u001b[31m██████████\u001b[0m| 60/60 [00:00<00:00, 90.88it/s]\n"
     ]
    },
    {
     "name": "stdout",
     "output_type": "stream",
     "text": [
      "\tTrain Loss: 0.005 | Train Acc: 98.30%\n"
     ]
    },
    {
     "name": "stderr",
     "output_type": "stream",
     "text": [
      "Testing: 100%|\u001b[32m██████████\u001b[0m| 13/13 [00:00<00:00, 309.25it/s]\n"
     ]
    },
    {
     "name": "stdout",
     "output_type": "stream",
     "text": [
      "[[315 158]\n",
      " [117 194]]\n",
      "              precision    recall  f1-score   support\n",
      "\n",
      "           0       0.73      0.67      0.70       473\n",
      "           1       0.55      0.62      0.59       311\n",
      "\n",
      "    accuracy                           0.65       784\n",
      "   macro avg       0.64      0.64      0.64       784\n",
      "weighted avg       0.66      0.65      0.65       784\n",
      "\n",
      "Acc : 0.6492346938775511\t F1: 0.6406756497754222\n"
     ]
    },
    {
     "name": "stderr",
     "output_type": "stream",
     "text": [
      "Training Epoch 15: 100%|\u001b[31m██████████\u001b[0m| 60/60 [00:00<00:00, 92.86it/s]\n"
     ]
    },
    {
     "name": "stdout",
     "output_type": "stream",
     "text": [
      "\tTrain Loss: 0.005 | Train Acc: 98.32%\n"
     ]
    },
    {
     "name": "stderr",
     "output_type": "stream",
     "text": [
      "Testing: 100%|\u001b[32m██████████\u001b[0m| 13/13 [00:00<00:00, 316.79it/s]\n"
     ]
    },
    {
     "name": "stdout",
     "output_type": "stream",
     "text": [
      "[[310 163]\n",
      " [114 197]]\n",
      "              precision    recall  f1-score   support\n",
      "\n",
      "           0       0.73      0.66      0.69       473\n",
      "           1       0.55      0.63      0.59       311\n",
      "\n",
      "    accuracy                           0.65       784\n",
      "   macro avg       0.64      0.64      0.64       784\n",
      "weighted avg       0.66      0.65      0.65       784\n",
      "\n",
      "Acc : 0.6466836734693877\t F1: 0.6391880868003463\n"
     ]
    },
    {
     "name": "stderr",
     "output_type": "stream",
     "text": [
      "Training Epoch 16: 100%|\u001b[31m██████████\u001b[0m| 60/60 [00:00<00:00, 90.32it/s]\n"
     ]
    },
    {
     "name": "stdout",
     "output_type": "stream",
     "text": [
      "\tTrain Loss: 0.005 | Train Acc: 98.32%\n"
     ]
    },
    {
     "name": "stderr",
     "output_type": "stream",
     "text": [
      "Testing: 100%|\u001b[32m██████████\u001b[0m| 13/13 [00:00<00:00, 309.24it/s]\n"
     ]
    },
    {
     "name": "stdout",
     "output_type": "stream",
     "text": [
      "[[308 165]\n",
      " [109 202]]\n",
      "              precision    recall  f1-score   support\n",
      "\n",
      "           0       0.74      0.65      0.69       473\n",
      "           1       0.55      0.65      0.60       311\n",
      "\n",
      "    accuracy                           0.65       784\n",
      "   macro avg       0.64      0.65      0.64       784\n",
      "weighted avg       0.66      0.65      0.65       784\n",
      "\n",
      "Acc : 0.6505102040816326\t F1: 0.6440025189751748\n"
     ]
    },
    {
     "name": "stderr",
     "output_type": "stream",
     "text": [
      "Training Epoch 17: 100%|\u001b[31m██████████\u001b[0m| 60/60 [00:00<00:00, 81.61it/s]\n"
     ]
    },
    {
     "name": "stdout",
     "output_type": "stream",
     "text": [
      "\tTrain Loss: 0.005 | Train Acc: 98.30%\n"
     ]
    },
    {
     "name": "stderr",
     "output_type": "stream",
     "text": [
      "Testing: 100%|\u001b[32m██████████\u001b[0m| 13/13 [00:00<00:00, 302.06it/s]\n"
     ]
    },
    {
     "name": "stdout",
     "output_type": "stream",
     "text": [
      "[[314 159]\n",
      " [114 197]]\n",
      "              precision    recall  f1-score   support\n",
      "\n",
      "           0       0.73      0.66      0.70       473\n",
      "           1       0.55      0.63      0.59       311\n",
      "\n",
      "    accuracy                           0.65       784\n",
      "   macro avg       0.64      0.65      0.64       784\n",
      "weighted avg       0.66      0.65      0.65       784\n",
      "\n",
      "Acc : 0.6517857142857143\t F1: 0.643853988654951\n"
     ]
    },
    {
     "name": "stderr",
     "output_type": "stream",
     "text": [
      "Training Epoch 18: 100%|\u001b[31m██████████\u001b[0m| 60/60 [00:00<00:00, 81.60it/s]\n"
     ]
    },
    {
     "name": "stdout",
     "output_type": "stream",
     "text": [
      "\tTrain Loss: 0.005 | Train Acc: 98.32%\n"
     ]
    },
    {
     "name": "stderr",
     "output_type": "stream",
     "text": [
      "Testing: 100%|\u001b[32m██████████\u001b[0m| 13/13 [00:00<00:00, 288.63it/s]\n"
     ]
    },
    {
     "name": "stdout",
     "output_type": "stream",
     "text": [
      "[[318 155]\n",
      " [122 189]]\n",
      "              precision    recall  f1-score   support\n",
      "\n",
      "           0       0.72      0.67      0.70       473\n",
      "           1       0.55      0.61      0.58       311\n",
      "\n",
      "    accuracy                           0.65       784\n",
      "   macro avg       0.64      0.64      0.64       784\n",
      "weighted avg       0.65      0.65      0.65       784\n",
      "\n",
      "Acc : 0.6466836734693877\t F1: 0.6368519184301398\n"
     ]
    },
    {
     "name": "stderr",
     "output_type": "stream",
     "text": [
      "Training Epoch 19: 100%|\u001b[31m██████████\u001b[0m| 60/60 [00:00<00:00, 81.60it/s]\n"
     ]
    },
    {
     "name": "stdout",
     "output_type": "stream",
     "text": [
      "\tTrain Loss: 0.005 | Train Acc: 98.38%\n"
     ]
    },
    {
     "name": "stderr",
     "output_type": "stream",
     "text": [
      "Testing: 100%|\u001b[32m██████████\u001b[0m| 13/13 [00:00<00:00, 282.36it/s]\n"
     ]
    },
    {
     "name": "stdout",
     "output_type": "stream",
     "text": [
      "[[321 152]\n",
      " [124 187]]\n",
      "              precision    recall  f1-score   support\n",
      "\n",
      "           0       0.72      0.68      0.70       473\n",
      "           1       0.55      0.60      0.58       311\n",
      "\n",
      "    accuracy                           0.65       784\n",
      "   macro avg       0.64      0.64      0.64       784\n",
      "weighted avg       0.65      0.65      0.65       784\n",
      "\n",
      "Acc : 0.6479591836734694\t F1: 0.6373655103066869\n"
     ]
    },
    {
     "name": "stderr",
     "output_type": "stream",
     "text": [
      "Training Epoch 20: 100%|\u001b[31m██████████\u001b[0m| 60/60 [00:00<00:00, 81.27it/s]\n"
     ]
    },
    {
     "name": "stdout",
     "output_type": "stream",
     "text": [
      "\tTrain Loss: 0.005 | Train Acc: 98.38%\n"
     ]
    },
    {
     "name": "stderr",
     "output_type": "stream",
     "text": [
      "Testing: 100%|\u001b[32m██████████\u001b[0m| 13/13 [00:00<00:00, 302.05it/s]"
     ]
    },
    {
     "name": "stdout",
     "output_type": "stream",
     "text": [
      "[[321 152]\n",
      " [128 183]]\n",
      "              precision    recall  f1-score   support\n",
      "\n",
      "           0       0.71      0.68      0.70       473\n",
      "           1       0.55      0.59      0.57       311\n",
      "\n",
      "    accuracy                           0.64       784\n",
      "   macro avg       0.63      0.63      0.63       784\n",
      "weighted avg       0.65      0.64      0.64       784\n",
      "\n",
      "Acc : 0.6428571428571429\t F1: 0.6314379159587113\n"
     ]
    },
    {
     "name": "stderr",
     "output_type": "stream",
     "text": [
      "\n"
     ]
    }
   ],
   "source": [
    "lr, num_epochs = 0.0001, 20\n",
    "\n",
    "optimizer = torch.optim.Adam(model.parameters(), lr=lr)\n",
    "loss = nn.CrossEntropyLoss()\n",
    "for epoch in range(1, num_epochs+1):\n",
    "    train(model, train_iter, optimizer, loss, epoch)\n",
    "    test(model, test_iter)\n"
   ]
  }
 ],
 "metadata": {
  "kernelspec": {
   "display_name": "Python 3.8.13 ('pytorch_env')",
   "language": "python",
   "name": "python3"
  },
  "language_info": {
   "codemirror_mode": {
    "name": "ipython",
    "version": 3
   },
   "file_extension": ".py",
   "mimetype": "text/x-python",
   "name": "python",
   "nbconvert_exporter": "python",
   "pygments_lexer": "ipython3",
   "version": "3.8.13"
  },
  "orig_nbformat": 4,
  "vscode": {
   "interpreter": {
    "hash": "4bbee185f428494c0f3f4eb26ca27cba894eb4f3d4a4ff826385edccebf850a3"
   }
  }
 },
 "nbformat": 4,
 "nbformat_minor": 2
}
