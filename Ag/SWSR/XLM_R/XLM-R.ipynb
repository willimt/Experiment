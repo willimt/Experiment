{
 "cells": [
  {
   "cell_type": "code",
   "execution_count": 1,
   "metadata": {},
   "outputs": [],
   "source": [
    "from sklearn.model_selection import train_test_split\n",
    "import sys\n",
    "sys.path.append(\"D:/Experiment\")\n",
    "from MyKu import MyXLM_Base\n",
    "from MyKu import processing\n",
    "import torch\n",
    "from sklearn import metrics\n",
    "import time\n",
    "import os\n",
    "from tqdm import tqdm\n",
    "from torch.optim import Adam\n",
    "from torch import nn\n",
    "import numpy as np\n",
    "import pandas as pd"
   ]
  },
  {
   "cell_type": "code",
   "execution_count": 2,
   "metadata": {},
   "outputs": [],
   "source": [
    "data = processing.load_swsr()"
   ]
  },
  {
   "cell_type": "code",
   "execution_count": 3,
   "metadata": {},
   "outputs": [],
   "source": [
    "train, test = train_test_split(data, test_size=0.2, random_state=42)"
   ]
  },
  {
   "cell_type": "code",
   "execution_count": 4,
   "metadata": {},
   "outputs": [],
   "source": [
    "# 训练准备阶段，设置超参数和全局变量\n",
    "\n",
    "batch_size = 8\n",
    "num_epoch = 10  # 训练轮次\n",
    "check_step = 1  # 用以训练中途对模型进行检验：每check_step个epoch进行一次测试和保存模型\n",
    "\n",
    "learning_rate = 1e-5  # 优化器的学习率\n",
    "\n",
    "# 获取训练、测试数据、分类类别总数\n",
    "en_train_data, en_test_data, de_train_data, de_test_data, hi_train_data, hi_test_data = processing.load_hasoc2020()\n",
    "categories = 2\n",
    "\n",
    "train_iter, test_iter = MyXLM_Base.load_xlm_data(\n",
    "    train, test, batch_size)\n",
    "#固定写法，可以牢记，cuda代表Gpu\n",
    "# torch.cuda.is_available()可以查看当前Gpu是否可用\n",
    "device = torch.device(\"cuda\" if torch.cuda.is_available() else \"cpu\")\n",
    "\n",
    "# 加载预训练模型，因为这里是英文数据集，需要用在英文上的预训练模型：bert-base-uncased\n",
    "# uncased指该预训练模型对应的词表不区分字母的大小写\n",
    "# 详情可了解：https://huggingface.co/bert-base-uncased\n",
    "pretrained_model_name = 'xlm-roberta-base'\n",
    "# 创建模型 BertSST2Model\n",
    "model = MyXLM_Base.MyXlmModel(categories, pretrained_model_name)\n",
    "# 固定写法，将模型加载到device上，\n",
    "# 如果是GPU上运行，此时可以观察到GPU的显存增加\n",
    "model.to(device)\n",
    "\n",
    "# 训练过程\n",
    "# Adam是最近较为常用的优化器，详情可查看：https://www.jianshu.com/p/aebcaf8af76e\n",
    "optimizer = Adam(model.parameters(), learning_rate)  # 使用Adam优化器\n",
    "loss = nn.CrossEntropyLoss()  # 使用crossentropy作为二分类任务的损失函数\n",
    "\n",
    "# 记录当前训练时间，用以记录日志和存储\n",
    "timestamp = time.strftime(\"%m_%d_%H_%M\", time.localtime())\n"
   ]
  },
  {
   "cell_type": "code",
   "execution_count": 5,
   "metadata": {},
   "outputs": [
    {
     "name": "stderr",
     "output_type": "stream",
     "text": [
      "Training Epoch 1: 100%|\u001b[31m██████████\u001b[0m| 897/897 [04:14<00:00,  3.52it/s]\n",
      "Testing: 100%|\u001b[32m██████████\u001b[0m| 1794/1794 [00:20<00:00, 88.92it/s]\n"
     ]
    },
    {
     "name": "stdout",
     "output_type": "stream",
     "text": [
      "[[1019  147]\n",
      " [ 214  414]]\n",
      "              precision    recall  f1-score   support\n",
      "\n",
      "           0       0.83      0.87      0.85      1166\n",
      "           1       0.74      0.66      0.70       628\n",
      "\n",
      "    accuracy                           0.80      1794\n",
      "   macro avg       0.78      0.77      0.77      1794\n",
      "weighted avg       0.80      0.80      0.80      1794\n",
      "\n",
      "Acc : 0.7987736900780379\t F1: 0.7729520745783128\n",
      "\n",
      "\n",
      "\n"
     ]
    },
    {
     "name": "stderr",
     "output_type": "stream",
     "text": [
      "Training Epoch 2: 100%|\u001b[31m██████████\u001b[0m| 897/897 [04:13<00:00,  3.54it/s]\n",
      "Testing: 100%|\u001b[32m██████████\u001b[0m| 1794/1794 [00:20<00:00, 88.54it/s] \n"
     ]
    },
    {
     "name": "stdout",
     "output_type": "stream",
     "text": [
      "[[960 206]\n",
      " [123 505]]\n",
      "              precision    recall  f1-score   support\n",
      "\n",
      "           0       0.89      0.82      0.85      1166\n",
      "           1       0.71      0.80      0.75       628\n",
      "\n",
      "    accuracy                           0.82      1794\n",
      "   macro avg       0.80      0.81      0.80      1794\n",
      "weighted avg       0.82      0.82      0.82      1794\n",
      "\n",
      "Acc : 0.8166109253065775\t F1: 0.8040035053335461\n",
      "\n",
      "\n",
      "\n"
     ]
    },
    {
     "name": "stderr",
     "output_type": "stream",
     "text": [
      "Training Epoch 3: 100%|\u001b[31m██████████\u001b[0m| 897/897 [04:15<00:00,  3.51it/s]\n",
      "Testing: 100%|\u001b[32m██████████\u001b[0m| 1794/1794 [00:20<00:00, 87.88it/s]\n"
     ]
    },
    {
     "name": "stdout",
     "output_type": "stream",
     "text": [
      "[[1051  115]\n",
      " [ 238  390]]\n",
      "              precision    recall  f1-score   support\n",
      "\n",
      "           0       0.82      0.90      0.86      1166\n",
      "           1       0.77      0.62      0.69       628\n",
      "\n",
      "    accuracy                           0.80      1794\n",
      "   macro avg       0.79      0.76      0.77      1794\n",
      "weighted avg       0.80      0.80      0.80      1794\n",
      "\n",
      "Acc : 0.8032329988851727\t F1: 0.7723247942218538\n",
      "\n",
      "\n",
      "\n"
     ]
    },
    {
     "name": "stderr",
     "output_type": "stream",
     "text": [
      "Training Epoch 4: 100%|\u001b[31m██████████\u001b[0m| 897/897 [04:18<00:00,  3.47it/s]\n",
      "Testing: 100%|\u001b[32m██████████\u001b[0m| 1794/1794 [00:20<00:00, 87.79it/s]\n"
     ]
    },
    {
     "name": "stdout",
     "output_type": "stream",
     "text": [
      "[[1017  149]\n",
      " [ 195  433]]\n",
      "              precision    recall  f1-score   support\n",
      "\n",
      "           0       0.84      0.87      0.86      1166\n",
      "           1       0.74      0.69      0.72       628\n",
      "\n",
      "    accuracy                           0.81      1794\n",
      "   macro avg       0.79      0.78      0.79      1794\n",
      "weighted avg       0.81      0.81      0.81      1794\n",
      "\n",
      "Acc : 0.8082497212931996\t F1: 0.785521550855292\n",
      "\n",
      "\n",
      "\n"
     ]
    },
    {
     "name": "stderr",
     "output_type": "stream",
     "text": [
      "Training Epoch 5: 100%|\u001b[31m██████████\u001b[0m| 897/897 [04:27<00:00,  3.35it/s]\n",
      "Testing: 100%|\u001b[32m██████████\u001b[0m| 1794/1794 [00:20<00:00, 87.03it/s]\n"
     ]
    },
    {
     "name": "stdout",
     "output_type": "stream",
     "text": [
      "[[1003  163]\n",
      " [ 193  435]]\n",
      "              precision    recall  f1-score   support\n",
      "\n",
      "           0       0.84      0.86      0.85      1166\n",
      "           1       0.73      0.69      0.71       628\n",
      "\n",
      "    accuracy                           0.80      1794\n",
      "   macro avg       0.78      0.78      0.78      1794\n",
      "weighted avg       0.80      0.80      0.80      1794\n",
      "\n",
      "Acc : 0.8015607580824972\t F1: 0.7794525335208224\n",
      "\n",
      "\n",
      "\n"
     ]
    },
    {
     "name": "stderr",
     "output_type": "stream",
     "text": [
      "Training Epoch 6: 100%|\u001b[31m██████████\u001b[0m| 897/897 [04:27<00:00,  3.35it/s]\n",
      "Testing: 100%|\u001b[32m██████████\u001b[0m| 1794/1794 [00:20<00:00, 86.79it/s]\n"
     ]
    },
    {
     "name": "stdout",
     "output_type": "stream",
     "text": [
      "[[926 240]\n",
      " [124 504]]\n",
      "              precision    recall  f1-score   support\n",
      "\n",
      "           0       0.88      0.79      0.84      1166\n",
      "           1       0.68      0.80      0.73       628\n",
      "\n",
      "    accuracy                           0.80      1794\n",
      "   macro avg       0.78      0.80      0.79      1794\n",
      "weighted avg       0.81      0.80      0.80      1794\n",
      "\n",
      "Acc : 0.7971014492753623\t F1: 0.7852169748765931\n",
      "\n",
      "\n",
      "\n"
     ]
    },
    {
     "name": "stderr",
     "output_type": "stream",
     "text": [
      "Training Epoch 7: 100%|\u001b[31m██████████\u001b[0m| 897/897 [04:27<00:00,  3.36it/s]\n",
      "Testing: 100%|\u001b[32m██████████\u001b[0m| 1794/1794 [00:20<00:00, 87.75it/s] \n"
     ]
    },
    {
     "name": "stdout",
     "output_type": "stream",
     "text": [
      "[[912 254]\n",
      " [137 491]]\n",
      "              precision    recall  f1-score   support\n",
      "\n",
      "           0       0.87      0.78      0.82      1166\n",
      "           1       0.66      0.78      0.72       628\n",
      "\n",
      "    accuracy                           0.78      1794\n",
      "   macro avg       0.76      0.78      0.77      1794\n",
      "weighted avg       0.80      0.78      0.79      1794\n",
      "\n",
      "Acc : 0.782051282051282\t F1: 0.7693492196324142\n",
      "\n",
      "\n",
      "\n"
     ]
    },
    {
     "name": "stderr",
     "output_type": "stream",
     "text": [
      "Training Epoch 8: 100%|\u001b[31m██████████\u001b[0m| 897/897 [04:27<00:00,  3.36it/s]\n",
      "Testing: 100%|\u001b[32m██████████\u001b[0m| 1794/1794 [00:27<00:00, 65.24it/s]\n"
     ]
    },
    {
     "name": "stdout",
     "output_type": "stream",
     "text": [
      "[[935 231]\n",
      " [147 481]]\n",
      "              precision    recall  f1-score   support\n",
      "\n",
      "           0       0.86      0.80      0.83      1166\n",
      "           1       0.68      0.77      0.72       628\n",
      "\n",
      "    accuracy                           0.79      1794\n",
      "   macro avg       0.77      0.78      0.77      1794\n",
      "weighted avg       0.80      0.79      0.79      1794\n",
      "\n",
      "Acc : 0.7892976588628763\t F1: 0.7748804907845117\n",
      "\n",
      "\n",
      "\n"
     ]
    },
    {
     "name": "stderr",
     "output_type": "stream",
     "text": [
      "Training Epoch 9: 100%|\u001b[31m██████████\u001b[0m| 897/897 [05:17<00:00,  2.82it/s]\n",
      "Testing: 100%|\u001b[32m██████████\u001b[0m| 1794/1794 [00:22<00:00, 80.74it/s]\n"
     ]
    },
    {
     "name": "stdout",
     "output_type": "stream",
     "text": [
      "[[1084   82]\n",
      " [ 325  303]]\n",
      "              precision    recall  f1-score   support\n",
      "\n",
      "           0       0.77      0.93      0.84      1166\n",
      "           1       0.79      0.48      0.60       628\n",
      "\n",
      "    accuracy                           0.77      1794\n",
      "   macro avg       0.78      0.71      0.72      1794\n",
      "weighted avg       0.78      0.77      0.76      1794\n",
      "\n",
      "Acc : 0.7731326644370122\t F1: 0.7200824236383327\n",
      "\n",
      "\n",
      "\n"
     ]
    },
    {
     "name": "stderr",
     "output_type": "stream",
     "text": [
      "Training Epoch 10: 100%|\u001b[31m██████████\u001b[0m| 897/897 [05:18<00:00,  2.82it/s]\n",
      "Testing: 100%|\u001b[32m██████████\u001b[0m| 1794/1794 [00:22<00:00, 80.51it/s]"
     ]
    },
    {
     "name": "stdout",
     "output_type": "stream",
     "text": [
      "[[881 285]\n",
      " [131 497]]\n",
      "              precision    recall  f1-score   support\n",
      "\n",
      "           0       0.87      0.76      0.81      1166\n",
      "           1       0.64      0.79      0.70       628\n",
      "\n",
      "    accuracy                           0.77      1794\n",
      "   macro avg       0.75      0.77      0.76      1794\n",
      "weighted avg       0.79      0.77      0.77      1794\n",
      "\n",
      "Acc : 0.7681159420289855\t F1: 0.7569818103667232\n",
      "\n",
      "\n",
      "\n",
      "best en_acc_socre : 0.99, best de_acc_score : 0.99, best hi_acc_score : 0.73\n"
     ]
    },
    {
     "name": "stderr",
     "output_type": "stream",
     "text": [
      "\n"
     ]
    }
   ],
   "source": [
    "# TaskA\n",
    "\n",
    "file_name = 'readme.md'\n",
    "model_save_path = 'D:/Experiment_models_save/twitter-xlm-roberta-base-sentiment/hasoc2020/'\n",
    "name = 'taskA.pth'\n",
    "en_temp_best = 0.99\n",
    "de_temp_best = 0.99\n",
    "hi_temp_best = 0.73\n",
    "for epoch in range(1, num_epoch + 1):\n",
    "    MyXLM_Base.train(model, train_iter, device, optimizer, loss, epoch)\n",
    "    # MyXLM_Base.train(model, de_train_iter, device, optimizer, loss, epoch)\n",
    "    # MyXLM_Base.train(model, hi_train_iter, device, optimizer, loss, epoch)\n",
    "    en_acc_score = MyXLM_Base.test(\n",
    "        model, test_iter, device, epoch, file_name)\n",
    "    # de_acc_score = MyXLM_Base.test(model, de_test_iter, device, epoch, file_name)\n",
    "    # hi_acc_score = MyXLM_Base.test(model, hi_test_iter, device, epoch, file_name)\n",
    "    print('\\n\\n')\n",
    "    # if en_acc_score > en_temp_best and de_acc_score > de_temp_best and hi_acc_score > hi_temp_best:\n",
    "    #     en_temp_best, de_temp_best, hi_temp_best = en_acc_score, de_acc_score, hi_acc_score\n",
    "    #     MyXLM_Base.save_pretrained(model, model_save_path, name)\n",
    "    #     print(f'best en_acc_socre : {en_acc_score}, best de_acc_score : {de_acc_score}, best hi_acc_score : {hi_acc_score}')\n",
    "print(\n",
    "    f'best en_acc_socre : {en_temp_best}, best de_acc_score : {de_temp_best}, best hi_acc_score : {hi_temp_best}')\n"
   ]
  }
 ],
 "metadata": {
  "kernelspec": {
   "display_name": "Python 3.8.13 ('pytorch_env')",
   "language": "python",
   "name": "python3"
  },
  "language_info": {
   "codemirror_mode": {
    "name": "ipython",
    "version": 3
   },
   "file_extension": ".py",
   "mimetype": "text/x-python",
   "name": "python",
   "nbconvert_exporter": "python",
   "pygments_lexer": "ipython3",
   "version": "3.8.13"
  },
  "orig_nbformat": 4,
  "vscode": {
   "interpreter": {
    "hash": "4bbee185f428494c0f3f4eb26ca27cba894eb4f3d4a4ff826385edccebf850a3"
   }
  }
 },
 "nbformat": 4,
 "nbformat_minor": 2
}
