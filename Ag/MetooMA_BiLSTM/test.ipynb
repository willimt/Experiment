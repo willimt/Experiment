{
 "cells": [
  {
   "cell_type": "code",
   "execution_count": 1,
   "metadata": {},
   "outputs": [],
   "source": [
    "import torch\n",
    "import math\n",
    "from d2l import torch as d2l\n",
    "from torch import nn\n",
    "import pandas as pd\n",
    "from MyKu import processing\n",
    "from MyKu import training"
   ]
  },
  {
   "cell_type": "code",
   "execution_count": 2,
   "metadata": {},
   "outputs": [],
   "source": [
    "glove_embedding = processing.TokenEmbedding('glove.42b.300d')"
   ]
  },
  {
   "cell_type": "code",
   "execution_count": 3,
   "metadata": {},
   "outputs": [],
   "source": [
    "class BiRNN(nn.Module):\n",
    "    def __init__(self, vocab_size, embed_size, num_hiddens, num_layers, **kwargs):\n",
    "        super(BiRNN, self).__init__(**kwargs)\n",
    "        self.embedding = nn.Embedding(vocab_size, embed_size)\n",
    "        self.encoder = nn.LSTM(\n",
    "            embed_size, num_hiddens, num_layers=num_layers, bidirectional=True, dropout=0.5)\n",
    "        self.decoder = nn.Linear(num_hiddens * 4, 2)\n",
    "\n",
    "    def forward(self, inputs):\n",
    "        embeddings = self.embedding(inputs.T)\n",
    "        self.encoder.flatten_parameters()\n",
    "        outputs, _ = self.encoder(embeddings)\n",
    "        encoding = torch.cat((outputs[0], outputs[-1]), dim=1)\n",
    "        outs = self.decoder(encoding)\n",
    "        return outs\n"
   ]
  },
  {
   "cell_type": "code",
   "execution_count": 4,
   "metadata": {},
   "outputs": [
    {
     "ename": "ValueError",
     "evalue": "too many values to unpack (expected 2)",
     "output_type": "error",
     "traceback": [
      "\u001b[1;31m---------------------------------------------------------------------------\u001b[0m",
      "\u001b[1;31mValueError\u001b[0m                                Traceback (most recent call last)",
      "\u001b[1;32mc:\\Users\\Administrator\\Documents\\Experiment\\MetooMA_BiLSTM\\test.ipynb Cell 4'\u001b[0m in \u001b[0;36m<cell line: 2>\u001b[1;34m()\u001b[0m\n\u001b[0;32m      <a href='vscode-notebook-cell:/c%3A/Users/Administrator/Documents/Experiment/MetooMA_BiLSTM/test.ipynb#ch0000003?line=0'>1</a>\u001b[0m batch_size \u001b[39m=\u001b[39m \u001b[39m32\u001b[39m\n\u001b[1;32m----> <a href='vscode-notebook-cell:/c%3A/Users/Administrator/Documents/Experiment/MetooMA_BiLSTM/test.ipynb#ch0000003?line=1'>2</a>\u001b[0m train_iter, test_iter, vocab \u001b[39m=\u001b[39m processing\u001b[39m.\u001b[39;49mload_exist2021_data(batch_size)\n\u001b[0;32m      <a href='vscode-notebook-cell:/c%3A/Users/Administrator/Documents/Experiment/MetooMA_BiLSTM/test.ipynb#ch0000003?line=2'>3</a>\u001b[0m embed_size, num_hiddens, num_layers \u001b[39m=\u001b[39m \u001b[39m300\u001b[39m, \u001b[39m200\u001b[39m, \u001b[39m5\u001b[39m\n\u001b[0;32m      <a href='vscode-notebook-cell:/c%3A/Users/Administrator/Documents/Experiment/MetooMA_BiLSTM/test.ipynb#ch0000003?line=4'>5</a>\u001b[0m devices \u001b[39m=\u001b[39m d2l\u001b[39m.\u001b[39mtry_all_gpus()\n",
      "File \u001b[1;32md:\\Software\\anaconda3\\envs\\pytorch_env\\lib\\MyKu\\processing.py:249\u001b[0m, in \u001b[0;36mload_exist2021_data\u001b[1;34m(batch_size, num_steps)\u001b[0m\n\u001b[0;32m    247\u001b[0m train_data \u001b[39m=\u001b[39m get_exist2021_data(\u001b[39mtype\u001b[39m\u001b[39m=\u001b[39m\u001b[39m'\u001b[39m\u001b[39mtrain\u001b[39m\u001b[39m'\u001b[39m, \u001b[39mlen\u001b[39m\u001b[39m=\u001b[39m\u001b[39m3437\u001b[39m)\n\u001b[0;32m    248\u001b[0m test_data \u001b[39m=\u001b[39m get_exist2021_data(\u001b[39mtype\u001b[39m\u001b[39m=\u001b[39m\u001b[39m'\u001b[39m\u001b[39mtest\u001b[39m\u001b[39m'\u001b[39m, \u001b[39mlen\u001b[39m\u001b[39m=\u001b[39m\u001b[39m1000\u001b[39m)\n\u001b[1;32m--> 249\u001b[0m train_tokens \u001b[39m=\u001b[39m Pre_processing_tweets()\u001b[39m.\u001b[39;49mtokenize_process(train_data[\u001b[39m0\u001b[39;49m])\n\u001b[0;32m    250\u001b[0m test_tokens \u001b[39m=\u001b[39m Pre_processing_tweets()\u001b[39m.\u001b[39mtokenize_process(test_data[\u001b[39m0\u001b[39m])\n\u001b[0;32m    251\u001b[0m vocab \u001b[39m=\u001b[39m Vocab(train_tokens, min_freq\u001b[39m=\u001b[39m\u001b[39m5\u001b[39m)\n",
      "File \u001b[1;32md:\\Software\\anaconda3\\envs\\pytorch_env\\lib\\MyKu\\processing.py:120\u001b[0m, in \u001b[0;36mPre_processing_tweets.tokenize_process\u001b[1;34m(self, texts)\u001b[0m\n\u001b[0;32m    118\u001b[0m token_words \u001b[39m=\u001b[39m \u001b[39mself\u001b[39m\u001b[39m.\u001b[39mtokenize(text)\n\u001b[0;32m    119\u001b[0m token_words \u001b[39m=\u001b[39m \u001b[39mself\u001b[39m\u001b[39m.\u001b[39mto_lower(token_words)\n\u001b[1;32m--> 120\u001b[0m token_words \u001b[39m=\u001b[39m \u001b[39mself\u001b[39;49m\u001b[39m.\u001b[39;49mstem(token_words)\n\u001b[0;32m    121\u001b[0m \u001b[39m# token_words = self.delete_stopwords(token_words)\u001b[39;00m\n\u001b[0;32m    122\u001b[0m res\u001b[39m.\u001b[39mappend(token_words)\n",
      "File \u001b[1;32md:\\Software\\anaconda3\\envs\\pytorch_env\\lib\\MyKu\\processing.py:101\u001b[0m, in \u001b[0;36mPre_processing_tweets.stem\u001b[1;34m(self, token_words)\u001b[0m\n\u001b[0;32m     99\u001b[0m words_lematizer \u001b[39m=\u001b[39m []\n\u001b[0;32m    100\u001b[0m wnl \u001b[39m=\u001b[39m WordNetLemmatizer()\n\u001b[1;32m--> 101\u001b[0m \u001b[39mfor\u001b[39;00m word, tag \u001b[39min\u001b[39;00m token_words:\n\u001b[0;32m    102\u001b[0m     \u001b[39mif\u001b[39;00m tag\u001b[39m.\u001b[39mstartswith(\u001b[39m'\u001b[39m\u001b[39mNN\u001b[39m\u001b[39m'\u001b[39m):\n\u001b[0;32m    103\u001b[0m         word_lematizer \u001b[39m=\u001b[39m  wnl\u001b[39m.\u001b[39mlemmatize(word, pos\u001b[39m=\u001b[39m\u001b[39m'\u001b[39m\u001b[39mn\u001b[39m\u001b[39m'\u001b[39m)  \u001b[39m# n代表名词\u001b[39;00m\n",
      "\u001b[1;31mValueError\u001b[0m: too many values to unpack (expected 2)"
     ]
    }
   ],
   "source": [
    "batch_size = 32\n",
    "train_iter, test_iter, vocab = processing.load_exist2021_data(batch_size)\n",
    "embed_size, num_hiddens, num_layers = 300, 200, 5\n",
    "\n",
    "devices = d2l.try_all_gpus()\n",
    "net = BiRNN(len(vocab), embed_size, num_hiddens, num_layers)\n",
    "print(net.eval())\n",
    "def init_weights(m):\n",
    "    if type(m) == nn.Linear:\n",
    "        nn.init.xavier_normal_(m.weight)\n",
    "    if type(m) == nn.LSTM:\n",
    "        for param in m._flat_weights_names:\n",
    "            if \"weight\" in param:\n",
    "                nn.init.xavier_normal_(m._parameters[param])\n",
    "\n",
    "net.apply(init_weights)\n",
    "embeds = glove_embedding[vocab.idx_to_token]\n",
    "embeds.shape\n",
    "net.embedding.weight.data.copy_(embeds)\n",
    "net.embedding.weight.requires_grad = False\n",
    "\n",
    "lr, num_epochs = 0.0005, 20\n",
    "trainer = torch.optim.Adam(net.parameters(), lr=lr)\n",
    "loss = nn.CrossEntropyLoss(reduction=\"none\")\n",
    "training.train(net, train_iter, test_iter, loss, trainer, num_epochs, devices)\n"
   ]
  }
 ],
 "metadata": {
  "interpreter": {
   "hash": "4bbee185f428494c0f3f4eb26ca27cba894eb4f3d4a4ff826385edccebf850a3"
  },
  "kernelspec": {
   "display_name": "Python 3.8.13 ('pytorch_env')",
   "language": "python",
   "name": "python3"
  },
  "language_info": {
   "codemirror_mode": {
    "name": "ipython",
    "version": 3
   },
   "file_extension": ".py",
   "mimetype": "text/x-python",
   "name": "python",
   "nbconvert_exporter": "python",
   "pygments_lexer": "ipython3",
   "version": "3.8.13"
  },
  "orig_nbformat": 4
 },
 "nbformat": 4,
 "nbformat_minor": 2
}
