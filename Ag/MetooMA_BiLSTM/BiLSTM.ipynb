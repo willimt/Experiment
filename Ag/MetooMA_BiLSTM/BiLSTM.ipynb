{
 "cells": [
  {
   "cell_type": "code",
   "execution_count": 1,
   "metadata": {},
   "outputs": [],
   "source": [
    "import torch\n",
    "import math\n",
    "from d2l import torch as d2l\n",
    "from torch import nn\n",
    "import pandas as pd\n",
    "import sys\n",
    "sys.path.append(\"D:/Experiment\")\n",
    "from MyKu import training\n",
    "from MyKu import processing\n",
    "from tqdm import tqdm"
   ]
  },
  {
   "cell_type": "code",
   "execution_count": 29,
   "metadata": {},
   "outputs": [],
   "source": [
    "def get_train_data():\n",
    "    training_data = pd.read_csv('data\\\\EXIST2021_training.tsv', sep='\\t')\n",
    "    train_data = []\n",
    "    for index in range(3437):\n",
    "        items = training_data.iloc[index]\n",
    "        text = items['text']\n",
    "        text = processing.Pre_processing_tweets().clean_unuseful(text)\n",
    "        label = 1 if items['task1'] == 'sexist' else 0\n",
    "        train_data.append((text, label))\n",
    "    return train_data\n",
    "\n",
    "def get_test_data():\n",
    "    testing_data = pd.read_csv('data\\\\EXIST2021_test_labeled.tsv', sep='\\t')\n",
    "    test_data = []\n",
    "    for index in range(1000):\n",
    "        items = testing_data.iloc[index]\n",
    "        text = items['text']\n",
    "        text = processing.Pre_processing_tweets().clean_unuseful(text)\n",
    "        label = 1 if items['task1'] == 'sexist' else 0\n",
    "        test_data.append((text, label))\n",
    "    return test_data"
   ]
  },
  {
   "cell_type": "code",
   "execution_count": 3,
   "metadata": {},
   "outputs": [],
   "source": [
    "glove_embedding = processing.TokenEmbedding('glove.42b.300d')\n"
   ]
  },
  {
   "cell_type": "code",
   "execution_count": 30,
   "metadata": {},
   "outputs": [],
   "source": [
    "from torch.utils.data import Dataset, DataLoader\n",
    "tokenizer = processing.Pre_processing_tweets()\n",
    "class BiLSTMDataset(Dataset):\n",
    "    def __init__(self, dataset):\n",
    "        self.dataset = dataset\n",
    "        self.data_size = len(dataset)\n",
    "\n",
    "    def __len__(self):\n",
    "        return self.data_size\n",
    "\n",
    "    def __getitem__(self, index):\n",
    "        # 这里可以自行定义，Dataloader会使用__getitem__(self, index)获取数据\n",
    "        # 这里我设置 self.dataset[index] 规定了数据是按序号取得，序号是多少DataLoader自己算，用户不用操心\n",
    "        return self.dataset[index]\n",
    "\n",
    "\n",
    "def coffate_fn(examples):\n",
    "    inputs, targets = [], []\n",
    "    for sent, polar in examples:\n",
    "        inputs.append(sent)\n",
    "        targets.append(polar)\n",
    "    \n",
    "    # inputs = tokenizer(inputs,\n",
    "    #                    padding=True,\n",
    "    #                    truncation=True,\n",
    "    #                    return_tensors=\"pt\",\n",
    "    #                    max_length=80)\n",
    "    inputs = d2l.tokenize(inputs, token='word')\n",
    "    vocab = processing.Vocab(inputs, min_freq=3)\n",
    "    inputs = [d2l.truncate_pad(vocab[line], 80, vocab['<pad>']) for line in inputs]\n",
    "    inputs = torch.tensor(inputs)\n",
    "    targets = torch.tensor(targets)\n",
    "    return inputs, targets\n",
    "\n",
    "\n",
    "def load_data():\n",
    "    train_data = get_train_data()\n",
    "    test_data = get_test_data()\n",
    "    # train_data = tokenizer.tokenize_process(train_data[0])\n",
    "    # train_dataset = BiLSTMDataset(train_data)\n",
    "    # test_dataset = BiLSTMDataset(test_data)\n",
    "    return train_data, test_data\n"
   ]
  },
  {
   "cell_type": "code",
   "execution_count": 37,
   "metadata": {},
   "outputs": [],
   "source": [
    "class BiRNN(nn.Module):\n",
    "    def __init__(self, vocab_size, embed_size, num_hiddens, num_layers, **kwargs):\n",
    "        super(BiRNN, self).__init__(**kwargs)\n",
    "        self.embedding = nn.Embedding(vocab_size, embed_size)\n",
    "        self.encoder = nn.LSTM(embed_size, num_hiddens, num_layers=num_layers, bidirectional=True, dropout=0.5)\n",
    "        self.decoder = nn.Linear(num_hiddens * 4, 2)\n",
    "\n",
    "    def forward(self, inputs):\n",
    "        embeddings = self.embedding(inputs.T)\n",
    "        outputs, _ = self.encoder(embeddings)\n",
    "        encoding = torch.cat((outputs[0], outputs[-1]), dim=1)\n",
    "        outs = self.decoder(encoding)\n",
    "        return outs"
   ]
  },
  {
   "cell_type": "code",
   "execution_count": 65,
   "metadata": {},
   "outputs": [],
   "source": [
    "batch_size = 128\n",
    "device = torch.device(\"cuda\" if torch.cuda.is_available() else \"cpu\")\n",
    "\n",
    "train_data, test_data = load_data()\n",
    "train_dataset = BiLSTMDataset(train_data)\n",
    "test_dataset = BiLSTMDataset(test_data)\n",
    "train_dataloader = DataLoader(\n",
    "    train_dataset, batch_size=batch_size, collate_fn=coffate_fn, shuffle=True)\n",
    "test_dataloader = DataLoader(test_dataset, batch_size=100, collate_fn=coffate_fn)\n",
    "\n",
    "inputs = []\n",
    "for sent, polar in train_data:\n",
    "    inputs.append(sent)\n",
    "train_tokens = tokenizer.tokenize_process(inputs)\n",
    "vocab = processing.Vocab(train_tokens, min_freq=3)\n",
    "len(vocab)\n",
    "\n",
    "embed_size, num_hiddens, num_layers = 300, 100, 3\n",
    "\n",
    "net = BiRNN(len(vocab), embed_size, num_hiddens, num_layers)\n",
    "net.to(device)\n",
    "def init_weights(m):\n",
    "    if type(m) == nn.Linear:\n",
    "        nn.init.xavier_normal_(m.weight)\n",
    "    if type(m) == nn.LSTM:\n",
    "        for param in m._flat_weights_names:\n",
    "            if \"weight\" in param:\n",
    "                nn.init.xavier_normal_(m._parameters[param])\n",
    "\n",
    "\n",
    "net.apply(init_weights)\n",
    "\n",
    "embeds = glove_embedding[vocab.idx_to_token]\n",
    "embeds.shape\n",
    "net.embedding.weight.data.copy_(embeds)\n",
    "net.embedding.weight.requires_grad = False\n"
   ]
  },
  {
   "cell_type": "code",
   "execution_count": 69,
   "metadata": {},
   "outputs": [],
   "source": [
    "\n",
    "from sklearn import metrics\n",
    "def train(net, train_iter, loss, trainer, epoch, device):\n",
    "    net.train()\n",
    "    # 记录当前epoch的总loss\n",
    "    # net = nn.DataParallel(net, device_ids=devices).to(devices[0])\n",
    "    for batch in tqdm(train_iter, desc=f\"Training Epoch {epoch}\", colour='red'):\n",
    "        # tqdm(train_dataloader, desc=f\"Training Epoch {epoch}\") 会自动执行DataLoader的工作流程，\n",
    "        # 想要知道内部如何工作可以在debug时将断点打在 coffate_fn 函数内部，查看数据的处理过程\n",
    "        # 对batch中的每条tensor类型数据，都执行.to(device)，\n",
    "        # 因为模型和数据要在同一个设备上才能运行\n",
    "        inputs, targets = [x.to(device) for x in batch]\n",
    "        # 清除现有的梯度\n",
    "        trainer.zero_grad()\n",
    "        # 模型前向传播，model(inputs)等同于model.forward(inputs)\n",
    "        output = net(inputs)\n",
    "        # 计算损失，交叉熵损失计算可参考：https://zhuanlan.zhihu.com/p/159477597\n",
    "        l = loss(output, targets)\n",
    "        # 梯度反向传播\n",
    "        l.backward()\n",
    "        # 根据反向传播的值更新模型的参数\n",
    "        trainer.step()\n",
    "        # 统计总的损失，.item()方法用于取出tensor中的值\n",
    "\n",
    "def test(net, test_iter, epoch, device):\n",
    "    true_y, pred_y = [], []\n",
    "    for batch in tqdm(test_iter, desc=f\"Testing\", colour='green'):\n",
    "        inputs, targets = [x.to(device) for x in batch]\n",
    "        # with torch.no_grad(): 为固定写法，\n",
    "        # 这个代码块中的全部有关tensor的操作都不产生梯度。目的是节省时间和空间，不加也没事\n",
    "        with torch.no_grad():\n",
    "            output = net(inputs)\n",
    "            pred_y.extend(output.argmax(dim=1).tolist())\n",
    "            true_y.extend(targets.tolist())\n",
    "    # print(metrics.confusion_matrix(true_y, pred_y))\n",
    "    print(f'epochs : {epoch}\\n', metrics.confusion_matrix(\n",
    "        true_y, pred_y))\n",
    "    # print(f'epochs : {epoch}\\n', metrics.classification_report(\n",
    "    #     true_y, pred_y))\n",
    "    # print(metrics.classification_report(true_y, pred_y))\n",
    "    print(\n",
    "        f'Acc : {metrics.accuracy_score(true_y, pred_y)}\\t F1: {metrics.f1_score(true_y, pred_y, average=\"macro\")}')\n",
    "    # print(f'Acc : {metrics.accuracy_score(true_y, pred_y)}\\t F1: {metrics.f1_score(true_y, pred_y)}\\n',)\n"
   ]
  },
  {
   "cell_type": "code",
   "execution_count": 71,
   "metadata": {},
   "outputs": [
    {
     "name": "stderr",
     "output_type": "stream",
     "text": [
      "Training Epoch 1: 100%|\u001b[31m██████████\u001b[0m| 27/27 [00:01<00:00, 23.86it/s]\n",
      "Testing: 100%|\u001b[32m██████████\u001b[0m| 10/10 [00:00<00:00, 64.46it/s]\n"
     ]
    },
    {
     "name": "stdout",
     "output_type": "stream",
     "text": [
      "epochs : 1\n",
      " [[269 189]\n",
      " [275 267]]\n",
      "Acc : 0.536\t F1: 0.5350701402805611\n"
     ]
    },
    {
     "name": "stderr",
     "output_type": "stream",
     "text": [
      "Training Epoch 2: 100%|\u001b[31m██████████\u001b[0m| 27/27 [00:01<00:00, 26.42it/s]\n",
      "Testing: 100%|\u001b[32m██████████\u001b[0m| 10/10 [00:00<00:00, 68.47it/s]\n"
     ]
    },
    {
     "name": "stdout",
     "output_type": "stream",
     "text": [
      "epochs : 2\n",
      " [[318 140]\n",
      " [330 212]]\n",
      "Acc : 0.53\t F1: 0.4742729306487695\n"
     ]
    },
    {
     "name": "stderr",
     "output_type": "stream",
     "text": [
      "Training Epoch 3: 100%|\u001b[31m██████████\u001b[0m| 27/27 [00:00<00:00, 27.06it/s]\n",
      "Testing: 100%|\u001b[32m██████████\u001b[0m| 10/10 [00:00<00:00, 59.48it/s]\n"
     ]
    },
    {
     "name": "stdout",
     "output_type": "stream",
     "text": [
      "epochs : 3\n",
      " [[287 171]\n",
      " [295 247]]\n",
      "Acc : 0.534\t F1: 0.5145833333333333\n"
     ]
    },
    {
     "name": "stderr",
     "output_type": "stream",
     "text": [
      "Training Epoch 4: 100%|\u001b[31m██████████\u001b[0m| 27/27 [00:00<00:00, 27.26it/s]\n",
      "Testing: 100%|\u001b[32m██████████\u001b[0m| 10/10 [00:00<00:00, 68.43it/s]\n"
     ]
    },
    {
     "name": "stdout",
     "output_type": "stream",
     "text": [
      "epochs : 4\n",
      " [[325 133]\n",
      " [362 180]]\n",
      "Acc : 0.505\t F1: 0.42105263157894735\n"
     ]
    },
    {
     "name": "stderr",
     "output_type": "stream",
     "text": [
      "Training Epoch 5: 100%|\u001b[31m██████████\u001b[0m| 27/27 [00:00<00:00, 27.34it/s]\n",
      "Testing: 100%|\u001b[32m██████████\u001b[0m| 10/10 [00:00<00:00, 65.06it/s]\n"
     ]
    },
    {
     "name": "stdout",
     "output_type": "stream",
     "text": [
      "epochs : 5\n",
      " [[311 147]\n",
      " [322 220]]\n",
      "Acc : 0.531\t F1: 0.484048404840484\n"
     ]
    },
    {
     "name": "stderr",
     "output_type": "stream",
     "text": [
      "Training Epoch 6: 100%|\u001b[31m██████████\u001b[0m| 27/27 [00:00<00:00, 27.51it/s]\n",
      "Testing: 100%|\u001b[32m██████████\u001b[0m| 10/10 [00:00<00:00, 67.25it/s]\n"
     ]
    },
    {
     "name": "stdout",
     "output_type": "stream",
     "text": [
      "epochs : 6\n",
      " [[310 148]\n",
      " [322 220]]\n",
      "Acc : 0.53\t F1: 0.4835164835164835\n"
     ]
    },
    {
     "name": "stderr",
     "output_type": "stream",
     "text": [
      "Training Epoch 7: 100%|\u001b[31m██████████\u001b[0m| 27/27 [00:00<00:00, 27.02it/s]\n",
      "Testing: 100%|\u001b[32m██████████\u001b[0m| 10/10 [00:00<00:00, 67.51it/s]\n"
     ]
    },
    {
     "name": "stdout",
     "output_type": "stream",
     "text": [
      "epochs : 7\n",
      " [[302 156]\n",
      " [321 221]]\n",
      "Acc : 0.523\t F1: 0.48095756256800865\n"
     ]
    },
    {
     "name": "stderr",
     "output_type": "stream",
     "text": [
      "Training Epoch 8: 100%|\u001b[31m██████████\u001b[0m| 27/27 [00:00<00:00, 27.40it/s]\n",
      "Testing: 100%|\u001b[32m██████████\u001b[0m| 10/10 [00:00<00:00, 67.51it/s]\n"
     ]
    },
    {
     "name": "stdout",
     "output_type": "stream",
     "text": [
      "epochs : 8\n",
      " [[332 126]\n",
      " [360 182]]\n",
      "Acc : 0.514\t F1: 0.42823529411764705\n"
     ]
    },
    {
     "name": "stderr",
     "output_type": "stream",
     "text": [
      "Training Epoch 9: 100%|\u001b[31m██████████\u001b[0m| 27/27 [00:00<00:00, 27.68it/s]\n",
      "Testing: 100%|\u001b[32m██████████\u001b[0m| 10/10 [00:00<00:00, 68.43it/s]\n"
     ]
    },
    {
     "name": "stdout",
     "output_type": "stream",
     "text": [
      "epochs : 9\n",
      " [[302 156]\n",
      " [326 216]]\n",
      "Acc : 0.518\t F1: 0.47264770240700216\n"
     ]
    },
    {
     "name": "stderr",
     "output_type": "stream",
     "text": [
      "Training Epoch 10: 100%|\u001b[31m██████████\u001b[0m| 27/27 [00:00<00:00, 27.03it/s]\n",
      "Testing: 100%|\u001b[32m██████████\u001b[0m| 10/10 [00:00<00:00, 73.46it/s]\n"
     ]
    },
    {
     "name": "stdout",
     "output_type": "stream",
     "text": [
      "epochs : 10\n",
      " [[294 164]\n",
      " [319 223]]\n",
      "Acc : 0.517\t F1: 0.480086114101184\n"
     ]
    },
    {
     "name": "stderr",
     "output_type": "stream",
     "text": [
      "Training Epoch 11: 100%|\u001b[31m██████████\u001b[0m| 27/27 [00:01<00:00, 24.78it/s]\n",
      "Testing: 100%|\u001b[32m██████████\u001b[0m| 10/10 [00:00<00:00, 66.16it/s]\n"
     ]
    },
    {
     "name": "stdout",
     "output_type": "stream",
     "text": [
      "epochs : 11\n",
      " [[304 154]\n",
      " [317 225]]\n",
      "Acc : 0.529\t F1: 0.48859934853420195\n"
     ]
    },
    {
     "name": "stderr",
     "output_type": "stream",
     "text": [
      "Training Epoch 12: 100%|\u001b[31m██████████\u001b[0m| 27/27 [00:01<00:00, 24.61it/s]\n",
      "Testing: 100%|\u001b[32m██████████\u001b[0m| 10/10 [00:00<00:00, 65.73it/s]\n"
     ]
    },
    {
     "name": "stdout",
     "output_type": "stream",
     "text": [
      "epochs : 12\n",
      " [[318 140]\n",
      " [351 191]]\n",
      "Acc : 0.509\t F1: 0.43757159221076747\n"
     ]
    },
    {
     "name": "stderr",
     "output_type": "stream",
     "text": [
      "Training Epoch 13: 100%|\u001b[31m██████████\u001b[0m| 27/27 [00:01<00:00, 23.92it/s]\n",
      "Testing: 100%|\u001b[32m██████████\u001b[0m| 10/10 [00:00<00:00, 69.38it/s]\n"
     ]
    },
    {
     "name": "stdout",
     "output_type": "stream",
     "text": [
      "epochs : 13\n",
      " [[318 140]\n",
      " [346 196]]\n",
      "Acc : 0.514\t F1: 0.44646924829157175\n"
     ]
    },
    {
     "name": "stderr",
     "output_type": "stream",
     "text": [
      "Training Epoch 14: 100%|\u001b[31m██████████\u001b[0m| 27/27 [00:01<00:00, 24.84it/s]\n",
      "Testing: 100%|\u001b[32m██████████\u001b[0m| 10/10 [00:00<00:00, 70.36it/s]\n"
     ]
    },
    {
     "name": "stdout",
     "output_type": "stream",
     "text": [
      "epochs : 14\n",
      " [[259 199]\n",
      " [268 274]]\n",
      "Acc : 0.533\t F1: 0.5399014778325124\n"
     ]
    },
    {
     "name": "stderr",
     "output_type": "stream",
     "text": [
      "Training Epoch 15: 100%|\u001b[31m██████████\u001b[0m| 27/27 [00:01<00:00, 24.56it/s]\n",
      "Testing: 100%|\u001b[32m██████████\u001b[0m| 10/10 [00:00<00:00, 65.48it/s]\n"
     ]
    },
    {
     "name": "stdout",
     "output_type": "stream",
     "text": [
      "epochs : 15\n",
      " [[299 159]\n",
      " [314 228]]\n",
      "Acc : 0.527\t F1: 0.4908503767491927\n"
     ]
    },
    {
     "name": "stderr",
     "output_type": "stream",
     "text": [
      "Training Epoch 16: 100%|\u001b[31m██████████\u001b[0m| 27/27 [00:01<00:00, 25.41it/s]\n",
      "Testing: 100%|\u001b[32m██████████\u001b[0m| 10/10 [00:00<00:00, 71.36it/s]\n"
     ]
    },
    {
     "name": "stdout",
     "output_type": "stream",
     "text": [
      "epochs : 16\n",
      " [[320 138]\n",
      " [344 198]]\n",
      "Acc : 0.518\t F1: 0.4510250569476082\n"
     ]
    },
    {
     "name": "stderr",
     "output_type": "stream",
     "text": [
      "Training Epoch 17: 100%|\u001b[31m██████████\u001b[0m| 27/27 [00:01<00:00, 25.71it/s]\n",
      "Testing: 100%|\u001b[32m██████████\u001b[0m| 10/10 [00:00<00:00, 72.40it/s]\n"
     ]
    },
    {
     "name": "stdout",
     "output_type": "stream",
     "text": [
      "epochs : 17\n",
      " [[291 167]\n",
      " [308 234]]\n",
      "Acc : 0.525\t F1: 0.496288441145281\n"
     ]
    },
    {
     "name": "stderr",
     "output_type": "stream",
     "text": [
      "Training Epoch 18: 100%|\u001b[31m██████████\u001b[0m| 27/27 [00:01<00:00, 25.75it/s]\n",
      "Testing: 100%|\u001b[32m██████████\u001b[0m| 10/10 [00:00<00:00, 72.40it/s]\n"
     ]
    },
    {
     "name": "stdout",
     "output_type": "stream",
     "text": [
      "epochs : 18\n",
      " [[296 162]\n",
      " [303 239]]\n",
      "Acc : 0.535\t F1: 0.5068928950159067\n"
     ]
    },
    {
     "name": "stderr",
     "output_type": "stream",
     "text": [
      "Training Epoch 19: 100%|\u001b[31m██████████\u001b[0m| 27/27 [00:01<00:00, 24.56it/s]\n",
      "Testing: 100%|\u001b[32m██████████\u001b[0m| 10/10 [00:00<00:00, 71.88it/s]\n"
     ]
    },
    {
     "name": "stdout",
     "output_type": "stream",
     "text": [
      "epochs : 19\n",
      " [[292 166]\n",
      " [315 227]]\n",
      "Acc : 0.519\t F1: 0.48556149732620324\n"
     ]
    },
    {
     "name": "stderr",
     "output_type": "stream",
     "text": [
      "Training Epoch 20: 100%|\u001b[31m██████████\u001b[0m| 27/27 [00:01<00:00, 25.56it/s]\n",
      "Testing: 100%|\u001b[32m██████████\u001b[0m| 10/10 [00:00<00:00, 71.59it/s]"
     ]
    },
    {
     "name": "stdout",
     "output_type": "stream",
     "text": [
      "epochs : 20\n",
      " [[319 139]\n",
      " [352 190]]\n",
      "Acc : 0.509\t F1: 0.4362801377726751\n"
     ]
    },
    {
     "name": "stderr",
     "output_type": "stream",
     "text": [
      "\n"
     ]
    }
   ],
   "source": [
    "lr, num_epochs = 0.0001, 20\n",
    "trainer = torch.optim.Adam(net.parameters(), lr=lr)\n",
    "loss = nn.CrossEntropyLoss()\n",
    "for epoch in range(1, num_epochs + 1):\n",
    "    train(net, train_dataloader, loss, trainer, epoch, device)\n",
    "    test(net, test_dataloader, epoch, device)\n"
   ]
  },
  {
   "cell_type": "code",
   "execution_count": 26,
   "metadata": {},
   "outputs": [
    {
     "name": "stdout",
     "output_type": "stream",
     "text": [
      "[0, 9, 2, 0, 0, 3, 34, 0, 11, 5, 35, 0, 3, 0, 0, 12, 0, 0, 47, 0, 13, 0, 0, 0, 0, 17, 0, 0, 0, 5, 0, 17, 3, 0, 36, 11, 18, 5, 0, 48, 17, 0, 6, 0, 3, 0, 3, 34, 0, 26, 37, 49, 0, 0, 0, 0, 0, 0, 0, 0, 0, 0, 0, 0, 0, 0, 0, 0, 0, 0, 0, 0, 0, 0, 0, 0, 0, 0, 0, 0]\n",
      "['<unk>', 'women', 'to', '<unk>', '<unk>', 'a', 'its', '<unk>', 'in', 'you', 'if', '<unk>', 'a', '<unk>', '<unk>', 'that', '<unk>', '<unk>', 'no', '<unk>', 'it', '<unk>', '<unk>', '<unk>', '<unk>', 'this', '<unk>', '<unk>', '<unk>', 'you', '<unk>', 'this', 'a', '<unk>', 'woman', 'in', 'me', 'you', '<unk>', 'what', 'this', '<unk>', 'i', '<unk>', 'a', '<unk>', 'a', 'its', '<unk>', 'dont', 'was', 'when', '<unk>', '<unk>', '<unk>', '<unk>', '<unk>', '<unk>', '<unk>', '<unk>', '<unk>', '<unk>', '<unk>', '<unk>', '<unk>', '<unk>', '<unk>', '<unk>', '<unk>', '<unk>', '<unk>', '<unk>', '<unk>', '<unk>', '<unk>', '<unk>', '<unk>', '<unk>', '<unk>', '<unk>']\n"
     ]
    }
   ],
   "source": [
    "\n",
    "temp = []\n",
    "for index in train_dataloader:\n",
    "    temp = index[0][0]\n",
    "    break\n",
    "\n",
    "print(temp.tolist())\n",
    "print(vocab.to_tokens(temp.tolist()))"
   ]
  },
  {
   "cell_type": "code",
   "execution_count": 24,
   "metadata": {},
   "outputs": [],
   "source": [
    "import torch\n",
    "X = torch.tensor([[0.9,0.1],[0.4, 0.6]])\n",
    "import numpy as np"
   ]
  },
  {
   "cell_type": "code",
   "execution_count": 26,
   "metadata": {},
   "outputs": [],
   "source": [
    "\n",
    "\n",
    "from d2l import torch as d2l\n",
    "device = d2l.try_gpu()\n",
    "tt = X.to(device)\n",
    "tt = np.argmax(tt.cpu(), axis=1)\n",
    "y =  torch.tensor([1, 1])\n",
    "y = y.to(device)\n"
   ]
  },
  {
   "cell_type": "code",
   "execution_count": 23,
   "metadata": {},
   "outputs": [
    {
     "data": {
      "text/plain": [
       "0.6666666666666666"
      ]
     },
     "execution_count": 23,
     "metadata": {},
     "output_type": "execute_result"
    }
   ],
   "source": [
    "from sklearn import metrics\n",
    "metrics.f1_score(tt.cpu().numpy(), y.cpu().numpy())"
   ]
  },
  {
   "cell_type": "code",
   "execution_count": 6,
   "metadata": {},
   "outputs": [
    {
     "data": {
      "text/plain": [
       "([12, 12, 12], [11, 11, 11], [11, 1, 1])"
      ]
     },
     "execution_count": 6,
     "metadata": {},
     "output_type": "execute_result"
    }
   ],
   "source": [
    "def sldd(tokens):\n",
    "    return [12,12,12], [11,11,11]\n",
    "\n",
    "ss = sldd(12)\n",
    "ss + ([11,1,1],)"
   ]
  }
 ],
 "metadata": {
  "interpreter": {
   "hash": "4bbee185f428494c0f3f4eb26ca27cba894eb4f3d4a4ff826385edccebf850a3"
  },
  "kernelspec": {
   "display_name": "Python 3.8.13 ('pytorch_env')",
   "language": "python",
   "name": "python3"
  },
  "language_info": {
   "codemirror_mode": {
    "name": "ipython",
    "version": 3
   },
   "file_extension": ".py",
   "mimetype": "text/x-python",
   "name": "python",
   "nbconvert_exporter": "python",
   "pygments_lexer": "ipython3",
   "version": "3.8.13"
  },
  "orig_nbformat": 4
 },
 "nbformat": 4,
 "nbformat_minor": 2
}
